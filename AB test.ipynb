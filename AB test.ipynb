{
 "cells": [
  {
   "cell_type": "code",
   "execution_count": 1,
   "id": "48818d13",
   "metadata": {},
   "outputs": [],
   "source": [
    "#importer des bibliothèques \n",
    "import pandas as pd\n",
    "import numpy as np\n",
    "import random\n",
    "import matplotlib as mpl\n",
    "import matplotlib.pyplot as plt\n",
    "import seaborn as sns\n",
    "%matplotlib inline\n",
    "random.seed(42)"
   ]
  },
  {
   "cell_type": "code",
   "execution_count": 2,
   "id": "fe5f968a",
   "metadata": {},
   "outputs": [
    {
     "data": {
      "text/html": [
       "<div>\n",
       "<style scoped>\n",
       "    .dataframe tbody tr th:only-of-type {\n",
       "        vertical-align: middle;\n",
       "    }\n",
       "\n",
       "    .dataframe tbody tr th {\n",
       "        vertical-align: top;\n",
       "    }\n",
       "\n",
       "    .dataframe thead th {\n",
       "        text-align: right;\n",
       "    }\n",
       "</style>\n",
       "<table border=\"1\" class=\"dataframe\">\n",
       "  <thead>\n",
       "    <tr style=\"text-align: right;\">\n",
       "      <th></th>\n",
       "      <th>send_date</th>\n",
       "      <th>member_id</th>\n",
       "      <th>ab_group</th>\n",
       "      <th>member_registration_date</th>\n",
       "      <th>member_age_group</th>\n",
       "      <th>segmentation</th>\n",
       "      <th>bool_open</th>\n",
       "      <th>bool_click</th>\n",
       "      <th>bool_conversion</th>\n",
       "    </tr>\n",
       "  </thead>\n",
       "  <tbody>\n",
       "    <tr>\n",
       "      <th>0</th>\n",
       "      <td>2023-11-21</td>\n",
       "      <td>56501568</td>\n",
       "      <td>A</td>\n",
       "      <td>2022-03-16</td>\n",
       "      <td>NaN</td>\n",
       "      <td>G</td>\n",
       "      <td>0</td>\n",
       "      <td>0</td>\n",
       "      <td>0</td>\n",
       "    </tr>\n",
       "    <tr>\n",
       "      <th>1</th>\n",
       "      <td>2023-11-24</td>\n",
       "      <td>6007387</td>\n",
       "      <td>A</td>\n",
       "      <td>2010-07-29</td>\n",
       "      <td>&gt;= 50</td>\n",
       "      <td>A</td>\n",
       "      <td>1</td>\n",
       "      <td>1</td>\n",
       "      <td>1</td>\n",
       "    </tr>\n",
       "    <tr>\n",
       "      <th>2</th>\n",
       "      <td>2023-11-21</td>\n",
       "      <td>54828940</td>\n",
       "      <td>A</td>\n",
       "      <td>2021-09-19</td>\n",
       "      <td>&lt; 25</td>\n",
       "      <td>G</td>\n",
       "      <td>0</td>\n",
       "      <td>0</td>\n",
       "      <td>0</td>\n",
       "    </tr>\n",
       "    <tr>\n",
       "      <th>3</th>\n",
       "      <td>2023-11-23</td>\n",
       "      <td>58126789</td>\n",
       "      <td>A</td>\n",
       "      <td>2022-10-15</td>\n",
       "      <td>NaN</td>\n",
       "      <td>H</td>\n",
       "      <td>0</td>\n",
       "      <td>0</td>\n",
       "      <td>0</td>\n",
       "    </tr>\n",
       "    <tr>\n",
       "      <th>4</th>\n",
       "      <td>2023-11-22</td>\n",
       "      <td>9210438</td>\n",
       "      <td>A</td>\n",
       "      <td>2011-09-26</td>\n",
       "      <td>&gt;= 50</td>\n",
       "      <td>G</td>\n",
       "      <td>1</td>\n",
       "      <td>1</td>\n",
       "      <td>0</td>\n",
       "    </tr>\n",
       "    <tr>\n",
       "      <th>...</th>\n",
       "      <td>...</td>\n",
       "      <td>...</td>\n",
       "      <td>...</td>\n",
       "      <td>...</td>\n",
       "      <td>...</td>\n",
       "      <td>...</td>\n",
       "      <td>...</td>\n",
       "      <td>...</td>\n",
       "      <td>...</td>\n",
       "    </tr>\n",
       "    <tr>\n",
       "      <th>100710</th>\n",
       "      <td>2023-11-24</td>\n",
       "      <td>46485665</td>\n",
       "      <td>B</td>\n",
       "      <td>2020-12-14</td>\n",
       "      <td>NaN</td>\n",
       "      <td>E</td>\n",
       "      <td>0</td>\n",
       "      <td>0</td>\n",
       "      <td>0</td>\n",
       "    </tr>\n",
       "    <tr>\n",
       "      <th>100711</th>\n",
       "      <td>2023-11-20</td>\n",
       "      <td>22833956</td>\n",
       "      <td>B</td>\n",
       "      <td>2015-05-23</td>\n",
       "      <td>NaN</td>\n",
       "      <td>H</td>\n",
       "      <td>0</td>\n",
       "      <td>0</td>\n",
       "      <td>0</td>\n",
       "    </tr>\n",
       "    <tr>\n",
       "      <th>100712</th>\n",
       "      <td>2023-11-20</td>\n",
       "      <td>60961706</td>\n",
       "      <td>B</td>\n",
       "      <td>2023-09-08</td>\n",
       "      <td>25 - 34</td>\n",
       "      <td>H</td>\n",
       "      <td>0</td>\n",
       "      <td>0</td>\n",
       "      <td>0</td>\n",
       "    </tr>\n",
       "    <tr>\n",
       "      <th>100713</th>\n",
       "      <td>2023-11-22</td>\n",
       "      <td>58596674</td>\n",
       "      <td>B</td>\n",
       "      <td>2022-11-23</td>\n",
       "      <td>35 - 49</td>\n",
       "      <td>F</td>\n",
       "      <td>0</td>\n",
       "      <td>0</td>\n",
       "      <td>0</td>\n",
       "    </tr>\n",
       "    <tr>\n",
       "      <th>100714</th>\n",
       "      <td>2023-11-23</td>\n",
       "      <td>19351496</td>\n",
       "      <td>B</td>\n",
       "      <td>2014-07-20</td>\n",
       "      <td>25 - 34</td>\n",
       "      <td>F</td>\n",
       "      <td>1</td>\n",
       "      <td>0</td>\n",
       "      <td>0</td>\n",
       "    </tr>\n",
       "  </tbody>\n",
       "</table>\n",
       "<p>100715 rows × 9 columns</p>\n",
       "</div>"
      ],
      "text/plain": [
       "        send_date  member_id ab_group member_registration_date  \\\n",
       "0      2023-11-21   56501568        A               2022-03-16   \n",
       "1      2023-11-24    6007387        A               2010-07-29   \n",
       "2      2023-11-21   54828940        A               2021-09-19   \n",
       "3      2023-11-23   58126789        A               2022-10-15   \n",
       "4      2023-11-22    9210438        A               2011-09-26   \n",
       "...           ...        ...      ...                      ...   \n",
       "100710 2023-11-24   46485665        B               2020-12-14   \n",
       "100711 2023-11-20   22833956        B               2015-05-23   \n",
       "100712 2023-11-20   60961706        B               2023-09-08   \n",
       "100713 2023-11-22   58596674        B               2022-11-23   \n",
       "100714 2023-11-23   19351496        B               2014-07-20   \n",
       "\n",
       "       member_age_group segmentation  bool_open  bool_click  bool_conversion  \n",
       "0                   NaN            G          0           0                0  \n",
       "1                 >= 50            A          1           1                1  \n",
       "2                  < 25            G          0           0                0  \n",
       "3                   NaN            H          0           0                0  \n",
       "4                 >= 50            G          1           1                0  \n",
       "...                 ...          ...        ...         ...              ...  \n",
       "100710              NaN            E          0           0                0  \n",
       "100711              NaN            H          0           0                0  \n",
       "100712          25 - 34            H          0           0                0  \n",
       "100713          35 - 49            F          0           0                0  \n",
       "100714          25 - 34            F          1           0                0  \n",
       "\n",
       "[100715 rows x 9 columns]"
      ]
     },
     "execution_count": 2,
     "metadata": {},
     "output_type": "execute_result"
    }
   ],
   "source": [
    "# Exploration des données \n",
    "df = pd.read_excel('DONNEES - AB test.xlsx')\n",
    "df"
   ]
  },
  {
   "cell_type": "markdown",
   "id": "c9d0e60c",
   "metadata": {},
   "source": [
    "Groupe A = 50% de la population : groupe sur lequel ke nouveau format est testé\n",
    "Groupe B = 50% de la population : groupe temoin, avec le format actuel"
   ]
  },
  {
   "cell_type": "code",
   "execution_count": 3,
   "id": "7a86c00d",
   "metadata": {},
   "outputs": [
    {
     "data": {
      "text/plain": [
       "(100715, 9)"
      ]
     },
     "execution_count": 3,
     "metadata": {},
     "output_type": "execute_result"
    }
   ],
   "source": [
    "df.shape"
   ]
  },
  {
   "cell_type": "code",
   "execution_count": 4,
   "id": "39cf1ca7",
   "metadata": {},
   "outputs": [
    {
     "name": "stdout",
     "output_type": "stream",
     "text": [
      "Is NA?\n",
      "send_date                       0\n",
      "member_id                       0\n",
      "ab_group                        0\n",
      "member_registration_date        0\n",
      "member_age_group            34184\n",
      "segmentation                    0\n",
      "bool_open                       0\n",
      "bool_click                      0\n",
      "bool_conversion                 0\n",
      "dtype: int64\n",
      "Is NULL?\n",
      "send_date                       0\n",
      "member_id                       0\n",
      "ab_group                        0\n",
      "member_registration_date        0\n",
      "member_age_group            34184\n",
      "segmentation                    0\n",
      "bool_open                       0\n",
      "bool_click                      0\n",
      "bool_conversion                 0\n",
      "dtype: int64\n"
     ]
    }
   ],
   "source": [
    "print(\"Is NA?\")\n",
    "print(df.isna().sum())\n",
    "print(\"Is NULL?\")\n",
    "print(df.isnull().sum())"
   ]
  },
  {
   "cell_type": "code",
   "execution_count": 5,
   "id": "d593bd7c",
   "metadata": {},
   "outputs": [
    {
     "name": "stderr",
     "output_type": "stream",
     "text": [
      "<ipython-input-5-174ba9bf1a5c>:1: FutureWarning: Treating datetime data as categorical rather than numeric in `.describe` is deprecated and will be removed in a future version of pandas. Specify `datetime_is_numeric=True` to silence this warning and adopt the future behavior now.\n",
      "  df.describe(include='all')\n",
      "<ipython-input-5-174ba9bf1a5c>:1: FutureWarning: Treating datetime data as categorical rather than numeric in `.describe` is deprecated and will be removed in a future version of pandas. Specify `datetime_is_numeric=True` to silence this warning and adopt the future behavior now.\n",
      "  df.describe(include='all')\n"
     ]
    },
    {
     "data": {
      "text/html": [
       "<div>\n",
       "<style scoped>\n",
       "    .dataframe tbody tr th:only-of-type {\n",
       "        vertical-align: middle;\n",
       "    }\n",
       "\n",
       "    .dataframe tbody tr th {\n",
       "        vertical-align: top;\n",
       "    }\n",
       "\n",
       "    .dataframe thead th {\n",
       "        text-align: right;\n",
       "    }\n",
       "</style>\n",
       "<table border=\"1\" class=\"dataframe\">\n",
       "  <thead>\n",
       "    <tr style=\"text-align: right;\">\n",
       "      <th></th>\n",
       "      <th>send_date</th>\n",
       "      <th>member_id</th>\n",
       "      <th>ab_group</th>\n",
       "      <th>member_registration_date</th>\n",
       "      <th>member_age_group</th>\n",
       "      <th>segmentation</th>\n",
       "      <th>bool_open</th>\n",
       "      <th>bool_click</th>\n",
       "      <th>bool_conversion</th>\n",
       "    </tr>\n",
       "  </thead>\n",
       "  <tbody>\n",
       "    <tr>\n",
       "      <th>count</th>\n",
       "      <td>100715</td>\n",
       "      <td>1.007150e+05</td>\n",
       "      <td>100715</td>\n",
       "      <td>100715</td>\n",
       "      <td>66531</td>\n",
       "      <td>100715</td>\n",
       "      <td>100715.000000</td>\n",
       "      <td>100715.000000</td>\n",
       "      <td>100715.000000</td>\n",
       "    </tr>\n",
       "    <tr>\n",
       "      <th>unique</th>\n",
       "      <td>7</td>\n",
       "      <td>NaN</td>\n",
       "      <td>2</td>\n",
       "      <td>6100</td>\n",
       "      <td>4</td>\n",
       "      <td>12</td>\n",
       "      <td>NaN</td>\n",
       "      <td>NaN</td>\n",
       "      <td>NaN</td>\n",
       "    </tr>\n",
       "    <tr>\n",
       "      <th>top</th>\n",
       "      <td>2023-11-22 00:00:00</td>\n",
       "      <td>NaN</td>\n",
       "      <td>B</td>\n",
       "      <td>2010-01-01 00:00:00</td>\n",
       "      <td>35 - 49</td>\n",
       "      <td>H</td>\n",
       "      <td>NaN</td>\n",
       "      <td>NaN</td>\n",
       "      <td>NaN</td>\n",
       "    </tr>\n",
       "    <tr>\n",
       "      <th>freq</th>\n",
       "      <td>14498</td>\n",
       "      <td>NaN</td>\n",
       "      <td>50875</td>\n",
       "      <td>289</td>\n",
       "      <td>21854</td>\n",
       "      <td>38827</td>\n",
       "      <td>NaN</td>\n",
       "      <td>NaN</td>\n",
       "      <td>NaN</td>\n",
       "    </tr>\n",
       "    <tr>\n",
       "      <th>first</th>\n",
       "      <td>2023-11-19 00:00:00</td>\n",
       "      <td>NaN</td>\n",
       "      <td>NaN</td>\n",
       "      <td>2006-10-11 00:00:00</td>\n",
       "      <td>NaN</td>\n",
       "      <td>NaN</td>\n",
       "      <td>NaN</td>\n",
       "      <td>NaN</td>\n",
       "      <td>NaN</td>\n",
       "    </tr>\n",
       "    <tr>\n",
       "      <th>last</th>\n",
       "      <td>2023-11-25 00:00:00</td>\n",
       "      <td>NaN</td>\n",
       "      <td>NaN</td>\n",
       "      <td>2023-10-31 00:00:00</td>\n",
       "      <td>NaN</td>\n",
       "      <td>NaN</td>\n",
       "      <td>NaN</td>\n",
       "      <td>NaN</td>\n",
       "      <td>NaN</td>\n",
       "    </tr>\n",
       "    <tr>\n",
       "      <th>mean</th>\n",
       "      <td>NaN</td>\n",
       "      <td>3.927145e+07</td>\n",
       "      <td>NaN</td>\n",
       "      <td>NaN</td>\n",
       "      <td>NaN</td>\n",
       "      <td>NaN</td>\n",
       "      <td>0.337368</td>\n",
       "      <td>0.074299</td>\n",
       "      <td>0.037244</td>\n",
       "    </tr>\n",
       "    <tr>\n",
       "      <th>std</th>\n",
       "      <td>NaN</td>\n",
       "      <td>1.936400e+07</td>\n",
       "      <td>NaN</td>\n",
       "      <td>NaN</td>\n",
       "      <td>NaN</td>\n",
       "      <td>NaN</td>\n",
       "      <td>0.472814</td>\n",
       "      <td>0.262258</td>\n",
       "      <td>0.189359</td>\n",
       "    </tr>\n",
       "    <tr>\n",
       "      <th>min</th>\n",
       "      <td>NaN</td>\n",
       "      <td>1.153861e+06</td>\n",
       "      <td>NaN</td>\n",
       "      <td>NaN</td>\n",
       "      <td>NaN</td>\n",
       "      <td>NaN</td>\n",
       "      <td>0.000000</td>\n",
       "      <td>0.000000</td>\n",
       "      <td>0.000000</td>\n",
       "    </tr>\n",
       "    <tr>\n",
       "      <th>25%</th>\n",
       "      <td>NaN</td>\n",
       "      <td>2.293835e+07</td>\n",
       "      <td>NaN</td>\n",
       "      <td>NaN</td>\n",
       "      <td>NaN</td>\n",
       "      <td>NaN</td>\n",
       "      <td>0.000000</td>\n",
       "      <td>0.000000</td>\n",
       "      <td>0.000000</td>\n",
       "    </tr>\n",
       "    <tr>\n",
       "      <th>50%</th>\n",
       "      <td>NaN</td>\n",
       "      <td>4.394064e+07</td>\n",
       "      <td>NaN</td>\n",
       "      <td>NaN</td>\n",
       "      <td>NaN</td>\n",
       "      <td>NaN</td>\n",
       "      <td>0.000000</td>\n",
       "      <td>0.000000</td>\n",
       "      <td>0.000000</td>\n",
       "    </tr>\n",
       "    <tr>\n",
       "      <th>75%</th>\n",
       "      <td>NaN</td>\n",
       "      <td>5.819856e+07</td>\n",
       "      <td>NaN</td>\n",
       "      <td>NaN</td>\n",
       "      <td>NaN</td>\n",
       "      <td>NaN</td>\n",
       "      <td>1.000000</td>\n",
       "      <td>0.000000</td>\n",
       "      <td>0.000000</td>\n",
       "    </tr>\n",
       "    <tr>\n",
       "      <th>max</th>\n",
       "      <td>NaN</td>\n",
       "      <td>6.140631e+07</td>\n",
       "      <td>NaN</td>\n",
       "      <td>NaN</td>\n",
       "      <td>NaN</td>\n",
       "      <td>NaN</td>\n",
       "      <td>1.000000</td>\n",
       "      <td>1.000000</td>\n",
       "      <td>1.000000</td>\n",
       "    </tr>\n",
       "  </tbody>\n",
       "</table>\n",
       "</div>"
      ],
      "text/plain": [
       "                  send_date     member_id ab_group member_registration_date  \\\n",
       "count                100715  1.007150e+05   100715                   100715   \n",
       "unique                    7           NaN        2                     6100   \n",
       "top     2023-11-22 00:00:00           NaN        B      2010-01-01 00:00:00   \n",
       "freq                  14498           NaN    50875                      289   \n",
       "first   2023-11-19 00:00:00           NaN      NaN      2006-10-11 00:00:00   \n",
       "last    2023-11-25 00:00:00           NaN      NaN      2023-10-31 00:00:00   \n",
       "mean                    NaN  3.927145e+07      NaN                      NaN   \n",
       "std                     NaN  1.936400e+07      NaN                      NaN   \n",
       "min                     NaN  1.153861e+06      NaN                      NaN   \n",
       "25%                     NaN  2.293835e+07      NaN                      NaN   \n",
       "50%                     NaN  4.394064e+07      NaN                      NaN   \n",
       "75%                     NaN  5.819856e+07      NaN                      NaN   \n",
       "max                     NaN  6.140631e+07      NaN                      NaN   \n",
       "\n",
       "       member_age_group segmentation      bool_open     bool_click  \\\n",
       "count             66531       100715  100715.000000  100715.000000   \n",
       "unique                4           12            NaN            NaN   \n",
       "top             35 - 49            H            NaN            NaN   \n",
       "freq              21854        38827            NaN            NaN   \n",
       "first               NaN          NaN            NaN            NaN   \n",
       "last                NaN          NaN            NaN            NaN   \n",
       "mean                NaN          NaN       0.337368       0.074299   \n",
       "std                 NaN          NaN       0.472814       0.262258   \n",
       "min                 NaN          NaN       0.000000       0.000000   \n",
       "25%                 NaN          NaN       0.000000       0.000000   \n",
       "50%                 NaN          NaN       0.000000       0.000000   \n",
       "75%                 NaN          NaN       1.000000       0.000000   \n",
       "max                 NaN          NaN       1.000000       1.000000   \n",
       "\n",
       "        bool_conversion  \n",
       "count     100715.000000  \n",
       "unique              NaN  \n",
       "top                 NaN  \n",
       "freq                NaN  \n",
       "first               NaN  \n",
       "last                NaN  \n",
       "mean           0.037244  \n",
       "std            0.189359  \n",
       "min            0.000000  \n",
       "25%            0.000000  \n",
       "50%            0.000000  \n",
       "75%            0.000000  \n",
       "max            1.000000  "
      ]
     },
     "execution_count": 5,
     "metadata": {},
     "output_type": "execute_result"
    }
   ],
   "source": [
    "df.describe(include='all')"
   ]
  },
  {
   "cell_type": "code",
   "execution_count": 6,
   "id": "ca280498",
   "metadata": {},
   "outputs": [],
   "source": [
    "df.send_date = pd.to_datetime(df.send_date, format =\"%Y/%m/%d\")"
   ]
  },
  {
   "cell_type": "code",
   "execution_count": 7,
   "id": "3cb90e9d",
   "metadata": {},
   "outputs": [],
   "source": [
    "df['Jour_send_date'] = df['send_date'].dt.day_name()"
   ]
  },
  {
   "cell_type": "code",
   "execution_count": 8,
   "id": "992687ce",
   "metadata": {},
   "outputs": [],
   "source": [
    "Jours = {'Tuesday' : 'Mardi',  'Wednesday': 'Mercredi',  'Thursday': 'Jeudi',  'Friday' : 'Vendredi', 'Monday': 'Lundi',  'Saturday' : 'Samedi' }"
   ]
  },
  {
   "cell_type": "code",
   "execution_count": 9,
   "id": "22392f53",
   "metadata": {},
   "outputs": [
    {
     "data": {
      "text/html": [
       "<div>\n",
       "<style scoped>\n",
       "    .dataframe tbody tr th:only-of-type {\n",
       "        vertical-align: middle;\n",
       "    }\n",
       "\n",
       "    .dataframe tbody tr th {\n",
       "        vertical-align: top;\n",
       "    }\n",
       "\n",
       "    .dataframe thead th {\n",
       "        text-align: right;\n",
       "    }\n",
       "</style>\n",
       "<table border=\"1\" class=\"dataframe\">\n",
       "  <thead>\n",
       "    <tr style=\"text-align: right;\">\n",
       "      <th></th>\n",
       "      <th>send_date</th>\n",
       "      <th>member_id</th>\n",
       "      <th>ab_group</th>\n",
       "      <th>member_registration_date</th>\n",
       "      <th>member_age_group</th>\n",
       "      <th>segmentation</th>\n",
       "      <th>bool_open</th>\n",
       "      <th>bool_click</th>\n",
       "      <th>bool_conversion</th>\n",
       "      <th>Jour_send_date</th>\n",
       "    </tr>\n",
       "  </thead>\n",
       "  <tbody>\n",
       "    <tr>\n",
       "      <th>0</th>\n",
       "      <td>2023-11-21</td>\n",
       "      <td>56501568</td>\n",
       "      <td>A</td>\n",
       "      <td>2022-03-16</td>\n",
       "      <td>NaN</td>\n",
       "      <td>G</td>\n",
       "      <td>0</td>\n",
       "      <td>0</td>\n",
       "      <td>0</td>\n",
       "      <td>Mardi</td>\n",
       "    </tr>\n",
       "    <tr>\n",
       "      <th>1</th>\n",
       "      <td>2023-11-24</td>\n",
       "      <td>6007387</td>\n",
       "      <td>A</td>\n",
       "      <td>2010-07-29</td>\n",
       "      <td>&gt;= 50</td>\n",
       "      <td>A</td>\n",
       "      <td>1</td>\n",
       "      <td>1</td>\n",
       "      <td>1</td>\n",
       "      <td>Vendredi</td>\n",
       "    </tr>\n",
       "    <tr>\n",
       "      <th>2</th>\n",
       "      <td>2023-11-21</td>\n",
       "      <td>54828940</td>\n",
       "      <td>A</td>\n",
       "      <td>2021-09-19</td>\n",
       "      <td>&lt; 25</td>\n",
       "      <td>G</td>\n",
       "      <td>0</td>\n",
       "      <td>0</td>\n",
       "      <td>0</td>\n",
       "      <td>Mardi</td>\n",
       "    </tr>\n",
       "    <tr>\n",
       "      <th>3</th>\n",
       "      <td>2023-11-23</td>\n",
       "      <td>58126789</td>\n",
       "      <td>A</td>\n",
       "      <td>2022-10-15</td>\n",
       "      <td>NaN</td>\n",
       "      <td>H</td>\n",
       "      <td>0</td>\n",
       "      <td>0</td>\n",
       "      <td>0</td>\n",
       "      <td>Jeudi</td>\n",
       "    </tr>\n",
       "    <tr>\n",
       "      <th>4</th>\n",
       "      <td>2023-11-22</td>\n",
       "      <td>9210438</td>\n",
       "      <td>A</td>\n",
       "      <td>2011-09-26</td>\n",
       "      <td>&gt;= 50</td>\n",
       "      <td>G</td>\n",
       "      <td>1</td>\n",
       "      <td>1</td>\n",
       "      <td>0</td>\n",
       "      <td>Mercredi</td>\n",
       "    </tr>\n",
       "    <tr>\n",
       "      <th>...</th>\n",
       "      <td>...</td>\n",
       "      <td>...</td>\n",
       "      <td>...</td>\n",
       "      <td>...</td>\n",
       "      <td>...</td>\n",
       "      <td>...</td>\n",
       "      <td>...</td>\n",
       "      <td>...</td>\n",
       "      <td>...</td>\n",
       "      <td>...</td>\n",
       "    </tr>\n",
       "    <tr>\n",
       "      <th>100710</th>\n",
       "      <td>2023-11-24</td>\n",
       "      <td>46485665</td>\n",
       "      <td>B</td>\n",
       "      <td>2020-12-14</td>\n",
       "      <td>NaN</td>\n",
       "      <td>E</td>\n",
       "      <td>0</td>\n",
       "      <td>0</td>\n",
       "      <td>0</td>\n",
       "      <td>Vendredi</td>\n",
       "    </tr>\n",
       "    <tr>\n",
       "      <th>100711</th>\n",
       "      <td>2023-11-20</td>\n",
       "      <td>22833956</td>\n",
       "      <td>B</td>\n",
       "      <td>2015-05-23</td>\n",
       "      <td>NaN</td>\n",
       "      <td>H</td>\n",
       "      <td>0</td>\n",
       "      <td>0</td>\n",
       "      <td>0</td>\n",
       "      <td>Lundi</td>\n",
       "    </tr>\n",
       "    <tr>\n",
       "      <th>100712</th>\n",
       "      <td>2023-11-20</td>\n",
       "      <td>60961706</td>\n",
       "      <td>B</td>\n",
       "      <td>2023-09-08</td>\n",
       "      <td>25 - 34</td>\n",
       "      <td>H</td>\n",
       "      <td>0</td>\n",
       "      <td>0</td>\n",
       "      <td>0</td>\n",
       "      <td>Lundi</td>\n",
       "    </tr>\n",
       "    <tr>\n",
       "      <th>100713</th>\n",
       "      <td>2023-11-22</td>\n",
       "      <td>58596674</td>\n",
       "      <td>B</td>\n",
       "      <td>2022-11-23</td>\n",
       "      <td>35 - 49</td>\n",
       "      <td>F</td>\n",
       "      <td>0</td>\n",
       "      <td>0</td>\n",
       "      <td>0</td>\n",
       "      <td>Mercredi</td>\n",
       "    </tr>\n",
       "    <tr>\n",
       "      <th>100714</th>\n",
       "      <td>2023-11-23</td>\n",
       "      <td>19351496</td>\n",
       "      <td>B</td>\n",
       "      <td>2014-07-20</td>\n",
       "      <td>25 - 34</td>\n",
       "      <td>F</td>\n",
       "      <td>1</td>\n",
       "      <td>0</td>\n",
       "      <td>0</td>\n",
       "      <td>Jeudi</td>\n",
       "    </tr>\n",
       "  </tbody>\n",
       "</table>\n",
       "<p>100715 rows × 10 columns</p>\n",
       "</div>"
      ],
      "text/plain": [
       "        send_date  member_id ab_group member_registration_date  \\\n",
       "0      2023-11-21   56501568        A               2022-03-16   \n",
       "1      2023-11-24    6007387        A               2010-07-29   \n",
       "2      2023-11-21   54828940        A               2021-09-19   \n",
       "3      2023-11-23   58126789        A               2022-10-15   \n",
       "4      2023-11-22    9210438        A               2011-09-26   \n",
       "...           ...        ...      ...                      ...   \n",
       "100710 2023-11-24   46485665        B               2020-12-14   \n",
       "100711 2023-11-20   22833956        B               2015-05-23   \n",
       "100712 2023-11-20   60961706        B               2023-09-08   \n",
       "100713 2023-11-22   58596674        B               2022-11-23   \n",
       "100714 2023-11-23   19351496        B               2014-07-20   \n",
       "\n",
       "       member_age_group segmentation  bool_open  bool_click  bool_conversion  \\\n",
       "0                   NaN            G          0           0                0   \n",
       "1                 >= 50            A          1           1                1   \n",
       "2                  < 25            G          0           0                0   \n",
       "3                   NaN            H          0           0                0   \n",
       "4                 >= 50            G          1           1                0   \n",
       "...                 ...          ...        ...         ...              ...   \n",
       "100710              NaN            E          0           0                0   \n",
       "100711              NaN            H          0           0                0   \n",
       "100712          25 - 34            H          0           0                0   \n",
       "100713          35 - 49            F          0           0                0   \n",
       "100714          25 - 34            F          1           0                0   \n",
       "\n",
       "       Jour_send_date  \n",
       "0               Mardi  \n",
       "1            Vendredi  \n",
       "2               Mardi  \n",
       "3               Jeudi  \n",
       "4            Mercredi  \n",
       "...               ...  \n",
       "100710       Vendredi  \n",
       "100711          Lundi  \n",
       "100712          Lundi  \n",
       "100713       Mercredi  \n",
       "100714          Jeudi  \n",
       "\n",
       "[100715 rows x 10 columns]"
      ]
     },
     "execution_count": 9,
     "metadata": {},
     "output_type": "execute_result"
    }
   ],
   "source": [
    "df['Jour_send_date'] = df['Jour_send_date'].map(Jours)\n",
    "df"
   ]
  },
  {
   "cell_type": "code",
   "execution_count": null,
   "id": "c22a30c9",
   "metadata": {},
   "outputs": [],
   "source": []
  },
  {
   "cell_type": "code",
   "execution_count": 10,
   "id": "5533c688",
   "metadata": {},
   "outputs": [
    {
     "name": "stderr",
     "output_type": "stream",
     "text": [
      "/Users/elisetteossebi/opt/anaconda3/lib/python3.8/site-packages/seaborn/_decorators.py:36: FutureWarning: Pass the following variable as a keyword arg: x. From version 0.12, the only valid positional argument will be `data`, and passing other arguments without an explicit keyword will result in an error or misinterpretation.\n",
      "  warnings.warn(\n"
     ]
    },
    {
     "data": {
      "image/png": "[encoded data removed]",
      "text/plain": [
       "<Figure size 1296x576 with 2 Axes>"
      ]
     },
     "metadata": {
      "needs_background": "light"
     },
     "output_type": "display_data"
    }
   ],
   "source": [
    "labels = 'B', 'A'\n",
    "f,ax=plt.subplots(1,2,figsize=(18,8))\n",
    "df['ab_group'].value_counts().plot.pie(explode=[0,0.1],autopct='%1.1f%%',labels=labels,ax=ax[0],shadow=True)\n",
    "ax[0].set_title('Répartition des groupes')\n",
    "ax[0].set_ylabel('')\n",
    "sns.countplot('ab_group',data=df,ax=ax[1])\n",
    "ax[1].set_title('ab_group')\n",
    "plt.show()"
   ]
  },
  {
   "cell_type": "code",
   "execution_count": 11,
   "id": "6a9e2c61",
   "metadata": {},
   "outputs": [
    {
     "data": {
      "image/png": "[encoded data removed]",
      "text/plain": [
       "<Figure size 1080x432 with 1 Axes>"
      ]
     },
     "metadata": {
      "needs_background": "light"
     },
     "output_type": "display_data"
    },
    {
     "data": {
      "image/png": "[encoded data removed]",
      "text/plain": [
       "<Figure size 1080x432 with 1 Axes>"
      ]
     },
     "metadata": {
      "needs_background": "light"
     },
     "output_type": "display_data"
    },
    {
     "data": {
      "image/png": "[encoded data removed]",
      "text/plain": [
       "<Figure size 1080x432 with 1 Axes>"
      ]
     },
     "metadata": {
      "needs_background": "light"
     },
     "output_type": "display_data"
    }
   ],
   "source": [
    "columns = ['bool_open','bool_click','bool_conversion']\n",
    "for i in columns:\n",
    "    plt.figure(figsize=(15, 6))\n",
    "    sns.kdeplot(df[i],shade=True,hue=df['ab_group'])"
   ]
  },
  {
   "cell_type": "code",
   "execution_count": 12,
   "id": "1b7aa620",
   "metadata": {},
   "outputs": [
    {
     "name": "stderr",
     "output_type": "stream",
     "text": [
      "/Users/elisetteossebi/opt/anaconda3/lib/python3.8/site-packages/seaborn/_decorators.py:36: FutureWarning: Pass the following variable as a keyword arg: x. From version 0.12, the only valid positional argument will be `data`, and passing other arguments without an explicit keyword will result in an error or misinterpretation.\n",
      "  warnings.warn(\n",
      "/Users/elisetteossebi/opt/anaconda3/lib/python3.8/site-packages/seaborn/_decorators.py:36: FutureWarning: Pass the following variable as a keyword arg: x. From version 0.12, the only valid positional argument will be `data`, and passing other arguments without an explicit keyword will result in an error or misinterpretation.\n",
      "  warnings.warn(\n",
      "/Users/elisetteossebi/opt/anaconda3/lib/python3.8/site-packages/seaborn/_decorators.py:36: FutureWarning: Pass the following variable as a keyword arg: x. From version 0.12, the only valid positional argument will be `data`, and passing other arguments without an explicit keyword will result in an error or misinterpretation.\n",
      "  warnings.warn(\n"
     ]
    },
    {
     "data": {
      "image/png": "[encoded data removed]",
      "text/plain": [
       "<Figure size 1152x864 with 3 Axes>"
      ]
     },
     "metadata": {
      "needs_background": "light"
     },
     "output_type": "display_data"
    }
   ],
   "source": [
    "fig_data=['bool_open','bool_click','bool_conversion']\n",
    "q=1\n",
    "plt.figure(figsize=(16,12))\n",
    "for j in fig_data:\n",
    "    plt.subplot(2,3,q)\n",
    "    ax=sns.countplot(df[j],hue=df.ab_group, palette=['#D7263D','#27FB6B'])\n",
    "    plt.xlabel(j)\n",
    "    q+=1\n",
    "plt.show()"
   ]
  },
  {
   "cell_type": "code",
   "execution_count": 13,
   "id": "56f1705d",
   "metadata": {},
   "outputs": [
    {
     "data": {
      "text/html": [
       "<div>\n",
       "<style scoped>\n",
       "    .dataframe tbody tr th:only-of-type {\n",
       "        vertical-align: middle;\n",
       "    }\n",
       "\n",
       "    .dataframe tbody tr th {\n",
       "        vertical-align: top;\n",
       "    }\n",
       "\n",
       "    .dataframe thead th {\n",
       "        text-align: right;\n",
       "    }\n",
       "</style>\n",
       "<table border=\"1\" class=\"dataframe\">\n",
       "  <thead>\n",
       "    <tr style=\"text-align: right;\">\n",
       "      <th></th>\n",
       "      <th>ab_group</th>\n",
       "      <th>bool_open</th>\n",
       "      <th>bool_click</th>\n",
       "      <th>bool_conversion</th>\n",
       "    </tr>\n",
       "  </thead>\n",
       "  <tbody>\n",
       "    <tr>\n",
       "      <th>0</th>\n",
       "      <td>A</td>\n",
       "      <td>0</td>\n",
       "      <td>0</td>\n",
       "      <td>0</td>\n",
       "    </tr>\n",
       "    <tr>\n",
       "      <th>1</th>\n",
       "      <td>A</td>\n",
       "      <td>1</td>\n",
       "      <td>1</td>\n",
       "      <td>1</td>\n",
       "    </tr>\n",
       "    <tr>\n",
       "      <th>2</th>\n",
       "      <td>A</td>\n",
       "      <td>0</td>\n",
       "      <td>0</td>\n",
       "      <td>0</td>\n",
       "    </tr>\n",
       "    <tr>\n",
       "      <th>3</th>\n",
       "      <td>A</td>\n",
       "      <td>0</td>\n",
       "      <td>0</td>\n",
       "      <td>0</td>\n",
       "    </tr>\n",
       "    <tr>\n",
       "      <th>4</th>\n",
       "      <td>A</td>\n",
       "      <td>1</td>\n",
       "      <td>1</td>\n",
       "      <td>0</td>\n",
       "    </tr>\n",
       "    <tr>\n",
       "      <th>...</th>\n",
       "      <td>...</td>\n",
       "      <td>...</td>\n",
       "      <td>...</td>\n",
       "      <td>...</td>\n",
       "    </tr>\n",
       "    <tr>\n",
       "      <th>100710</th>\n",
       "      <td>B</td>\n",
       "      <td>0</td>\n",
       "      <td>0</td>\n",
       "      <td>0</td>\n",
       "    </tr>\n",
       "    <tr>\n",
       "      <th>100711</th>\n",
       "      <td>B</td>\n",
       "      <td>0</td>\n",
       "      <td>0</td>\n",
       "      <td>0</td>\n",
       "    </tr>\n",
       "    <tr>\n",
       "      <th>100712</th>\n",
       "      <td>B</td>\n",
       "      <td>0</td>\n",
       "      <td>0</td>\n",
       "      <td>0</td>\n",
       "    </tr>\n",
       "    <tr>\n",
       "      <th>100713</th>\n",
       "      <td>B</td>\n",
       "      <td>0</td>\n",
       "      <td>0</td>\n",
       "      <td>0</td>\n",
       "    </tr>\n",
       "    <tr>\n",
       "      <th>100714</th>\n",
       "      <td>B</td>\n",
       "      <td>1</td>\n",
       "      <td>0</td>\n",
       "      <td>0</td>\n",
       "    </tr>\n",
       "  </tbody>\n",
       "</table>\n",
       "<p>100715 rows × 4 columns</p>\n",
       "</div>"
      ],
      "text/plain": [
       "       ab_group  bool_open  bool_click  bool_conversion\n",
       "0             A          0           0                0\n",
       "1             A          1           1                1\n",
       "2             A          0           0                0\n",
       "3             A          0           0                0\n",
       "4             A          1           1                0\n",
       "...         ...        ...         ...              ...\n",
       "100710        B          0           0                0\n",
       "100711        B          0           0                0\n",
       "100712        B          0           0                0\n",
       "100713        B          0           0                0\n",
       "100714        B          1           0                0\n",
       "\n",
       "[100715 rows x 4 columns]"
      ]
     },
     "execution_count": 13,
     "metadata": {},
     "output_type": "execute_result"
    }
   ],
   "source": [
    "data = df.drop(['send_date', 'member_id','member_registration_date',\n",
    "       'member_age_group', 'segmentation','Jour_send_date'], axis=1)\n",
    "data"
   ]
  },
  {
   "cell_type": "code",
   "execution_count": 14,
   "id": "4c90b690",
   "metadata": {},
   "outputs": [
    {
     "data": {
      "text/html": [
       "<div>\n",
       "<style scoped>\n",
       "    .dataframe tbody tr th:only-of-type {\n",
       "        vertical-align: middle;\n",
       "    }\n",
       "\n",
       "    .dataframe tbody tr th {\n",
       "        vertical-align: top;\n",
       "    }\n",
       "\n",
       "    .dataframe thead th {\n",
       "        text-align: right;\n",
       "    }\n",
       "</style>\n",
       "<table border=\"1\" class=\"dataframe\">\n",
       "  <thead>\n",
       "    <tr style=\"text-align: right;\">\n",
       "      <th></th>\n",
       "      <th>bool_open</th>\n",
       "      <th>bool_click</th>\n",
       "      <th>bool_conversion</th>\n",
       "    </tr>\n",
       "  </thead>\n",
       "  <tbody>\n",
       "    <tr>\n",
       "      <th>bool_open</th>\n",
       "      <td>1.000000</td>\n",
       "      <td>0.397045</td>\n",
       "      <td>0.275647</td>\n",
       "    </tr>\n",
       "    <tr>\n",
       "      <th>bool_click</th>\n",
       "      <td>0.397045</td>\n",
       "      <td>1.000000</td>\n",
       "      <td>0.694245</td>\n",
       "    </tr>\n",
       "    <tr>\n",
       "      <th>bool_conversion</th>\n",
       "      <td>0.275647</td>\n",
       "      <td>0.694245</td>\n",
       "      <td>1.000000</td>\n",
       "    </tr>\n",
       "  </tbody>\n",
       "</table>\n",
       "</div>"
      ],
      "text/plain": [
       "                 bool_open  bool_click  bool_conversion\n",
       "bool_open         1.000000    0.397045         0.275647\n",
       "bool_click        0.397045    1.000000         0.694245\n",
       "bool_conversion   0.275647    0.694245         1.000000"
      ]
     },
     "execution_count": 14,
     "metadata": {},
     "output_type": "execute_result"
    }
   ],
   "source": [
    "data.corr()"
   ]
  },
  {
   "cell_type": "code",
   "execution_count": 15,
   "id": "850b9cda",
   "metadata": {},
   "outputs": [
    {
     "data": {
      "image/png": "[encoded data removed]",
      "text/plain": [
       "<Figure size 648x576 with 2 Axes>"
      ]
     },
     "metadata": {
      "needs_background": "light"
     },
     "output_type": "display_data"
    }
   ],
   "source": [
    "data_corr = data.corr()\n",
    "mask = np.zeros_like(data_corr)\n",
    "mask[np.triu_indices_from(mask)] = True\n",
    "\n",
    "fig, ax = plt.subplots(figsize=(9, 8))\n",
    "ax = sns.heatmap(data_corr,mask=mask,\n",
    "                 annot=True, annot_kws={'size':10}, fmt=\".2f\")\n",
    "plt.title(\"Correlation entre chaque Variable\")\n",
    "plt.show()"
   ]
  },
  {
   "cell_type": "markdown",
   "id": "7e68cc42",
   "metadata": {},
   "source": [
    "Nous pouvons observer une forte corrélation entre le membre qui clique dans le mail et le membre qui a acheté sur le site à la suite de son clic. "
   ]
  },
  {
   "cell_type": "code",
   "execution_count": 16,
   "id": "b4232b4b",
   "metadata": {},
   "outputs": [
    {
     "data": {
      "text/html": [
       "<div>\n",
       "<style scoped>\n",
       "    .dataframe tbody tr th:only-of-type {\n",
       "        vertical-align: middle;\n",
       "    }\n",
       "\n",
       "    .dataframe tbody tr th {\n",
       "        vertical-align: top;\n",
       "    }\n",
       "\n",
       "    .dataframe thead tr th {\n",
       "        text-align: left;\n",
       "    }\n",
       "\n",
       "    .dataframe thead tr:last-of-type th {\n",
       "        text-align: right;\n",
       "    }\n",
       "</style>\n",
       "<table border=\"1\" class=\"dataframe\">\n",
       "  <thead>\n",
       "    <tr>\n",
       "      <th></th>\n",
       "      <th colspan=\"3\" halign=\"left\">bool_open</th>\n",
       "      <th colspan=\"3\" halign=\"left\">bool_click</th>\n",
       "      <th colspan=\"3\" halign=\"left\">bool_conversion</th>\n",
       "    </tr>\n",
       "    <tr>\n",
       "      <th></th>\n",
       "      <th>sum</th>\n",
       "      <th>mean</th>\n",
       "      <th>std</th>\n",
       "      <th>sum</th>\n",
       "      <th>mean</th>\n",
       "      <th>std</th>\n",
       "      <th>sum</th>\n",
       "      <th>mean</th>\n",
       "      <th>std</th>\n",
       "    </tr>\n",
       "    <tr>\n",
       "      <th>ab_group</th>\n",
       "      <th></th>\n",
       "      <th></th>\n",
       "      <th></th>\n",
       "      <th></th>\n",
       "      <th></th>\n",
       "      <th></th>\n",
       "      <th></th>\n",
       "      <th></th>\n",
       "      <th></th>\n",
       "    </tr>\n",
       "  </thead>\n",
       "  <tbody>\n",
       "    <tr>\n",
       "      <th>A</th>\n",
       "      <td>15342</td>\n",
       "      <td>0.307825</td>\n",
       "      <td>0.461598</td>\n",
       "      <td>3455</td>\n",
       "      <td>0.069322</td>\n",
       "      <td>0.254003</td>\n",
       "      <td>2009</td>\n",
       "      <td>0.040309</td>\n",
       "      <td>0.196685</td>\n",
       "    </tr>\n",
       "    <tr>\n",
       "      <th>B</th>\n",
       "      <td>18636</td>\n",
       "      <td>0.366310</td>\n",
       "      <td>0.481800</td>\n",
       "      <td>4028</td>\n",
       "      <td>0.079174</td>\n",
       "      <td>0.270013</td>\n",
       "      <td>1742</td>\n",
       "      <td>0.034241</td>\n",
       "      <td>0.181849</td>\n",
       "    </tr>\n",
       "  </tbody>\n",
       "</table>\n",
       "</div>"
      ],
      "text/plain": [
       "         bool_open                     bool_click                      \\\n",
       "               sum      mean       std        sum      mean       std   \n",
       "ab_group                                                                \n",
       "A            15342  0.307825  0.461598       3455  0.069322  0.254003   \n",
       "B            18636  0.366310  0.481800       4028  0.079174  0.270013   \n",
       "\n",
       "         bool_conversion                      \n",
       "                     sum      mean       std  \n",
       "ab_group                                      \n",
       "A                   2009  0.040309  0.196685  \n",
       "B                   1742  0.034241  0.181849  "
      ]
     },
     "execution_count": 16,
     "metadata": {},
     "output_type": "execute_result"
    }
   ],
   "source": [
    "data.groupby(\"ab_group\").agg(['sum',\"mean\",\"std\"])"
   ]
  },
  {
   "cell_type": "code",
   "execution_count": 17,
   "id": "a6847f7c",
   "metadata": {},
   "outputs": [
    {
     "data": {
      "text/plain": [
       "0    96964\n",
       "1     3751\n",
       "Name: bool_conversion, dtype: int64"
      ]
     },
     "execution_count": 17,
     "metadata": {},
     "output_type": "execute_result"
    }
   ],
   "source": [
    "data['bool_conversion'].value_counts()"
   ]
  },
  {
   "cell_type": "markdown",
   "id": "4f14f330",
   "metadata": {},
   "source": [
    "# Mesure de la performance variable \"bool_conversion\""
   ]
  },
  {
   "cell_type": "code",
   "execution_count": 14,
   "id": "257cbca5",
   "metadata": {},
   "outputs": [
    {
     "name": "stdout",
     "output_type": "stream",
     "text": [
      "% Not converted 96.27562925085638\n",
      "% Converted 3.724370749143623\n"
     ]
    },
    {
     "data": {
      "image/png": "[encoded data removed]",
      "text/plain": [
       "<Figure size 432x288 with 1 Axes>"
      ]
     },
     "metadata": {},
     "output_type": "display_data"
    }
   ],
   "source": [
    "print(\"% Not converted\", 100 * df[\"bool_conversion\"].value_counts()[0]/df[\"bool_conversion\"].value_counts().sum())\n",
    "print(\"% Converted\", 100 * df[\"bool_conversion\"].value_counts()[1]/df[\"bool_conversion\"].value_counts().sum())\n",
    "\n",
    "ax = df[\"bool_conversion\"].value_counts().plot(kind=\"pie\")\n",
    "ax.set_title('Converted piechart')\n",
    "plt.show()"
   ]
  },
  {
   "cell_type": "code",
   "execution_count": 15,
   "id": "2119e514",
   "metadata": {},
   "outputs": [
    {
     "data": {
      "text/plain": [
       "ab_group\n",
       "A    4.030899\n",
       "B    3.424079\n",
       "Name: bool_conversion, dtype: float64"
      ]
     },
     "execution_count": 15,
     "metadata": {},
     "output_type": "execute_result"
    }
   ],
   "source": [
    "df.groupby(\"ab_group\")[\"bool_conversion\"].mean()*100"
   ]
  },
  {
   "cell_type": "markdown",
   "id": "11572507",
   "metadata": {},
   "source": [
    "De ces taux de conversion, on peut conclure que le groupe A a atteint un taux de conversion plus élevé (4.030899%) par rapport au groupe B (3.424079 %). Cela indique que les email ont réussi à générer des conversions et que la campagne emailling globale a été efficace."
   ]
  },
  {
   "cell_type": "markdown",
   "id": "747a7c90",
   "metadata": {},
   "source": [
    "# Analyse statistique de la variable \"bool_conversion\""
   ]
  },
  {
   "cell_type": "code",
   "execution_count": 16,
   "id": "e6c446c6",
   "metadata": {},
   "outputs": [
    {
     "name": "stdout",
     "output_type": "stream",
     "text": [
      "bool_conversion      0     1\n",
      "ab_group                    \n",
      "A                47831  2009\n",
      "B                49133  1742\n"
     ]
    },
    {
     "data": {
      "text/plain": [
       "<AxesSubplot:xlabel='ab_group'>"
      ]
     },
     "execution_count": 16,
     "metadata": {},
     "output_type": "execute_result"
    },
    {
     "data": {
      "image/png": "[encoded data removed]",
      "text/plain": [
       "<Figure size 432x288 with 1 Axes>"
      ]
     },
     "metadata": {
      "needs_background": "light"
     },
     "output_type": "display_data"
    }
   ],
   "source": [
    "print(df.groupby(\"bool_conversion\")[\"ab_group\"].value_counts().unstack('bool_conversion'))\n",
    "\n",
    "df.groupby(\"bool_conversion\")[\"ab_group\"].value_counts().unstack('bool_conversion').plot(kind=\"bar\", stacked=True)"
   ]
  },
  {
   "cell_type": "code",
   "execution_count": null,
   "id": "c915a708",
   "metadata": {},
   "outputs": [],
   "source": []
  },
  {
   "cell_type": "code",
   "execution_count": 19,
   "id": "694c48d7",
   "metadata": {},
   "outputs": [
    {
     "name": "stdout",
     "output_type": "stream",
     "text": [
      "ab_group          A    B\n",
      "Jour_send_date          \n",
      "Jeudi           344  300\n",
      "Lundi           246  226\n",
      "Mardi           291  231\n",
      "Mercredi        323  279\n",
      "Samedi          294  218\n",
      "Vendredi        252  236\n"
     ]
    },
    {
     "data": {
      "text/plain": [
       "<AxesSubplot:xlabel='Jour_send_date'>"
      ]
     },
     "execution_count": 19,
     "metadata": {},
     "output_type": "execute_result"
    },
    {
     "data": {
      "image/png": "[encoded data removed]",
      "text/plain": [
       "<Figure size 1080x432 with 1 Axes>"
      ]
     },
     "metadata": {
      "needs_background": "light"
     },
     "output_type": "display_data"
    }
   ],
   "source": [
    "Ac = pd.crosstab(df['Jour_send_date'],df['ab_group'],df['bool_conversion'],aggfunc='sum')\n",
    "print(Ac)\n",
    "pd.crosstab(df['Jour_send_date'],df['ab_group'],df['bool_conversion'],aggfunc='sum').plot(kind='bar', figsize=(15, 6))"
   ]
  },
  {
   "cell_type": "code",
   "execution_count": 20,
   "id": "ed9ab265",
   "metadata": {},
   "outputs": [
    {
     "name": "stdout",
     "output_type": "stream",
     "text": [
      "Le jour de la semaine qui a le plus d'acaht sur le suite à la suite d'un clic : ab_group          A    B\n",
      "Jour_send_date          \n",
      "Jeudi           344  300\n"
     ]
    }
   ],
   "source": [
    "print(\"Le jour de la semaine qui a le plus d'acaht sur le suite à la suite d'un clic :\", Ac[['A', 'B']][:1])"
   ]
  },
  {
   "cell_type": "code",
   "execution_count": null,
   "id": "25abf152",
   "metadata": {},
   "outputs": [],
   "source": []
  },
  {
   "cell_type": "code",
   "execution_count": 56,
   "id": "14f1fcc3",
   "metadata": {},
   "outputs": [
    {
     "name": "stdout",
     "output_type": "stream",
     "text": [
      "Jour_send_date\n",
      "Jeudi       344\n",
      "Lundi       246\n",
      "Mardi       291\n",
      "Mercredi    323\n",
      "Samedi      294\n",
      "Vendredi    252\n",
      "Name: bool_conversion, dtype: int64\n"
     ]
    },
    {
     "data": {
      "text/plain": [
       "<AxesSubplot:xlabel='Jour_send_date'>"
      ]
     },
     "execution_count": 56,
     "metadata": {},
     "output_type": "execute_result"
    },
    {
     "data": {
      "image/png": "[encoded data removed]",
      "text/plain": [
       "<Figure size 432x288 with 1 Axes>"
      ]
     },
     "metadata": {
      "needs_background": "light"
     },
     "output_type": "display_data"
    }
   ],
   "source": [
    "Ab = df.loc[df[\"ab_group\"]==\"A\"].groupby(\"Jour_send_date\")[\"bool_conversion\"].sum()\n",
    "print(Ab)\n",
    "df.loc[df[\"ab_group\"]==\"A\"].groupby(\"Jour_send_date\")[\"bool_conversion\"].sum().sort_values(ascending=False).plot(kind=\"bar\")"
   ]
  },
  {
   "cell_type": "code",
   "execution_count": 22,
   "id": "73f6a510",
   "metadata": {},
   "outputs": [
    {
     "name": "stdout",
     "output_type": "stream",
     "text": [
      "Le jour de la semaine qui a le plus d'acaht sur le suite à la suite d'un clic du groupe A : Jour_send_date\n",
      "Jeudi    344\n",
      "Name: bool_conversion, dtype: int64\n"
     ]
    }
   ],
   "source": [
    "print(\"Le jour de la semaine qui a le plus d'acaht sur le suite à la suite d'un clic du groupe A :\", Ab[:1])"
   ]
  },
  {
   "cell_type": "code",
   "execution_count": 55,
   "id": "9935124c",
   "metadata": {},
   "outputs": [
    {
     "name": "stdout",
     "output_type": "stream",
     "text": [
      "Jour_send_date\n",
      "Jeudi       300\n",
      "Lundi       226\n",
      "Mardi       231\n",
      "Mercredi    279\n",
      "Samedi      218\n",
      "Vendredi    236\n",
      "Name: bool_conversion, dtype: int64\n"
     ]
    },
    {
     "data": {
      "text/plain": [
       "<AxesSubplot:xlabel='Jour_send_date'>"
      ]
     },
     "execution_count": 55,
     "metadata": {},
     "output_type": "execute_result"
    },
    {
     "data": {
      "image/png": "[encoded data removed]",
      "text/plain": [
       "<Figure size 432x288 with 1 Axes>"
      ]
     },
     "metadata": {
      "needs_background": "light"
     },
     "output_type": "display_data"
    }
   ],
   "source": [
    "Ac = df.loc[df[\"ab_group\"]==\"B\"].groupby(\"Jour_send_date\")[\"bool_conversion\"].sum()\n",
    "print(Ac)\n",
    "df.loc[df[\"ab_group\"]==\"B\"].groupby(\"Jour_send_date\")[\"bool_conversion\"].sum().sort_values(ascending=False).plot(kind=\"bar\")"
   ]
  },
  {
   "cell_type": "code",
   "execution_count": 24,
   "id": "1d76f767",
   "metadata": {},
   "outputs": [
    {
     "name": "stdout",
     "output_type": "stream",
     "text": [
      "Le jour de la semaine qui a le plus d'acaht sur le suite à la suite d'un clic du groupe B : Jour_send_date\n",
      "Jeudi    300\n",
      "Name: bool_conversion, dtype: int64\n"
     ]
    }
   ],
   "source": [
    "print(\"Le jour de la semaine qui a le plus d'acaht sur le suite à la suite d'un clic du groupe B :\", Ac[:1])"
   ]
  },
  {
   "cell_type": "code",
   "execution_count": null,
   "id": "2beb3315",
   "metadata": {},
   "outputs": [],
   "source": []
  },
  {
   "cell_type": "code",
   "execution_count": 25,
   "id": "ef6eda7d",
   "metadata": {},
   "outputs": [
    {
     "data": {
      "text/plain": [
       "35 - 49    21854\n",
       "25 - 34    17363\n",
       ">= 50      16917\n",
       "< 25       10397\n",
       "Name: member_age_group, dtype: int64"
      ]
     },
     "execution_count": 25,
     "metadata": {},
     "output_type": "execute_result"
    }
   ],
   "source": [
    "df['member_age_group'].value_counts()"
   ]
  },
  {
   "cell_type": "code",
   "execution_count": 26,
   "id": "4d51157f",
   "metadata": {},
   "outputs": [
    {
     "name": "stdout",
     "output_type": "stream",
     "text": [
      "ab_group            A    B\n",
      "member_age_group          \n",
      ">= 50             980  844\n",
      "< 25               26   33\n",
      "35 - 49           308  298\n",
      "25 - 34            86   75\n"
     ]
    },
    {
     "data": {
      "text/plain": [
       "<AxesSubplot:xlabel='member_age_group'>"
      ]
     },
     "execution_count": 26,
     "metadata": {},
     "output_type": "execute_result"
    },
    {
     "data": {
      "image/png": "[encoded data removed]",
      "text/plain": [
       "<Figure size 1080x432 with 1 Axes>"
      ]
     },
     "metadata": {
      "needs_background": "light"
     },
     "output_type": "display_data"
    }
   ],
   "source": [
    "Ae = pd.crosstab(df['member_age_group'],df['ab_group'],df['bool_conversion'],aggfunc='sum').sort_values(by = 'member_age_group',ascending=False)\n",
    "print(Ae)\n",
    "pd.crosstab(df['member_age_group'],df['ab_group'],df['bool_conversion'],aggfunc='sum').sort_values(by = 'member_age_group',ascending=False).plot(kind='bar', figsize=(15, 6))"
   ]
  },
  {
   "cell_type": "code",
   "execution_count": 27,
   "id": "3714d9d8",
   "metadata": {},
   "outputs": [
    {
     "name": "stdout",
     "output_type": "stream",
     "text": [
      "La tranche d'âge dans laquelle se situe le membre avec le meilleur taux de conversion : ab_group            A    B\n",
      "member_age_group          \n",
      ">= 50             980  844\n"
     ]
    }
   ],
   "source": [
    "print(\"La tranche d'âge dans laquelle se situe le membre avec le meilleur taux de conversion :\", Ae[:1])"
   ]
  },
  {
   "cell_type": "code",
   "execution_count": 52,
   "id": "f95e4260",
   "metadata": {},
   "outputs": [
    {
     "data": {
      "text/html": [
       "<div>\n",
       "<style scoped>\n",
       "    .dataframe tbody tr th:only-of-type {\n",
       "        vertical-align: middle;\n",
       "    }\n",
       "\n",
       "    .dataframe tbody tr th {\n",
       "        vertical-align: top;\n",
       "    }\n",
       "\n",
       "    .dataframe thead th {\n",
       "        text-align: right;\n",
       "    }\n",
       "</style>\n",
       "<table border=\"1\" class=\"dataframe\">\n",
       "  <thead>\n",
       "    <tr style=\"text-align: right;\">\n",
       "      <th>ab_group</th>\n",
       "      <th>A</th>\n",
       "      <th>B</th>\n",
       "    </tr>\n",
       "    <tr>\n",
       "      <th>segmentation</th>\n",
       "      <th></th>\n",
       "      <th></th>\n",
       "    </tr>\n",
       "  </thead>\n",
       "  <tbody>\n",
       "    <tr>\n",
       "      <th>A</th>\n",
       "      <td>113</td>\n",
       "      <td>87</td>\n",
       "    </tr>\n",
       "    <tr>\n",
       "      <th>B</th>\n",
       "      <td>400</td>\n",
       "      <td>389</td>\n",
       "    </tr>\n",
       "    <tr>\n",
       "      <th>C</th>\n",
       "      <td>212</td>\n",
       "      <td>159</td>\n",
       "    </tr>\n",
       "    <tr>\n",
       "      <th>D</th>\n",
       "      <td>302</td>\n",
       "      <td>254</td>\n",
       "    </tr>\n",
       "    <tr>\n",
       "      <th>E</th>\n",
       "      <td>208</td>\n",
       "      <td>183</td>\n",
       "    </tr>\n",
       "    <tr>\n",
       "      <th>F</th>\n",
       "      <td>115</td>\n",
       "      <td>97</td>\n",
       "    </tr>\n",
       "    <tr>\n",
       "      <th>G</th>\n",
       "      <td>550</td>\n",
       "      <td>482</td>\n",
       "    </tr>\n",
       "    <tr>\n",
       "      <th>H</th>\n",
       "      <td>103</td>\n",
       "      <td>84</td>\n",
       "    </tr>\n",
       "    <tr>\n",
       "      <th>I</th>\n",
       "      <td>0</td>\n",
       "      <td>1</td>\n",
       "    </tr>\n",
       "    <tr>\n",
       "      <th>J</th>\n",
       "      <td>1</td>\n",
       "      <td>2</td>\n",
       "    </tr>\n",
       "    <tr>\n",
       "      <th>K</th>\n",
       "      <td>0</td>\n",
       "      <td>0</td>\n",
       "    </tr>\n",
       "    <tr>\n",
       "      <th>L</th>\n",
       "      <td>5</td>\n",
       "      <td>4</td>\n",
       "    </tr>\n",
       "  </tbody>\n",
       "</table>\n",
       "</div>"
      ],
      "text/plain": [
       "ab_group        A    B\n",
       "segmentation          \n",
       "A             113   87\n",
       "B             400  389\n",
       "C             212  159\n",
       "D             302  254\n",
       "E             208  183\n",
       "F             115   97\n",
       "G             550  482\n",
       "H             103   84\n",
       "I               0    1\n",
       "J               1    2\n",
       "K               0    0\n",
       "L               5    4"
      ]
     },
     "execution_count": 52,
     "metadata": {},
     "output_type": "execute_result"
    }
   ],
   "source": [
    "Ah = pd.crosstab(df['segmentation'],df['ab_group'],df['bool_conversion'],aggfunc='sum')\n",
    "Ah.sort_values(by = 'segmentation',ascending=True)"
   ]
  },
  {
   "cell_type": "code",
   "execution_count": 53,
   "id": "58425138",
   "metadata": {},
   "outputs": [
    {
     "data": {
      "text/plain": [
       "<AxesSubplot:xlabel='segmentation'>"
      ]
     },
     "execution_count": 53,
     "metadata": {},
     "output_type": "execute_result"
    },
    {
     "data": {
      "image/png": "[encoded data removed]",
      "text/plain": [
       "<Figure size 1080x432 with 1 Axes>"
      ]
     },
     "metadata": {
      "needs_background": "light"
     },
     "output_type": "display_data"
    }
   ],
   "source": [
    "pd.crosstab(df['segmentation'],df['ab_group'],df['bool_conversion'],aggfunc='sum').plot(kind='bar', figsize=(15, 6))"
   ]
  },
  {
   "cell_type": "markdown",
   "id": "9e294003",
   "metadata": {},
   "source": [
    "Le segment du groupe G a le meilleurs taux de converstion"
   ]
  }
 ],
 "metadata": {
  "kernelspec": {
   "display_name": "Python 3",
   "language": "python",
   "name": "python3"
  },
  "language_info": {
   "codemirror_mode": {
    "name": "ipython",
    "version": 3
   },
   "file_extension": ".py",
   "mimetype": "text/x-python",
   "name": "python",
   "nbconvert_exporter": "python",
   "pygments_lexer": "ipython3",
   "version": "3.8.8"
  }
 },
 "nbformat": 4,
 "nbformat_minor": 5
}
