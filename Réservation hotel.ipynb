{
 "cells": [
  {
   "cell_type": "code",
   "execution_count": 1,
   "metadata": {},
   "outputs": [],
   "source": [
    "#pip install pycountry"
   ]
  },
  {
   "cell_type": "markdown",
   "metadata": {},
   "source": [
    "# Énoncé du problème"
   ]
  },
  {
   "cell_type": "markdown",
   "metadata": {},
   "source": [
    "L'équipe chargée des revenus d'un groupe hôtelier a récemment été confrontée à un problème important : une augmentation des annulations. Cette tendance a non seulement perturbé le fonctionnement efficace des hôtels, mais a également entraîné d'importantes pertes de revenus. L’équipe avait besoin d’informations et de solutions : quels étaient les facteurs à l’origine de ces annulations ? Y a-t-il eu des modèles ou des tendances identifiables ? Afin de répondre à ces questions cruciales, l’analyse des données est apparue comme l’outil le plus puissant."
   ]
  },
  {
   "cell_type": "code",
   "execution_count": null,
   "metadata": {},
   "outputs": [],
   "source": []
  },
  {
   "cell_type": "code",
   "execution_count": null,
   "metadata": {},
   "outputs": [],
   "source": []
  },
  {
   "cell_type": "code",
   "execution_count": 2,
   "metadata": {},
   "outputs": [
    {
     "name": "stderr",
     "output_type": "stream",
     "text": [
      "C:\\Users\\PC\\anaconda3\\lib\\site-packages\\pandas\\core\\computation\\expressions.py:20: UserWarning: Pandas requires version '2.7.3' or newer of 'numexpr' (version '2.7.1' currently installed).\n",
      "  from pandas.core.computation.check import NUMEXPR_INSTALLED\n"
     ]
    }
   ],
   "source": [
    "import pandas as pd\n",
    "import numpy as np\n",
    "# Charger les données des fichiers Excel pour 2018, 2019 et 2020\n",
    "data_2018 = pd.read_csv('2018.csv')\n",
    "data_2019 = pd.read_csv('2019.csv')\n",
    "data_2020 = pd.read_csv('2020.csv')"
   ]
  },
  {
   "cell_type": "code",
   "execution_count": 3,
   "metadata": {},
   "outputs": [
    {
     "data": {
      "text/html": [
       "<div>\n",
       "<style scoped>\n",
       "    .dataframe tbody tr th:only-of-type {\n",
       "        vertical-align: middle;\n",
       "    }\n",
       "\n",
       "    .dataframe tbody tr th {\n",
       "        vertical-align: top;\n",
       "    }\n",
       "\n",
       "    .dataframe thead th {\n",
       "        text-align: right;\n",
       "    }\n",
       "</style>\n",
       "<table border=\"1\" class=\"dataframe\">\n",
       "  <thead>\n",
       "    <tr style=\"text-align: right;\">\n",
       "      <th></th>\n",
       "      <th>hotel</th>\n",
       "      <th>is_canceled</th>\n",
       "      <th>lead_time</th>\n",
       "      <th>arrival_date_year</th>\n",
       "      <th>arrival_date_month</th>\n",
       "      <th>arrival_date_week_number</th>\n",
       "      <th>arrival_date_day_of_month</th>\n",
       "      <th>stays_in_weekend_nights</th>\n",
       "      <th>stays_in_week_nights</th>\n",
       "      <th>adults</th>\n",
       "      <th>...</th>\n",
       "      <th>deposit_type</th>\n",
       "      <th>agent</th>\n",
       "      <th>company</th>\n",
       "      <th>days_in_waiting_list</th>\n",
       "      <th>customer_type</th>\n",
       "      <th>adr</th>\n",
       "      <th>required_car_parking_spaces</th>\n",
       "      <th>total_of_special_requests</th>\n",
       "      <th>reservation_status</th>\n",
       "      <th>reservation_status_date</th>\n",
       "    </tr>\n",
       "  </thead>\n",
       "  <tbody>\n",
       "    <tr>\n",
       "      <th>0</th>\n",
       "      <td>Resort Hotel</td>\n",
       "      <td>1</td>\n",
       "      <td>85</td>\n",
       "      <td>2018</td>\n",
       "      <td>July</td>\n",
       "      <td>27</td>\n",
       "      <td>1</td>\n",
       "      <td>0</td>\n",
       "      <td>3</td>\n",
       "      <td>2</td>\n",
       "      <td>...</td>\n",
       "      <td>No Deposit</td>\n",
       "      <td>240.0</td>\n",
       "      <td>NaN</td>\n",
       "      <td>0</td>\n",
       "      <td>Transient</td>\n",
       "      <td>82.0</td>\n",
       "      <td>0</td>\n",
       "      <td>1</td>\n",
       "      <td>Canceled</td>\n",
       "      <td>5/6/2018</td>\n",
       "    </tr>\n",
       "    <tr>\n",
       "      <th>1</th>\n",
       "      <td>Resort Hotel</td>\n",
       "      <td>1</td>\n",
       "      <td>75</td>\n",
       "      <td>2018</td>\n",
       "      <td>July</td>\n",
       "      <td>27</td>\n",
       "      <td>1</td>\n",
       "      <td>0</td>\n",
       "      <td>3</td>\n",
       "      <td>2</td>\n",
       "      <td>...</td>\n",
       "      <td>No Deposit</td>\n",
       "      <td>15.0</td>\n",
       "      <td>NaN</td>\n",
       "      <td>0</td>\n",
       "      <td>Transient</td>\n",
       "      <td>105.5</td>\n",
       "      <td>0</td>\n",
       "      <td>0</td>\n",
       "      <td>Canceled</td>\n",
       "      <td>4/22/2018</td>\n",
       "    </tr>\n",
       "    <tr>\n",
       "      <th>2</th>\n",
       "      <td>Resort Hotel</td>\n",
       "      <td>1</td>\n",
       "      <td>23</td>\n",
       "      <td>2018</td>\n",
       "      <td>July</td>\n",
       "      <td>27</td>\n",
       "      <td>1</td>\n",
       "      <td>0</td>\n",
       "      <td>4</td>\n",
       "      <td>2</td>\n",
       "      <td>...</td>\n",
       "      <td>No Deposit</td>\n",
       "      <td>240.0</td>\n",
       "      <td>NaN</td>\n",
       "      <td>0</td>\n",
       "      <td>Transient</td>\n",
       "      <td>123.0</td>\n",
       "      <td>0</td>\n",
       "      <td>0</td>\n",
       "      <td>Canceled</td>\n",
       "      <td>6/23/2018</td>\n",
       "    </tr>\n",
       "    <tr>\n",
       "      <th>3</th>\n",
       "      <td>Resort Hotel</td>\n",
       "      <td>1</td>\n",
       "      <td>60</td>\n",
       "      <td>2018</td>\n",
       "      <td>July</td>\n",
       "      <td>27</td>\n",
       "      <td>1</td>\n",
       "      <td>2</td>\n",
       "      <td>5</td>\n",
       "      <td>2</td>\n",
       "      <td>...</td>\n",
       "      <td>No Deposit</td>\n",
       "      <td>240.0</td>\n",
       "      <td>NaN</td>\n",
       "      <td>0</td>\n",
       "      <td>Transient</td>\n",
       "      <td>107.0</td>\n",
       "      <td>0</td>\n",
       "      <td>2</td>\n",
       "      <td>Canceled</td>\n",
       "      <td>5/11/2018</td>\n",
       "    </tr>\n",
       "    <tr>\n",
       "      <th>4</th>\n",
       "      <td>Resort Hotel</td>\n",
       "      <td>1</td>\n",
       "      <td>96</td>\n",
       "      <td>2018</td>\n",
       "      <td>July</td>\n",
       "      <td>27</td>\n",
       "      <td>1</td>\n",
       "      <td>2</td>\n",
       "      <td>8</td>\n",
       "      <td>2</td>\n",
       "      <td>...</td>\n",
       "      <td>No Deposit</td>\n",
       "      <td>NaN</td>\n",
       "      <td>NaN</td>\n",
       "      <td>0</td>\n",
       "      <td>Transient</td>\n",
       "      <td>108.3</td>\n",
       "      <td>0</td>\n",
       "      <td>2</td>\n",
       "      <td>Canceled</td>\n",
       "      <td>5/29/2018</td>\n",
       "    </tr>\n",
       "    <tr>\n",
       "      <th>...</th>\n",
       "      <td>...</td>\n",
       "      <td>...</td>\n",
       "      <td>...</td>\n",
       "      <td>...</td>\n",
       "      <td>...</td>\n",
       "      <td>...</td>\n",
       "      <td>...</td>\n",
       "      <td>...</td>\n",
       "      <td>...</td>\n",
       "      <td>...</td>\n",
       "      <td>...</td>\n",
       "      <td>...</td>\n",
       "      <td>...</td>\n",
       "      <td>...</td>\n",
       "      <td>...</td>\n",
       "      <td>...</td>\n",
       "      <td>...</td>\n",
       "      <td>...</td>\n",
       "      <td>...</td>\n",
       "      <td>...</td>\n",
       "      <td>...</td>\n",
       "    </tr>\n",
       "    <tr>\n",
       "      <th>40682</th>\n",
       "      <td>City Hotel</td>\n",
       "      <td>1</td>\n",
       "      <td>1</td>\n",
       "      <td>2020</td>\n",
       "      <td>February</td>\n",
       "      <td>5</td>\n",
       "      <td>1</td>\n",
       "      <td>0</td>\n",
       "      <td>0</td>\n",
       "      <td>1</td>\n",
       "      <td>...</td>\n",
       "      <td>No Deposit</td>\n",
       "      <td>NaN</td>\n",
       "      <td>153.0</td>\n",
       "      <td>0</td>\n",
       "      <td>Transient</td>\n",
       "      <td>0.0</td>\n",
       "      <td>0</td>\n",
       "      <td>1</td>\n",
       "      <td>No-Show</td>\n",
       "      <td>2/1/2020</td>\n",
       "    </tr>\n",
       "    <tr>\n",
       "      <th>40683</th>\n",
       "      <td>City Hotel</td>\n",
       "      <td>1</td>\n",
       "      <td>31</td>\n",
       "      <td>2020</td>\n",
       "      <td>July</td>\n",
       "      <td>29</td>\n",
       "      <td>16</td>\n",
       "      <td>2</td>\n",
       "      <td>0</td>\n",
       "      <td>1</td>\n",
       "      <td>...</td>\n",
       "      <td>No Deposit</td>\n",
       "      <td>NaN</td>\n",
       "      <td>NaN</td>\n",
       "      <td>0</td>\n",
       "      <td>Transient</td>\n",
       "      <td>135.0</td>\n",
       "      <td>0</td>\n",
       "      <td>2</td>\n",
       "      <td>No-Show</td>\n",
       "      <td>7/16/2020</td>\n",
       "    </tr>\n",
       "    <tr>\n",
       "      <th>40684</th>\n",
       "      <td>City Hotel</td>\n",
       "      <td>1</td>\n",
       "      <td>25</td>\n",
       "      <td>2020</td>\n",
       "      <td>May</td>\n",
       "      <td>18</td>\n",
       "      <td>6</td>\n",
       "      <td>2</td>\n",
       "      <td>1</td>\n",
       "      <td>1</td>\n",
       "      <td>...</td>\n",
       "      <td>No Deposit</td>\n",
       "      <td>NaN</td>\n",
       "      <td>450.0</td>\n",
       "      <td>0</td>\n",
       "      <td>Transient</td>\n",
       "      <td>125.0</td>\n",
       "      <td>0</td>\n",
       "      <td>0</td>\n",
       "      <td>No-Show</td>\n",
       "      <td>5/6/2020</td>\n",
       "    </tr>\n",
       "    <tr>\n",
       "      <th>40685</th>\n",
       "      <td>City Hotel</td>\n",
       "      <td>1</td>\n",
       "      <td>6</td>\n",
       "      <td>2020</td>\n",
       "      <td>July</td>\n",
       "      <td>29</td>\n",
       "      <td>17</td>\n",
       "      <td>1</td>\n",
       "      <td>0</td>\n",
       "      <td>1</td>\n",
       "      <td>...</td>\n",
       "      <td>No Deposit</td>\n",
       "      <td>NaN</td>\n",
       "      <td>238.0</td>\n",
       "      <td>0</td>\n",
       "      <td>Transient</td>\n",
       "      <td>65.0</td>\n",
       "      <td>0</td>\n",
       "      <td>0</td>\n",
       "      <td>No-Show</td>\n",
       "      <td>7/17/2020</td>\n",
       "    </tr>\n",
       "    <tr>\n",
       "      <th>40686</th>\n",
       "      <td>City Hotel</td>\n",
       "      <td>1</td>\n",
       "      <td>0</td>\n",
       "      <td>2020</td>\n",
       "      <td>August</td>\n",
       "      <td>31</td>\n",
       "      <td>2</td>\n",
       "      <td>0</td>\n",
       "      <td>2</td>\n",
       "      <td>1</td>\n",
       "      <td>...</td>\n",
       "      <td>No Deposit</td>\n",
       "      <td>NaN</td>\n",
       "      <td>40.0</td>\n",
       "      <td>0</td>\n",
       "      <td>Transient</td>\n",
       "      <td>65.0</td>\n",
       "      <td>0</td>\n",
       "      <td>1</td>\n",
       "      <td>No-Show</td>\n",
       "      <td>8/2/2020</td>\n",
       "    </tr>\n",
       "  </tbody>\n",
       "</table>\n",
       "<p>141947 rows × 32 columns</p>\n",
       "</div>"
      ],
      "text/plain": [
       "              hotel  is_canceled  lead_time  arrival_date_year  \\\n",
       "0      Resort Hotel            1         85               2018   \n",
       "1      Resort Hotel            1         75               2018   \n",
       "2      Resort Hotel            1         23               2018   \n",
       "3      Resort Hotel            1         60               2018   \n",
       "4      Resort Hotel            1         96               2018   \n",
       "...             ...          ...        ...                ...   \n",
       "40682    City Hotel            1          1               2020   \n",
       "40683    City Hotel            1         31               2020   \n",
       "40684    City Hotel            1         25               2020   \n",
       "40685    City Hotel            1          6               2020   \n",
       "40686    City Hotel            1          0               2020   \n",
       "\n",
       "      arrival_date_month  arrival_date_week_number  arrival_date_day_of_month  \\\n",
       "0                   July                        27                          1   \n",
       "1                   July                        27                          1   \n",
       "2                   July                        27                          1   \n",
       "3                   July                        27                          1   \n",
       "4                   July                        27                          1   \n",
       "...                  ...                       ...                        ...   \n",
       "40682           February                         5                          1   \n",
       "40683               July                        29                         16   \n",
       "40684                May                        18                          6   \n",
       "40685               July                        29                         17   \n",
       "40686             August                        31                          2   \n",
       "\n",
       "       stays_in_weekend_nights  stays_in_week_nights  adults  ...  \\\n",
       "0                            0                     3       2  ...   \n",
       "1                            0                     3       2  ...   \n",
       "2                            0                     4       2  ...   \n",
       "3                            2                     5       2  ...   \n",
       "4                            2                     8       2  ...   \n",
       "...                        ...                   ...     ...  ...   \n",
       "40682                        0                     0       1  ...   \n",
       "40683                        2                     0       1  ...   \n",
       "40684                        2                     1       1  ...   \n",
       "40685                        1                     0       1  ...   \n",
       "40686                        0                     2       1  ...   \n",
       "\n",
       "       deposit_type  agent company days_in_waiting_list customer_type    adr  \\\n",
       "0        No Deposit  240.0     NaN                    0     Transient   82.0   \n",
       "1        No Deposit   15.0     NaN                    0     Transient  105.5   \n",
       "2        No Deposit  240.0     NaN                    0     Transient  123.0   \n",
       "3        No Deposit  240.0     NaN                    0     Transient  107.0   \n",
       "4        No Deposit    NaN     NaN                    0     Transient  108.3   \n",
       "...             ...    ...     ...                  ...           ...    ...   \n",
       "40682    No Deposit    NaN   153.0                    0     Transient    0.0   \n",
       "40683    No Deposit    NaN     NaN                    0     Transient  135.0   \n",
       "40684    No Deposit    NaN   450.0                    0     Transient  125.0   \n",
       "40685    No Deposit    NaN   238.0                    0     Transient   65.0   \n",
       "40686    No Deposit    NaN    40.0                    0     Transient   65.0   \n",
       "\n",
       "       required_car_parking_spaces  total_of_special_requests  \\\n",
       "0                                0                          1   \n",
       "1                                0                          0   \n",
       "2                                0                          0   \n",
       "3                                0                          2   \n",
       "4                                0                          2   \n",
       "...                            ...                        ...   \n",
       "40682                            0                          1   \n",
       "40683                            0                          2   \n",
       "40684                            0                          0   \n",
       "40685                            0                          0   \n",
       "40686                            0                          1   \n",
       "\n",
       "       reservation_status reservation_status_date  \n",
       "0                Canceled                5/6/2018  \n",
       "1                Canceled               4/22/2018  \n",
       "2                Canceled               6/23/2018  \n",
       "3                Canceled               5/11/2018  \n",
       "4                Canceled               5/29/2018  \n",
       "...                   ...                     ...  \n",
       "40682             No-Show                2/1/2020  \n",
       "40683             No-Show               7/16/2020  \n",
       "40684             No-Show                5/6/2020  \n",
       "40685             No-Show               7/17/2020  \n",
       "40686             No-Show                8/2/2020  \n",
       "\n",
       "[141947 rows x 32 columns]"
      ]
     },
     "execution_count": 3,
     "metadata": {},
     "output_type": "execute_result"
    }
   ],
   "source": [
    "# Supprimez les espaces de début des noms de colonnes\n",
    "data_2020.columns = data_2020.columns.str.strip()\n",
    "# Concaténer les données des trois années en un seul DataFrame\n",
    "hotel_data = pd.concat([data_2018, data_2019, data_2020])\n",
    "hotel_data"
   ]
  },
  {
   "cell_type": "code",
   "execution_count": 4,
   "metadata": {},
   "outputs": [],
   "source": [
    "market_segment_data = pd.read_csv('market_segment.csv')\n",
    "meal_cost_data = pd.read_csv('meal_cost.csv')"
   ]
  },
  {
   "cell_type": "code",
   "execution_count": 5,
   "metadata": {},
   "outputs": [],
   "source": [
    "meal_cost_data['Cost'] = meal_cost_data['Cost'].astype(str).str.strip()\n",
    "# Supprimez les espaces blancs et les convertir dans le même type de données\n",
    "hotel_data['market_segment'] = hotel_data['market_segment'].str.strip()\n",
    "meal_cost_data['meal'] = meal_cost_data['meal'].str.strip()\n",
    "meal_cost_data['Cost'] = meal_cost_data['Cost'].str.strip()"
   ]
  },
  {
   "cell_type": "code",
   "execution_count": 6,
   "metadata": {},
   "outputs": [
    {
     "data": {
      "text/html": [
       "<div>\n",
       "<style scoped>\n",
       "    .dataframe tbody tr th:only-of-type {\n",
       "        vertical-align: middle;\n",
       "    }\n",
       "\n",
       "    .dataframe tbody tr th {\n",
       "        vertical-align: top;\n",
       "    }\n",
       "\n",
       "    .dataframe thead th {\n",
       "        text-align: right;\n",
       "    }\n",
       "</style>\n",
       "<table border=\"1\" class=\"dataframe\">\n",
       "  <thead>\n",
       "    <tr style=\"text-align: right;\">\n",
       "      <th></th>\n",
       "      <th>Cost</th>\n",
       "      <th>meal</th>\n",
       "    </tr>\n",
       "  </thead>\n",
       "  <tbody>\n",
       "    <tr>\n",
       "      <th>0</th>\n",
       "      <td>0.00</td>\n",
       "      <td>Undefined</td>\n",
       "    </tr>\n",
       "    <tr>\n",
       "      <th>1</th>\n",
       "      <td>12.99</td>\n",
       "      <td>BB</td>\n",
       "    </tr>\n",
       "    <tr>\n",
       "      <th>2</th>\n",
       "      <td>17.99</td>\n",
       "      <td>HB</td>\n",
       "    </tr>\n",
       "    <tr>\n",
       "      <th>3</th>\n",
       "      <td>21.99</td>\n",
       "      <td>FB</td>\n",
       "    </tr>\n",
       "    <tr>\n",
       "      <th>4</th>\n",
       "      <td>35.00</td>\n",
       "      <td>SC</td>\n",
       "    </tr>\n",
       "  </tbody>\n",
       "</table>\n",
       "</div>"
      ],
      "text/plain": [
       "    Cost       meal\n",
       "0   0.00  Undefined\n",
       "1  12.99         BB\n",
       "2  17.99         HB\n",
       "3  21.99         FB\n",
       "4  35.00         SC"
      ]
     },
     "execution_count": 6,
     "metadata": {},
     "output_type": "execute_result"
    }
   ],
   "source": [
    "# Assurez-vous que la colonne 'Cost' est numérique (en supposant qu'elle doit être numérique)\n",
    "meal_cost_data['Cost'] = pd.to_numeric(meal_cost_data['Cost'], errors='coerce')\n",
    "meal_cost_data"
   ]
  },
  {
   "cell_type": "code",
   "execution_count": 7,
   "metadata": {},
   "outputs": [
    {
     "data": {
      "text/html": [
       "<div>\n",
       "<style scoped>\n",
       "    .dataframe tbody tr th:only-of-type {\n",
       "        vertical-align: middle;\n",
       "    }\n",
       "\n",
       "    .dataframe tbody tr th {\n",
       "        vertical-align: top;\n",
       "    }\n",
       "\n",
       "    .dataframe thead th {\n",
       "        text-align: right;\n",
       "    }\n",
       "</style>\n",
       "<table border=\"1\" class=\"dataframe\">\n",
       "  <thead>\n",
       "    <tr style=\"text-align: right;\">\n",
       "      <th></th>\n",
       "      <th>hotel</th>\n",
       "      <th>is_canceled</th>\n",
       "      <th>lead_time</th>\n",
       "      <th>arrival_date_year</th>\n",
       "      <th>arrival_date_month</th>\n",
       "      <th>arrival_date_week_number</th>\n",
       "      <th>arrival_date_day_of_month</th>\n",
       "      <th>stays_in_weekend_nights</th>\n",
       "      <th>stays_in_week_nights</th>\n",
       "      <th>adults</th>\n",
       "      <th>...</th>\n",
       "      <th>agent</th>\n",
       "      <th>company</th>\n",
       "      <th>days_in_waiting_list</th>\n",
       "      <th>customer_type</th>\n",
       "      <th>adr</th>\n",
       "      <th>required_car_parking_spaces</th>\n",
       "      <th>total_of_special_requests</th>\n",
       "      <th>reservation_status</th>\n",
       "      <th>reservation_status_date</th>\n",
       "      <th>Discount</th>\n",
       "    </tr>\n",
       "  </thead>\n",
       "  <tbody>\n",
       "    <tr>\n",
       "      <th>0</th>\n",
       "      <td>Resort Hotel</td>\n",
       "      <td>1</td>\n",
       "      <td>85</td>\n",
       "      <td>2018</td>\n",
       "      <td>July</td>\n",
       "      <td>27</td>\n",
       "      <td>1</td>\n",
       "      <td>0</td>\n",
       "      <td>3</td>\n",
       "      <td>2</td>\n",
       "      <td>...</td>\n",
       "      <td>240.0</td>\n",
       "      <td>NaN</td>\n",
       "      <td>0</td>\n",
       "      <td>Transient</td>\n",
       "      <td>82.0</td>\n",
       "      <td>0</td>\n",
       "      <td>1</td>\n",
       "      <td>Canceled</td>\n",
       "      <td>5/6/2018</td>\n",
       "      <td>0.30</td>\n",
       "    </tr>\n",
       "    <tr>\n",
       "      <th>1</th>\n",
       "      <td>Resort Hotel</td>\n",
       "      <td>1</td>\n",
       "      <td>75</td>\n",
       "      <td>2018</td>\n",
       "      <td>July</td>\n",
       "      <td>27</td>\n",
       "      <td>1</td>\n",
       "      <td>0</td>\n",
       "      <td>3</td>\n",
       "      <td>2</td>\n",
       "      <td>...</td>\n",
       "      <td>15.0</td>\n",
       "      <td>NaN</td>\n",
       "      <td>0</td>\n",
       "      <td>Transient</td>\n",
       "      <td>105.5</td>\n",
       "      <td>0</td>\n",
       "      <td>0</td>\n",
       "      <td>Canceled</td>\n",
       "      <td>4/22/2018</td>\n",
       "      <td>0.30</td>\n",
       "    </tr>\n",
       "    <tr>\n",
       "      <th>2</th>\n",
       "      <td>Resort Hotel</td>\n",
       "      <td>1</td>\n",
       "      <td>23</td>\n",
       "      <td>2018</td>\n",
       "      <td>July</td>\n",
       "      <td>27</td>\n",
       "      <td>1</td>\n",
       "      <td>0</td>\n",
       "      <td>4</td>\n",
       "      <td>2</td>\n",
       "      <td>...</td>\n",
       "      <td>240.0</td>\n",
       "      <td>NaN</td>\n",
       "      <td>0</td>\n",
       "      <td>Transient</td>\n",
       "      <td>123.0</td>\n",
       "      <td>0</td>\n",
       "      <td>0</td>\n",
       "      <td>Canceled</td>\n",
       "      <td>6/23/2018</td>\n",
       "      <td>0.30</td>\n",
       "    </tr>\n",
       "    <tr>\n",
       "      <th>3</th>\n",
       "      <td>Resort Hotel</td>\n",
       "      <td>1</td>\n",
       "      <td>60</td>\n",
       "      <td>2018</td>\n",
       "      <td>July</td>\n",
       "      <td>27</td>\n",
       "      <td>1</td>\n",
       "      <td>2</td>\n",
       "      <td>5</td>\n",
       "      <td>2</td>\n",
       "      <td>...</td>\n",
       "      <td>240.0</td>\n",
       "      <td>NaN</td>\n",
       "      <td>0</td>\n",
       "      <td>Transient</td>\n",
       "      <td>107.0</td>\n",
       "      <td>0</td>\n",
       "      <td>2</td>\n",
       "      <td>Canceled</td>\n",
       "      <td>5/11/2018</td>\n",
       "      <td>0.30</td>\n",
       "    </tr>\n",
       "    <tr>\n",
       "      <th>4</th>\n",
       "      <td>Resort Hotel</td>\n",
       "      <td>1</td>\n",
       "      <td>96</td>\n",
       "      <td>2018</td>\n",
       "      <td>July</td>\n",
       "      <td>27</td>\n",
       "      <td>1</td>\n",
       "      <td>2</td>\n",
       "      <td>8</td>\n",
       "      <td>2</td>\n",
       "      <td>...</td>\n",
       "      <td>NaN</td>\n",
       "      <td>NaN</td>\n",
       "      <td>0</td>\n",
       "      <td>Transient</td>\n",
       "      <td>108.3</td>\n",
       "      <td>0</td>\n",
       "      <td>2</td>\n",
       "      <td>Canceled</td>\n",
       "      <td>5/29/2018</td>\n",
       "      <td>0.10</td>\n",
       "    </tr>\n",
       "    <tr>\n",
       "      <th>...</th>\n",
       "      <td>...</td>\n",
       "      <td>...</td>\n",
       "      <td>...</td>\n",
       "      <td>...</td>\n",
       "      <td>...</td>\n",
       "      <td>...</td>\n",
       "      <td>...</td>\n",
       "      <td>...</td>\n",
       "      <td>...</td>\n",
       "      <td>...</td>\n",
       "      <td>...</td>\n",
       "      <td>...</td>\n",
       "      <td>...</td>\n",
       "      <td>...</td>\n",
       "      <td>...</td>\n",
       "      <td>...</td>\n",
       "      <td>...</td>\n",
       "      <td>...</td>\n",
       "      <td>...</td>\n",
       "      <td>...</td>\n",
       "      <td>...</td>\n",
       "    </tr>\n",
       "    <tr>\n",
       "      <th>141942</th>\n",
       "      <td>City Hotel</td>\n",
       "      <td>1</td>\n",
       "      <td>1</td>\n",
       "      <td>2020</td>\n",
       "      <td>February</td>\n",
       "      <td>5</td>\n",
       "      <td>1</td>\n",
       "      <td>0</td>\n",
       "      <td>0</td>\n",
       "      <td>1</td>\n",
       "      <td>...</td>\n",
       "      <td>NaN</td>\n",
       "      <td>153.0</td>\n",
       "      <td>0</td>\n",
       "      <td>Transient</td>\n",
       "      <td>0.0</td>\n",
       "      <td>0</td>\n",
       "      <td>1</td>\n",
       "      <td>No-Show</td>\n",
       "      <td>2/1/2020</td>\n",
       "      <td>0.20</td>\n",
       "    </tr>\n",
       "    <tr>\n",
       "      <th>141943</th>\n",
       "      <td>City Hotel</td>\n",
       "      <td>1</td>\n",
       "      <td>31</td>\n",
       "      <td>2020</td>\n",
       "      <td>July</td>\n",
       "      <td>29</td>\n",
       "      <td>16</td>\n",
       "      <td>2</td>\n",
       "      <td>0</td>\n",
       "      <td>1</td>\n",
       "      <td>...</td>\n",
       "      <td>NaN</td>\n",
       "      <td>NaN</td>\n",
       "      <td>0</td>\n",
       "      <td>Transient</td>\n",
       "      <td>135.0</td>\n",
       "      <td>0</td>\n",
       "      <td>2</td>\n",
       "      <td>No-Show</td>\n",
       "      <td>7/16/2020</td>\n",
       "      <td>0.10</td>\n",
       "    </tr>\n",
       "    <tr>\n",
       "      <th>141944</th>\n",
       "      <td>City Hotel</td>\n",
       "      <td>1</td>\n",
       "      <td>25</td>\n",
       "      <td>2020</td>\n",
       "      <td>May</td>\n",
       "      <td>18</td>\n",
       "      <td>6</td>\n",
       "      <td>2</td>\n",
       "      <td>1</td>\n",
       "      <td>1</td>\n",
       "      <td>...</td>\n",
       "      <td>NaN</td>\n",
       "      <td>450.0</td>\n",
       "      <td>0</td>\n",
       "      <td>Transient</td>\n",
       "      <td>125.0</td>\n",
       "      <td>0</td>\n",
       "      <td>0</td>\n",
       "      <td>No-Show</td>\n",
       "      <td>5/6/2020</td>\n",
       "      <td>0.15</td>\n",
       "    </tr>\n",
       "    <tr>\n",
       "      <th>141945</th>\n",
       "      <td>City Hotel</td>\n",
       "      <td>1</td>\n",
       "      <td>6</td>\n",
       "      <td>2020</td>\n",
       "      <td>July</td>\n",
       "      <td>29</td>\n",
       "      <td>17</td>\n",
       "      <td>1</td>\n",
       "      <td>0</td>\n",
       "      <td>1</td>\n",
       "      <td>...</td>\n",
       "      <td>NaN</td>\n",
       "      <td>238.0</td>\n",
       "      <td>0</td>\n",
       "      <td>Transient</td>\n",
       "      <td>65.0</td>\n",
       "      <td>0</td>\n",
       "      <td>0</td>\n",
       "      <td>No-Show</td>\n",
       "      <td>7/17/2020</td>\n",
       "      <td>0.15</td>\n",
       "    </tr>\n",
       "    <tr>\n",
       "      <th>141946</th>\n",
       "      <td>City Hotel</td>\n",
       "      <td>1</td>\n",
       "      <td>0</td>\n",
       "      <td>2020</td>\n",
       "      <td>August</td>\n",
       "      <td>31</td>\n",
       "      <td>2</td>\n",
       "      <td>0</td>\n",
       "      <td>2</td>\n",
       "      <td>1</td>\n",
       "      <td>...</td>\n",
       "      <td>NaN</td>\n",
       "      <td>40.0</td>\n",
       "      <td>0</td>\n",
       "      <td>Transient</td>\n",
       "      <td>65.0</td>\n",
       "      <td>0</td>\n",
       "      <td>1</td>\n",
       "      <td>No-Show</td>\n",
       "      <td>8/2/2020</td>\n",
       "      <td>0.15</td>\n",
       "    </tr>\n",
       "  </tbody>\n",
       "</table>\n",
       "<p>141947 rows × 33 columns</p>\n",
       "</div>"
      ],
      "text/plain": [
       "               hotel  is_canceled  lead_time  arrival_date_year  \\\n",
       "0       Resort Hotel            1         85               2018   \n",
       "1       Resort Hotel            1         75               2018   \n",
       "2       Resort Hotel            1         23               2018   \n",
       "3       Resort Hotel            1         60               2018   \n",
       "4       Resort Hotel            1         96               2018   \n",
       "...              ...          ...        ...                ...   \n",
       "141942    City Hotel            1          1               2020   \n",
       "141943    City Hotel            1         31               2020   \n",
       "141944    City Hotel            1         25               2020   \n",
       "141945    City Hotel            1          6               2020   \n",
       "141946    City Hotel            1          0               2020   \n",
       "\n",
       "       arrival_date_month  arrival_date_week_number  \\\n",
       "0                    July                        27   \n",
       "1                    July                        27   \n",
       "2                    July                        27   \n",
       "3                    July                        27   \n",
       "4                    July                        27   \n",
       "...                   ...                       ...   \n",
       "141942           February                         5   \n",
       "141943               July                        29   \n",
       "141944                May                        18   \n",
       "141945               July                        29   \n",
       "141946             August                        31   \n",
       "\n",
       "        arrival_date_day_of_month  stays_in_weekend_nights  \\\n",
       "0                               1                        0   \n",
       "1                               1                        0   \n",
       "2                               1                        0   \n",
       "3                               1                        2   \n",
       "4                               1                        2   \n",
       "...                           ...                      ...   \n",
       "141942                          1                        0   \n",
       "141943                         16                        2   \n",
       "141944                          6                        2   \n",
       "141945                         17                        1   \n",
       "141946                          2                        0   \n",
       "\n",
       "        stays_in_week_nights  adults  ...  agent  company  \\\n",
       "0                          3       2  ...  240.0      NaN   \n",
       "1                          3       2  ...   15.0      NaN   \n",
       "2                          4       2  ...  240.0      NaN   \n",
       "3                          5       2  ...  240.0      NaN   \n",
       "4                          8       2  ...    NaN      NaN   \n",
       "...                      ...     ...  ...    ...      ...   \n",
       "141942                     0       1  ...    NaN    153.0   \n",
       "141943                     0       1  ...    NaN      NaN   \n",
       "141944                     1       1  ...    NaN    450.0   \n",
       "141945                     0       1  ...    NaN    238.0   \n",
       "141946                     2       1  ...    NaN     40.0   \n",
       "\n",
       "       days_in_waiting_list customer_type    adr required_car_parking_spaces  \\\n",
       "0                         0     Transient   82.0                           0   \n",
       "1                         0     Transient  105.5                           0   \n",
       "2                         0     Transient  123.0                           0   \n",
       "3                         0     Transient  107.0                           0   \n",
       "4                         0     Transient  108.3                           0   \n",
       "...                     ...           ...    ...                         ...   \n",
       "141942                    0     Transient    0.0                           0   \n",
       "141943                    0     Transient  135.0                           0   \n",
       "141944                    0     Transient  125.0                           0   \n",
       "141945                    0     Transient   65.0                           0   \n",
       "141946                    0     Transient   65.0                           0   \n",
       "\n",
       "        total_of_special_requests  reservation_status  \\\n",
       "0                               1            Canceled   \n",
       "1                               0            Canceled   \n",
       "2                               0            Canceled   \n",
       "3                               2            Canceled   \n",
       "4                               2            Canceled   \n",
       "...                           ...                 ...   \n",
       "141942                          1             No-Show   \n",
       "141943                          2             No-Show   \n",
       "141944                          0             No-Show   \n",
       "141945                          0             No-Show   \n",
       "141946                          1             No-Show   \n",
       "\n",
       "        reservation_status_date Discount  \n",
       "0                      5/6/2018     0.30  \n",
       "1                     4/22/2018     0.30  \n",
       "2                     6/23/2018     0.30  \n",
       "3                     5/11/2018     0.30  \n",
       "4                     5/29/2018     0.10  \n",
       "...                         ...      ...  \n",
       "141942                 2/1/2020     0.20  \n",
       "141943                7/16/2020     0.10  \n",
       "141944                 5/6/2020     0.15  \n",
       "141945                7/17/2020     0.15  \n",
       "141946                 8/2/2020     0.15  \n",
       "\n",
       "[141947 rows x 33 columns]"
      ]
     },
     "execution_count": 7,
     "metadata": {},
     "output_type": "execute_result"
    }
   ],
   "source": [
    "# Fusionnez des DataFrames\n",
    "hotel_data = pd.merge(hotel_data, market_segment_data, on='market_segment', how='left')\n",
    "hotel_data"
   ]
  },
  {
   "cell_type": "code",
   "execution_count": 8,
   "metadata": {},
   "outputs": [
    {
     "data": {
      "text/html": [
       "<div>\n",
       "<style scoped>\n",
       "    .dataframe tbody tr th:only-of-type {\n",
       "        vertical-align: middle;\n",
       "    }\n",
       "\n",
       "    .dataframe tbody tr th {\n",
       "        vertical-align: top;\n",
       "    }\n",
       "\n",
       "    .dataframe thead th {\n",
       "        text-align: right;\n",
       "    }\n",
       "</style>\n",
       "<table border=\"1\" class=\"dataframe\">\n",
       "  <thead>\n",
       "    <tr style=\"text-align: right;\">\n",
       "      <th></th>\n",
       "      <th>hotel</th>\n",
       "      <th>is_canceled</th>\n",
       "      <th>lead_time</th>\n",
       "      <th>arrival_date_year</th>\n",
       "      <th>arrival_date_month</th>\n",
       "      <th>arrival_date_week_number</th>\n",
       "      <th>arrival_date_day_of_month</th>\n",
       "      <th>stays_in_weekend_nights</th>\n",
       "      <th>stays_in_week_nights</th>\n",
       "      <th>adults</th>\n",
       "      <th>...</th>\n",
       "      <th>company</th>\n",
       "      <th>days_in_waiting_list</th>\n",
       "      <th>customer_type</th>\n",
       "      <th>adr</th>\n",
       "      <th>required_car_parking_spaces</th>\n",
       "      <th>total_of_special_requests</th>\n",
       "      <th>reservation_status</th>\n",
       "      <th>reservation_status_date</th>\n",
       "      <th>Discount</th>\n",
       "      <th>Cost</th>\n",
       "    </tr>\n",
       "  </thead>\n",
       "  <tbody>\n",
       "    <tr>\n",
       "      <th>0</th>\n",
       "      <td>Resort Hotel</td>\n",
       "      <td>1</td>\n",
       "      <td>85</td>\n",
       "      <td>2018</td>\n",
       "      <td>July</td>\n",
       "      <td>27</td>\n",
       "      <td>1</td>\n",
       "      <td>0</td>\n",
       "      <td>3</td>\n",
       "      <td>2</td>\n",
       "      <td>...</td>\n",
       "      <td>NaN</td>\n",
       "      <td>0</td>\n",
       "      <td>Transient</td>\n",
       "      <td>82.0</td>\n",
       "      <td>0</td>\n",
       "      <td>1</td>\n",
       "      <td>Canceled</td>\n",
       "      <td>5/6/2018</td>\n",
       "      <td>0.30</td>\n",
       "      <td>12.99</td>\n",
       "    </tr>\n",
       "    <tr>\n",
       "      <th>1</th>\n",
       "      <td>Resort Hotel</td>\n",
       "      <td>1</td>\n",
       "      <td>75</td>\n",
       "      <td>2018</td>\n",
       "      <td>July</td>\n",
       "      <td>27</td>\n",
       "      <td>1</td>\n",
       "      <td>0</td>\n",
       "      <td>3</td>\n",
       "      <td>2</td>\n",
       "      <td>...</td>\n",
       "      <td>NaN</td>\n",
       "      <td>0</td>\n",
       "      <td>Transient</td>\n",
       "      <td>105.5</td>\n",
       "      <td>0</td>\n",
       "      <td>0</td>\n",
       "      <td>Canceled</td>\n",
       "      <td>4/22/2018</td>\n",
       "      <td>0.30</td>\n",
       "      <td>17.99</td>\n",
       "    </tr>\n",
       "    <tr>\n",
       "      <th>2</th>\n",
       "      <td>Resort Hotel</td>\n",
       "      <td>1</td>\n",
       "      <td>23</td>\n",
       "      <td>2018</td>\n",
       "      <td>July</td>\n",
       "      <td>27</td>\n",
       "      <td>1</td>\n",
       "      <td>0</td>\n",
       "      <td>4</td>\n",
       "      <td>2</td>\n",
       "      <td>...</td>\n",
       "      <td>NaN</td>\n",
       "      <td>0</td>\n",
       "      <td>Transient</td>\n",
       "      <td>123.0</td>\n",
       "      <td>0</td>\n",
       "      <td>0</td>\n",
       "      <td>Canceled</td>\n",
       "      <td>6/23/2018</td>\n",
       "      <td>0.30</td>\n",
       "      <td>12.99</td>\n",
       "    </tr>\n",
       "    <tr>\n",
       "      <th>3</th>\n",
       "      <td>Resort Hotel</td>\n",
       "      <td>1</td>\n",
       "      <td>60</td>\n",
       "      <td>2018</td>\n",
       "      <td>July</td>\n",
       "      <td>27</td>\n",
       "      <td>1</td>\n",
       "      <td>2</td>\n",
       "      <td>5</td>\n",
       "      <td>2</td>\n",
       "      <td>...</td>\n",
       "      <td>NaN</td>\n",
       "      <td>0</td>\n",
       "      <td>Transient</td>\n",
       "      <td>107.0</td>\n",
       "      <td>0</td>\n",
       "      <td>2</td>\n",
       "      <td>Canceled</td>\n",
       "      <td>5/11/2018</td>\n",
       "      <td>0.30</td>\n",
       "      <td>12.99</td>\n",
       "    </tr>\n",
       "    <tr>\n",
       "      <th>4</th>\n",
       "      <td>Resort Hotel</td>\n",
       "      <td>1</td>\n",
       "      <td>96</td>\n",
       "      <td>2018</td>\n",
       "      <td>July</td>\n",
       "      <td>27</td>\n",
       "      <td>1</td>\n",
       "      <td>2</td>\n",
       "      <td>8</td>\n",
       "      <td>2</td>\n",
       "      <td>...</td>\n",
       "      <td>NaN</td>\n",
       "      <td>0</td>\n",
       "      <td>Transient</td>\n",
       "      <td>108.3</td>\n",
       "      <td>0</td>\n",
       "      <td>2</td>\n",
       "      <td>Canceled</td>\n",
       "      <td>5/29/2018</td>\n",
       "      <td>0.10</td>\n",
       "      <td>12.99</td>\n",
       "    </tr>\n",
       "    <tr>\n",
       "      <th>...</th>\n",
       "      <td>...</td>\n",
       "      <td>...</td>\n",
       "      <td>...</td>\n",
       "      <td>...</td>\n",
       "      <td>...</td>\n",
       "      <td>...</td>\n",
       "      <td>...</td>\n",
       "      <td>...</td>\n",
       "      <td>...</td>\n",
       "      <td>...</td>\n",
       "      <td>...</td>\n",
       "      <td>...</td>\n",
       "      <td>...</td>\n",
       "      <td>...</td>\n",
       "      <td>...</td>\n",
       "      <td>...</td>\n",
       "      <td>...</td>\n",
       "      <td>...</td>\n",
       "      <td>...</td>\n",
       "      <td>...</td>\n",
       "      <td>...</td>\n",
       "    </tr>\n",
       "    <tr>\n",
       "      <th>141942</th>\n",
       "      <td>City Hotel</td>\n",
       "      <td>1</td>\n",
       "      <td>1</td>\n",
       "      <td>2020</td>\n",
       "      <td>February</td>\n",
       "      <td>5</td>\n",
       "      <td>1</td>\n",
       "      <td>0</td>\n",
       "      <td>0</td>\n",
       "      <td>1</td>\n",
       "      <td>...</td>\n",
       "      <td>153.0</td>\n",
       "      <td>0</td>\n",
       "      <td>Transient</td>\n",
       "      <td>0.0</td>\n",
       "      <td>0</td>\n",
       "      <td>1</td>\n",
       "      <td>No-Show</td>\n",
       "      <td>2/1/2020</td>\n",
       "      <td>0.20</td>\n",
       "      <td>12.99</td>\n",
       "    </tr>\n",
       "    <tr>\n",
       "      <th>141943</th>\n",
       "      <td>City Hotel</td>\n",
       "      <td>1</td>\n",
       "      <td>31</td>\n",
       "      <td>2020</td>\n",
       "      <td>July</td>\n",
       "      <td>29</td>\n",
       "      <td>16</td>\n",
       "      <td>2</td>\n",
       "      <td>0</td>\n",
       "      <td>1</td>\n",
       "      <td>...</td>\n",
       "      <td>NaN</td>\n",
       "      <td>0</td>\n",
       "      <td>Transient</td>\n",
       "      <td>135.0</td>\n",
       "      <td>0</td>\n",
       "      <td>2</td>\n",
       "      <td>No-Show</td>\n",
       "      <td>7/16/2020</td>\n",
       "      <td>0.10</td>\n",
       "      <td>12.99</td>\n",
       "    </tr>\n",
       "    <tr>\n",
       "      <th>141944</th>\n",
       "      <td>City Hotel</td>\n",
       "      <td>1</td>\n",
       "      <td>25</td>\n",
       "      <td>2020</td>\n",
       "      <td>May</td>\n",
       "      <td>18</td>\n",
       "      <td>6</td>\n",
       "      <td>2</td>\n",
       "      <td>1</td>\n",
       "      <td>1</td>\n",
       "      <td>...</td>\n",
       "      <td>450.0</td>\n",
       "      <td>0</td>\n",
       "      <td>Transient</td>\n",
       "      <td>125.0</td>\n",
       "      <td>0</td>\n",
       "      <td>0</td>\n",
       "      <td>No-Show</td>\n",
       "      <td>5/6/2020</td>\n",
       "      <td>0.15</td>\n",
       "      <td>12.99</td>\n",
       "    </tr>\n",
       "    <tr>\n",
       "      <th>141945</th>\n",
       "      <td>City Hotel</td>\n",
       "      <td>1</td>\n",
       "      <td>6</td>\n",
       "      <td>2020</td>\n",
       "      <td>July</td>\n",
       "      <td>29</td>\n",
       "      <td>17</td>\n",
       "      <td>1</td>\n",
       "      <td>0</td>\n",
       "      <td>1</td>\n",
       "      <td>...</td>\n",
       "      <td>238.0</td>\n",
       "      <td>0</td>\n",
       "      <td>Transient</td>\n",
       "      <td>65.0</td>\n",
       "      <td>0</td>\n",
       "      <td>0</td>\n",
       "      <td>No-Show</td>\n",
       "      <td>7/17/2020</td>\n",
       "      <td>0.15</td>\n",
       "      <td>12.99</td>\n",
       "    </tr>\n",
       "    <tr>\n",
       "      <th>141946</th>\n",
       "      <td>City Hotel</td>\n",
       "      <td>1</td>\n",
       "      <td>0</td>\n",
       "      <td>2020</td>\n",
       "      <td>August</td>\n",
       "      <td>31</td>\n",
       "      <td>2</td>\n",
       "      <td>0</td>\n",
       "      <td>2</td>\n",
       "      <td>1</td>\n",
       "      <td>...</td>\n",
       "      <td>40.0</td>\n",
       "      <td>0</td>\n",
       "      <td>Transient</td>\n",
       "      <td>65.0</td>\n",
       "      <td>0</td>\n",
       "      <td>1</td>\n",
       "      <td>No-Show</td>\n",
       "      <td>8/2/2020</td>\n",
       "      <td>0.15</td>\n",
       "      <td>12.99</td>\n",
       "    </tr>\n",
       "  </tbody>\n",
       "</table>\n",
       "<p>141947 rows × 34 columns</p>\n",
       "</div>"
      ],
      "text/plain": [
       "               hotel  is_canceled  lead_time  arrival_date_year  \\\n",
       "0       Resort Hotel            1         85               2018   \n",
       "1       Resort Hotel            1         75               2018   \n",
       "2       Resort Hotel            1         23               2018   \n",
       "3       Resort Hotel            1         60               2018   \n",
       "4       Resort Hotel            1         96               2018   \n",
       "...              ...          ...        ...                ...   \n",
       "141942    City Hotel            1          1               2020   \n",
       "141943    City Hotel            1         31               2020   \n",
       "141944    City Hotel            1         25               2020   \n",
       "141945    City Hotel            1          6               2020   \n",
       "141946    City Hotel            1          0               2020   \n",
       "\n",
       "       arrival_date_month  arrival_date_week_number  \\\n",
       "0                    July                        27   \n",
       "1                    July                        27   \n",
       "2                    July                        27   \n",
       "3                    July                        27   \n",
       "4                    July                        27   \n",
       "...                   ...                       ...   \n",
       "141942           February                         5   \n",
       "141943               July                        29   \n",
       "141944                May                        18   \n",
       "141945               July                        29   \n",
       "141946             August                        31   \n",
       "\n",
       "        arrival_date_day_of_month  stays_in_weekend_nights  \\\n",
       "0                               1                        0   \n",
       "1                               1                        0   \n",
       "2                               1                        0   \n",
       "3                               1                        2   \n",
       "4                               1                        2   \n",
       "...                           ...                      ...   \n",
       "141942                          1                        0   \n",
       "141943                         16                        2   \n",
       "141944                          6                        2   \n",
       "141945                         17                        1   \n",
       "141946                          2                        0   \n",
       "\n",
       "        stays_in_week_nights  adults  ...  company  days_in_waiting_list  \\\n",
       "0                          3       2  ...      NaN                     0   \n",
       "1                          3       2  ...      NaN                     0   \n",
       "2                          4       2  ...      NaN                     0   \n",
       "3                          5       2  ...      NaN                     0   \n",
       "4                          8       2  ...      NaN                     0   \n",
       "...                      ...     ...  ...      ...                   ...   \n",
       "141942                     0       1  ...    153.0                     0   \n",
       "141943                     0       1  ...      NaN                     0   \n",
       "141944                     1       1  ...    450.0                     0   \n",
       "141945                     0       1  ...    238.0                     0   \n",
       "141946                     2       1  ...     40.0                     0   \n",
       "\n",
       "       customer_type    adr required_car_parking_spaces  \\\n",
       "0          Transient   82.0                           0   \n",
       "1          Transient  105.5                           0   \n",
       "2          Transient  123.0                           0   \n",
       "3          Transient  107.0                           0   \n",
       "4          Transient  108.3                           0   \n",
       "...              ...    ...                         ...   \n",
       "141942     Transient    0.0                           0   \n",
       "141943     Transient  135.0                           0   \n",
       "141944     Transient  125.0                           0   \n",
       "141945     Transient   65.0                           0   \n",
       "141946     Transient   65.0                           0   \n",
       "\n",
       "       total_of_special_requests  reservation_status  reservation_status_date  \\\n",
       "0                              1            Canceled                 5/6/2018   \n",
       "1                              0            Canceled                4/22/2018   \n",
       "2                              0            Canceled                6/23/2018   \n",
       "3                              2            Canceled                5/11/2018   \n",
       "4                              2            Canceled                5/29/2018   \n",
       "...                          ...                 ...                      ...   \n",
       "141942                         1             No-Show                 2/1/2020   \n",
       "141943                         2             No-Show                7/16/2020   \n",
       "141944                         0             No-Show                 5/6/2020   \n",
       "141945                         0             No-Show                7/17/2020   \n",
       "141946                         1             No-Show                 8/2/2020   \n",
       "\n",
       "        Discount   Cost  \n",
       "0           0.30  12.99  \n",
       "1           0.30  17.99  \n",
       "2           0.30  12.99  \n",
       "3           0.30  12.99  \n",
       "4           0.10  12.99  \n",
       "...          ...    ...  \n",
       "141942      0.20  12.99  \n",
       "141943      0.10  12.99  \n",
       "141944      0.15  12.99  \n",
       "141945      0.15  12.99  \n",
       "141946      0.15  12.99  \n",
       "\n",
       "[141947 rows x 34 columns]"
      ]
     },
     "execution_count": 8,
     "metadata": {},
     "output_type": "execute_result"
    }
   ],
   "source": [
    "hotel_data = pd.merge(hotel_data, meal_cost_data, on='meal', how='left')\n",
    "hotel_data"
   ]
  },
  {
   "cell_type": "markdown",
   "metadata": {},
   "source": [
    "# Gestion des écarts dans les données :"
   ]
  },
  {
   "cell_type": "code",
   "execution_count": 9,
   "metadata": {},
   "outputs": [],
   "source": [
    "hotel_data['reservation_status_date'] = pd.to_datetime(hotel_data['reservation_status_date'])\n",
    "discrepancies = hotel_data[hotel_data['reservation_status_date'].dt.year != hotel_data['arrival_date_year']]"
   ]
  },
  {
   "cell_type": "code",
   "execution_count": 10,
   "metadata": {},
   "outputs": [],
   "source": [
    "expected_years = [2018, 2019, 2020]\n",
    "# Filtrer les lignes présentant des écarts anormaux et conserver uniquement celles avec les années attendues\n",
    "hotel_data = hotel_data[hotel_data['reservation_status_date'].dt.year.isin(expected_years)]"
   ]
  },
  {
   "cell_type": "code",
   "execution_count": 11,
   "metadata": {},
   "outputs": [
    {
     "data": {
      "text/html": [
       "<div>\n",
       "<style scoped>\n",
       "    .dataframe tbody tr th:only-of-type {\n",
       "        vertical-align: middle;\n",
       "    }\n",
       "\n",
       "    .dataframe tbody tr th {\n",
       "        vertical-align: top;\n",
       "    }\n",
       "\n",
       "    .dataframe thead th {\n",
       "        text-align: right;\n",
       "    }\n",
       "</style>\n",
       "<table border=\"1\" class=\"dataframe\">\n",
       "  <thead>\n",
       "    <tr style=\"text-align: right;\">\n",
       "      <th></th>\n",
       "      <th>hotel</th>\n",
       "      <th>is_canceled</th>\n",
       "      <th>lead_time</th>\n",
       "      <th>arrival_date_year</th>\n",
       "      <th>arrival_date_month</th>\n",
       "      <th>arrival_date_week_number</th>\n",
       "      <th>arrival_date_day_of_month</th>\n",
       "      <th>stays_in_weekend_nights</th>\n",
       "      <th>stays_in_week_nights</th>\n",
       "      <th>adults</th>\n",
       "      <th>...</th>\n",
       "      <th>company</th>\n",
       "      <th>days_in_waiting_list</th>\n",
       "      <th>customer_type</th>\n",
       "      <th>adr</th>\n",
       "      <th>required_car_parking_spaces</th>\n",
       "      <th>total_of_special_requests</th>\n",
       "      <th>reservation_status</th>\n",
       "      <th>reservation_status_date</th>\n",
       "      <th>Discount</th>\n",
       "      <th>Cost</th>\n",
       "    </tr>\n",
       "  </thead>\n",
       "  <tbody>\n",
       "    <tr>\n",
       "      <th>0</th>\n",
       "      <td>Resort Hotel</td>\n",
       "      <td>1</td>\n",
       "      <td>85</td>\n",
       "      <td>2018</td>\n",
       "      <td>July</td>\n",
       "      <td>27</td>\n",
       "      <td>1</td>\n",
       "      <td>0</td>\n",
       "      <td>3</td>\n",
       "      <td>2</td>\n",
       "      <td>...</td>\n",
       "      <td>NaN</td>\n",
       "      <td>0</td>\n",
       "      <td>Transient</td>\n",
       "      <td>82.0</td>\n",
       "      <td>0</td>\n",
       "      <td>1</td>\n",
       "      <td>Canceled</td>\n",
       "      <td>2018-05-06</td>\n",
       "      <td>0.30</td>\n",
       "      <td>12.99</td>\n",
       "    </tr>\n",
       "    <tr>\n",
       "      <th>1</th>\n",
       "      <td>Resort Hotel</td>\n",
       "      <td>1</td>\n",
       "      <td>75</td>\n",
       "      <td>2018</td>\n",
       "      <td>July</td>\n",
       "      <td>27</td>\n",
       "      <td>1</td>\n",
       "      <td>0</td>\n",
       "      <td>3</td>\n",
       "      <td>2</td>\n",
       "      <td>...</td>\n",
       "      <td>NaN</td>\n",
       "      <td>0</td>\n",
       "      <td>Transient</td>\n",
       "      <td>105.5</td>\n",
       "      <td>0</td>\n",
       "      <td>0</td>\n",
       "      <td>Canceled</td>\n",
       "      <td>2018-04-22</td>\n",
       "      <td>0.30</td>\n",
       "      <td>17.99</td>\n",
       "    </tr>\n",
       "    <tr>\n",
       "      <th>2</th>\n",
       "      <td>Resort Hotel</td>\n",
       "      <td>1</td>\n",
       "      <td>23</td>\n",
       "      <td>2018</td>\n",
       "      <td>July</td>\n",
       "      <td>27</td>\n",
       "      <td>1</td>\n",
       "      <td>0</td>\n",
       "      <td>4</td>\n",
       "      <td>2</td>\n",
       "      <td>...</td>\n",
       "      <td>NaN</td>\n",
       "      <td>0</td>\n",
       "      <td>Transient</td>\n",
       "      <td>123.0</td>\n",
       "      <td>0</td>\n",
       "      <td>0</td>\n",
       "      <td>Canceled</td>\n",
       "      <td>2018-06-23</td>\n",
       "      <td>0.30</td>\n",
       "      <td>12.99</td>\n",
       "    </tr>\n",
       "    <tr>\n",
       "      <th>3</th>\n",
       "      <td>Resort Hotel</td>\n",
       "      <td>1</td>\n",
       "      <td>60</td>\n",
       "      <td>2018</td>\n",
       "      <td>July</td>\n",
       "      <td>27</td>\n",
       "      <td>1</td>\n",
       "      <td>2</td>\n",
       "      <td>5</td>\n",
       "      <td>2</td>\n",
       "      <td>...</td>\n",
       "      <td>NaN</td>\n",
       "      <td>0</td>\n",
       "      <td>Transient</td>\n",
       "      <td>107.0</td>\n",
       "      <td>0</td>\n",
       "      <td>2</td>\n",
       "      <td>Canceled</td>\n",
       "      <td>2018-05-11</td>\n",
       "      <td>0.30</td>\n",
       "      <td>12.99</td>\n",
       "    </tr>\n",
       "    <tr>\n",
       "      <th>4</th>\n",
       "      <td>Resort Hotel</td>\n",
       "      <td>1</td>\n",
       "      <td>96</td>\n",
       "      <td>2018</td>\n",
       "      <td>July</td>\n",
       "      <td>27</td>\n",
       "      <td>1</td>\n",
       "      <td>2</td>\n",
       "      <td>8</td>\n",
       "      <td>2</td>\n",
       "      <td>...</td>\n",
       "      <td>NaN</td>\n",
       "      <td>0</td>\n",
       "      <td>Transient</td>\n",
       "      <td>108.3</td>\n",
       "      <td>0</td>\n",
       "      <td>2</td>\n",
       "      <td>Canceled</td>\n",
       "      <td>2018-05-29</td>\n",
       "      <td>0.10</td>\n",
       "      <td>12.99</td>\n",
       "    </tr>\n",
       "    <tr>\n",
       "      <th>...</th>\n",
       "      <td>...</td>\n",
       "      <td>...</td>\n",
       "      <td>...</td>\n",
       "      <td>...</td>\n",
       "      <td>...</td>\n",
       "      <td>...</td>\n",
       "      <td>...</td>\n",
       "      <td>...</td>\n",
       "      <td>...</td>\n",
       "      <td>...</td>\n",
       "      <td>...</td>\n",
       "      <td>...</td>\n",
       "      <td>...</td>\n",
       "      <td>...</td>\n",
       "      <td>...</td>\n",
       "      <td>...</td>\n",
       "      <td>...</td>\n",
       "      <td>...</td>\n",
       "      <td>...</td>\n",
       "      <td>...</td>\n",
       "      <td>...</td>\n",
       "    </tr>\n",
       "    <tr>\n",
       "      <th>141942</th>\n",
       "      <td>City Hotel</td>\n",
       "      <td>1</td>\n",
       "      <td>1</td>\n",
       "      <td>2020</td>\n",
       "      <td>February</td>\n",
       "      <td>5</td>\n",
       "      <td>1</td>\n",
       "      <td>0</td>\n",
       "      <td>0</td>\n",
       "      <td>1</td>\n",
       "      <td>...</td>\n",
       "      <td>153.0</td>\n",
       "      <td>0</td>\n",
       "      <td>Transient</td>\n",
       "      <td>0.0</td>\n",
       "      <td>0</td>\n",
       "      <td>1</td>\n",
       "      <td>No-Show</td>\n",
       "      <td>2020-02-01</td>\n",
       "      <td>0.20</td>\n",
       "      <td>12.99</td>\n",
       "    </tr>\n",
       "    <tr>\n",
       "      <th>141943</th>\n",
       "      <td>City Hotel</td>\n",
       "      <td>1</td>\n",
       "      <td>31</td>\n",
       "      <td>2020</td>\n",
       "      <td>July</td>\n",
       "      <td>29</td>\n",
       "      <td>16</td>\n",
       "      <td>2</td>\n",
       "      <td>0</td>\n",
       "      <td>1</td>\n",
       "      <td>...</td>\n",
       "      <td>NaN</td>\n",
       "      <td>0</td>\n",
       "      <td>Transient</td>\n",
       "      <td>135.0</td>\n",
       "      <td>0</td>\n",
       "      <td>2</td>\n",
       "      <td>No-Show</td>\n",
       "      <td>2020-07-16</td>\n",
       "      <td>0.10</td>\n",
       "      <td>12.99</td>\n",
       "    </tr>\n",
       "    <tr>\n",
       "      <th>141944</th>\n",
       "      <td>City Hotel</td>\n",
       "      <td>1</td>\n",
       "      <td>25</td>\n",
       "      <td>2020</td>\n",
       "      <td>May</td>\n",
       "      <td>18</td>\n",
       "      <td>6</td>\n",
       "      <td>2</td>\n",
       "      <td>1</td>\n",
       "      <td>1</td>\n",
       "      <td>...</td>\n",
       "      <td>450.0</td>\n",
       "      <td>0</td>\n",
       "      <td>Transient</td>\n",
       "      <td>125.0</td>\n",
       "      <td>0</td>\n",
       "      <td>0</td>\n",
       "      <td>No-Show</td>\n",
       "      <td>2020-05-06</td>\n",
       "      <td>0.15</td>\n",
       "      <td>12.99</td>\n",
       "    </tr>\n",
       "    <tr>\n",
       "      <th>141945</th>\n",
       "      <td>City Hotel</td>\n",
       "      <td>1</td>\n",
       "      <td>6</td>\n",
       "      <td>2020</td>\n",
       "      <td>July</td>\n",
       "      <td>29</td>\n",
       "      <td>17</td>\n",
       "      <td>1</td>\n",
       "      <td>0</td>\n",
       "      <td>1</td>\n",
       "      <td>...</td>\n",
       "      <td>238.0</td>\n",
       "      <td>0</td>\n",
       "      <td>Transient</td>\n",
       "      <td>65.0</td>\n",
       "      <td>0</td>\n",
       "      <td>0</td>\n",
       "      <td>No-Show</td>\n",
       "      <td>2020-07-17</td>\n",
       "      <td>0.15</td>\n",
       "      <td>12.99</td>\n",
       "    </tr>\n",
       "    <tr>\n",
       "      <th>141946</th>\n",
       "      <td>City Hotel</td>\n",
       "      <td>1</td>\n",
       "      <td>0</td>\n",
       "      <td>2020</td>\n",
       "      <td>August</td>\n",
       "      <td>31</td>\n",
       "      <td>2</td>\n",
       "      <td>0</td>\n",
       "      <td>2</td>\n",
       "      <td>1</td>\n",
       "      <td>...</td>\n",
       "      <td>40.0</td>\n",
       "      <td>0</td>\n",
       "      <td>Transient</td>\n",
       "      <td>65.0</td>\n",
       "      <td>0</td>\n",
       "      <td>1</td>\n",
       "      <td>No-Show</td>\n",
       "      <td>2020-08-02</td>\n",
       "      <td>0.15</td>\n",
       "      <td>12.99</td>\n",
       "    </tr>\n",
       "  </tbody>\n",
       "</table>\n",
       "<p>141585 rows × 34 columns</p>\n",
       "</div>"
      ],
      "text/plain": [
       "               hotel  is_canceled  lead_time  arrival_date_year  \\\n",
       "0       Resort Hotel            1         85               2018   \n",
       "1       Resort Hotel            1         75               2018   \n",
       "2       Resort Hotel            1         23               2018   \n",
       "3       Resort Hotel            1         60               2018   \n",
       "4       Resort Hotel            1         96               2018   \n",
       "...              ...          ...        ...                ...   \n",
       "141942    City Hotel            1          1               2020   \n",
       "141943    City Hotel            1         31               2020   \n",
       "141944    City Hotel            1         25               2020   \n",
       "141945    City Hotel            1          6               2020   \n",
       "141946    City Hotel            1          0               2020   \n",
       "\n",
       "       arrival_date_month  arrival_date_week_number  \\\n",
       "0                    July                        27   \n",
       "1                    July                        27   \n",
       "2                    July                        27   \n",
       "3                    July                        27   \n",
       "4                    July                        27   \n",
       "...                   ...                       ...   \n",
       "141942           February                         5   \n",
       "141943               July                        29   \n",
       "141944                May                        18   \n",
       "141945               July                        29   \n",
       "141946             August                        31   \n",
       "\n",
       "        arrival_date_day_of_month  stays_in_weekend_nights  \\\n",
       "0                               1                        0   \n",
       "1                               1                        0   \n",
       "2                               1                        0   \n",
       "3                               1                        2   \n",
       "4                               1                        2   \n",
       "...                           ...                      ...   \n",
       "141942                          1                        0   \n",
       "141943                         16                        2   \n",
       "141944                          6                        2   \n",
       "141945                         17                        1   \n",
       "141946                          2                        0   \n",
       "\n",
       "        stays_in_week_nights  adults  ...  company  days_in_waiting_list  \\\n",
       "0                          3       2  ...      NaN                     0   \n",
       "1                          3       2  ...      NaN                     0   \n",
       "2                          4       2  ...      NaN                     0   \n",
       "3                          5       2  ...      NaN                     0   \n",
       "4                          8       2  ...      NaN                     0   \n",
       "...                      ...     ...  ...      ...                   ...   \n",
       "141942                     0       1  ...    153.0                     0   \n",
       "141943                     0       1  ...      NaN                     0   \n",
       "141944                     1       1  ...    450.0                     0   \n",
       "141945                     0       1  ...    238.0                     0   \n",
       "141946                     2       1  ...     40.0                     0   \n",
       "\n",
       "       customer_type    adr required_car_parking_spaces  \\\n",
       "0          Transient   82.0                           0   \n",
       "1          Transient  105.5                           0   \n",
       "2          Transient  123.0                           0   \n",
       "3          Transient  107.0                           0   \n",
       "4          Transient  108.3                           0   \n",
       "...              ...    ...                         ...   \n",
       "141942     Transient    0.0                           0   \n",
       "141943     Transient  135.0                           0   \n",
       "141944     Transient  125.0                           0   \n",
       "141945     Transient   65.0                           0   \n",
       "141946     Transient   65.0                           0   \n",
       "\n",
       "       total_of_special_requests  reservation_status  reservation_status_date  \\\n",
       "0                              1            Canceled               2018-05-06   \n",
       "1                              0            Canceled               2018-04-22   \n",
       "2                              0            Canceled               2018-06-23   \n",
       "3                              2            Canceled               2018-05-11   \n",
       "4                              2            Canceled               2018-05-29   \n",
       "...                          ...                 ...                      ...   \n",
       "141942                         1             No-Show               2020-02-01   \n",
       "141943                         2             No-Show               2020-07-16   \n",
       "141944                         0             No-Show               2020-05-06   \n",
       "141945                         0             No-Show               2020-07-17   \n",
       "141946                         1             No-Show               2020-08-02   \n",
       "\n",
       "        Discount   Cost  \n",
       "0           0.30  12.99  \n",
       "1           0.30  17.99  \n",
       "2           0.30  12.99  \n",
       "3           0.30  12.99  \n",
       "4           0.10  12.99  \n",
       "...          ...    ...  \n",
       "141942      0.20  12.99  \n",
       "141943      0.10  12.99  \n",
       "141944      0.15  12.99  \n",
       "141945      0.15  12.99  \n",
       "141946      0.15  12.99  \n",
       "\n",
       "[141585 rows x 34 columns]"
      ]
     },
     "execution_count": 11,
     "metadata": {},
     "output_type": "execute_result"
    }
   ],
   "source": [
    "hotel_data"
   ]
  },
  {
   "cell_type": "markdown",
   "metadata": {},
   "source": [
    "# Gestion des valeurs manquantes :"
   ]
  },
  {
   "cell_type": "code",
   "execution_count": 12,
   "metadata": {},
   "outputs": [
    {
     "name": "stdout",
     "output_type": "stream",
     "text": [
      "valeurs nulles dans children column : 8\n",
      "valeurs nulles dans country column : 625\n",
      "valeurs nulles dans agent column : 19555\n",
      "valeurs nulles dans company column : 133460\n"
     ]
    }
   ],
   "source": [
    "for i in hotel_data.columns:\n",
    "  if hotel_data[i].isna().sum() != 0:\n",
    "    print('valeurs nulles dans', i, 'column :', hotel_data[i].isna().sum())"
   ]
  },
  {
   "cell_type": "code",
   "execution_count": 13,
   "metadata": {},
   "outputs": [
    {
     "name": "stderr",
     "output_type": "stream",
     "text": [
      "<ipython-input-13-21457b6adf8d>:3: SettingWithCopyWarning: \n",
      "A value is trying to be set on a copy of a slice from a DataFrame\n",
      "\n",
      "See the caveats in the documentation: https://pandas.pydata.org/pandas-docs/stable/user_guide/indexing.html#returning-a-view-versus-a-copy\n",
      "  hotel_data['country'].fillna(mode_country, inplace=True)\n"
     ]
    }
   ],
   "source": [
    "hotel_data = hotel_data.dropna(subset=['children'])\n",
    "mode_country = hotel_data['country'].mode()[0]\n",
    "hotel_data['country'].fillna(mode_country, inplace=True)\n",
    "hotel_data = hotel_data.drop(columns=['company'])\n",
    "hotel_data['agent'].fillna(9, inplace=True)"
   ]
  },
  {
   "cell_type": "markdown",
   "metadata": {},
   "source": [
    "# L'analyse exploratoire des données"
   ]
  },
  {
   "cell_type": "code",
   "execution_count": 14,
   "metadata": {},
   "outputs": [
    {
     "data": {
      "image/png": "[encoded data removed]",
      "text/plain": [
       "<Figure size 864x432 with 1 Axes>"
      ]
     },
     "metadata": {
      "needs_background": "light"
     },
     "output_type": "display_data"
    }
   ],
   "source": [
    "import seaborn as sns\n",
    "import matplotlib.pyplot as plt\n",
    "import seaborn as sns\n",
    "\n",
    "# Regroupez les données par année et par mois et calculez les taux d'annulation mensuels\n",
    "monthly_cancelation_rates = hotel_data.groupby(['arrival_date_year', 'arrival_date_month'])['is_canceled'].mean().reset_index()\n",
    "\n",
    "# Trier les données par année et par mois pour un tracé correct\n",
    "monthly_cancelation_rates = monthly_cancelation_rates.sort_values(by=['arrival_date_year', 'arrival_date_month'])\n",
    "# Créer un tracé de série chronologique pour chaque année\n",
    "plt.figure(figsize=(12, 6))\n",
    "sns.lineplot(data=monthly_cancelation_rates, x='arrival_date_month', y='is_canceled', hue='arrival_date_year', palette='ch:s=.25,rot=-.25')\n",
    "plt.title(\"Taux d'annulation mensuels par année\")\n",
    "plt.xlabel('Mois')\n",
    "plt.ylabel(\"Taux d'annulation\")\n",
    "plt.xticks(range(1, 13), labels=['Jan', 'Feb', 'Mar', 'Apr', 'May', 'Jun', 'Jul', 'Aug', 'Sep', 'Oct', 'Nov', 'Dec'])\n",
    "plt.legend(title='Année')\n",
    "plt.show()"
   ]
  },
  {
   "cell_type": "markdown",
   "metadata": {},
   "source": [
    "Juin, Septembre et Novembre affichent les taux d'annulation les plus élevés. Par la suite, on constate une baisse des annulations dans les mois suivants. Cette tendance saisonnière suggère que des facteurs externes, tels que les projets de vacances ou les conditions météorologiques, pourraient influencer les annulations de réservation.\n",
    "On peut voir aussi l'année 2020 est l'année ou le taux d'annulation est le plus élevé."
   ]
  },
  {
   "cell_type": "markdown",
   "metadata": {},
   "source": [
    "# Délai moyen pour chaque statut de réservation :"
   ]
  },
  {
   "cell_type": "code",
   "execution_count": 15,
   "metadata": {},
   "outputs": [
    {
     "data": {
      "image/png": "[encoded data removed]",
      "text/plain": [
       "<Figure size 720x432 with 1 Axes>"
      ]
     },
     "metadata": {
      "needs_background": "light"
     },
     "output_type": "display_data"
    }
   ],
   "source": [
    "# Regroupez les données par statut de réservation et calculez le délai moyen\n",
    "reservation_lead_time = hotel_data.groupby('reservation_status')['lead_time'].mean().reset_index()\n",
    "\n",
    "# Triez les données pour tracer\n",
    "reservation_lead_time = reservation_lead_time.sort_values(by='lead_time')\n",
    "\n",
    "# Créer un tracé à barres avec des étiquettes\n",
    "plt.figure(figsize=(10, 6))\n",
    "sns.barplot(data=reservation_lead_time, x='reservation_status', y='lead_time', palette='YlGnBu')\n",
    "plt.title(\"Délai moyen par statut de réservation\")\n",
    "plt.xlabel('Statut de réservation')\n",
    "plt.ylabel('Délai moyen')\n",
    "\n",
    "# Ajoutez des étiquettes de données aux barres \n",
    "for index, row in reservation_lead_time.iterrows():\n",
    "    plt.text(index, row['lead_time'], f'{row[\"lead_time\"]:.2f}', ha='center', va='bottom')\n",
    "\n",
    "plt.xticks(rotation=45)\n",
    "plt.show()"
   ]
  },
  {
   "cell_type": "markdown",
   "metadata": {},
   "source": [
    "Le délai moyen pour les réservations annulées est d’environ 148 jours, tandis que le délai moyen pour les réservations « No-Show » est d’environ 51 jours et le délai moyen pour les réservations « Check-Out » est d’environ 76 jours. Nous pouvons comprendre qu'il y a plus de chances d'annulations à mesure que le délai (c'est-à-dire le temps entre la réservation et la date d'enregistrement) augmente par rapport au graphique ci-dessus. Cela peut être le résultat d'événements imprévus dans la vie des visiteurs, les obligeant à faire passer d'autres obligations avant leur séjour à l'hôtel."
   ]
  },
  {
   "cell_type": "markdown",
   "metadata": {},
   "source": [
    "# Taux d'annulation par segment de marché :"
   ]
  },
  {
   "cell_type": "code",
   "execution_count": 16,
   "metadata": {},
   "outputs": [
    {
     "data": {
      "image/png": "[encoded data removed]",
      "text/plain": [
       "<Figure size 720x432 with 1 Axes>"
      ]
     },
     "metadata": {
      "needs_background": "light"
     },
     "output_type": "display_data"
    }
   ],
   "source": [
    "# Regroupez les données par segment de marché et calculez le taux d'annulation\n",
    "market_segment_cancellation_rate = hotel_data.groupby('market_segment')['is_canceled'].mean().reset_index()\n",
    "\n",
    "# Triez les données pour tracer\n",
    "market_segment_cancellation_rate = market_segment_cancellation_rate.sort_values(by='is_canceled')\n",
    "\n",
    "# Créez un graphique à barres pour les taux d'annulation des segments de marché avec la palette de couleurs 'YlGnBu'\n",
    "plt.figure(figsize=(10, 6))\n",
    "ax = sns.barplot(data=market_segment_cancellation_rate, x='market_segment', y='is_canceled', palette='YlGnBu')\n",
    "\n",
    "# Ajouter des étiquettes de données au graphique \n",
    "for p in ax.patches:\n",
    "    ax.annotate(f'{p.get_height():.2%}', (p.get_x() + p.get_width() / 2., p.get_height()), ha='center', va='center', fontsize=12, color='black', xytext=(0, 5), textcoords='offset points')\n",
    "\n",
    "plt.title(\"Taux d'annulation par segment de marché\")\n",
    "plt.xlabel('Segment de marché')\n",
    "plt.ylabel(\"Taux d'annulation\")\n",
    "plt.xticks(rotation=45)\n",
    "plt.show()"
   ]
  },
  {
   "cell_type": "markdown",
   "metadata": {},
   "source": [
    "Parmi les différents segments de marché, il est frappant de constater que les réservations de groupe et les agences de voyages en ligne et affichent les taux d'annulation les plus élevés. En revanche, les réservations complémentaires affichent le taux d'annulation le plus bas, ce qui est normal car elles sont généralement gratuites. Cela met en évidence l’influence du canal de réservation sur les taux d’annulation, les options plus flexibles entraînant des annulations moins importantes."
   ]
  },
  {
   "cell_type": "markdown",
   "metadata": {},
   "source": [
    "# Taux d'annulation par canal de distribution :"
   ]
  },
  {
   "cell_type": "code",
   "execution_count": 17,
   "metadata": {},
   "outputs": [
    {
     "data": {
      "image/png": "[encoded data removed]",
      "text/plain": [
       "<Figure size 720x432 with 1 Axes>"
      ]
     },
     "metadata": {
      "needs_background": "light"
     },
     "output_type": "display_data"
    }
   ],
   "source": [
    "# Regroupez les données par canal de distribution et calculez le taux d'annulation\n",
    "distribution_channel_cancellation_rate = hotel_data.groupby('distribution_channel')['is_canceled'].mean().reset_index()\n",
    "\n",
    "# Triez les données pour tracer\n",
    "distribution_channel_cancellation_rate = distribution_channel_cancellation_rate.sort_values(by='is_canceled')\n",
    "\n",
    "# Créer un graphique à barres pour les taux d'annulation des canaux de distribution\n",
    "plt.figure(figsize=(10, 6))\n",
    "ax = sns.barplot(data=distribution_channel_cancellation_rate, x='distribution_channel', y='is_canceled', palette='YlGnBu')\n",
    "\n",
    "# Ajouter des étiquettes de données au graphique \n",
    "for p in ax.patches:\n",
    "    ax.annotate(f'{p.get_height():.2%}', (p.get_x() + p.get_width() / 2., p.get_height()),\n",
    "                ha='center', va='center', fontsize=12, color='black', xytext=(0, 5),\n",
    "                textcoords='offset points')\n",
    "\n",
    "plt.title(\"aux d'annulation par canal de distribution\")\n",
    "plt.xlabel(\"Canal de distribution\")\n",
    "plt.ylabel(\"Taux d'annulation\")\n",
    "plt.xticks(rotation=45)\n",
    "plt.show()"
   ]
  },
  {
   "cell_type": "markdown",
   "metadata": {},
   "source": [
    "Le graphique à barres ci-dessus révèle une tendance notable des taux d'annulation sur les différents canaux de distribution. Les agences de voyages en ligne [TA/TO] affichent le taux d'annulation le plus élevé (41 %), suivies de près par les réservations d’entreprises (Corporate) [23 %]. À l’opposé, les  les ventes direct [Direct] affichent le taux d’annulation le plus bas, à seulement 18 %. Cela souligne l’impact significatif du canal de distribution sur les taux d’annulation, des options plus flexibles conduisant systématiquement à des pourcentages d’annulation plus faibles."
   ]
  },
  {
   "cell_type": "markdown",
   "metadata": {},
   "source": [
    "# Vérification des clients qui font des demandes particulières plus ou moins susceptibles d'annuler :"
   ]
  },
  {
   "cell_type": "code",
   "execution_count": 18,
   "metadata": {},
   "outputs": [
    {
     "data": {
      "image/png": "[encoded data removed]",
      "text/plain": [
       "<Figure size 720x432 with 2 Axes>"
      ]
     },
     "metadata": {
      "needs_background": "light"
     },
     "output_type": "display_data"
    }
   ],
   "source": [
    "# Créez un tableau croisé dynamique avec 'reservation_status' et 'total_of_special_requests' comme indices\n",
    "pivot_table = hotel_data.pivot_table(index='reservation_status', columns='total_of_special_requests', aggfunc='size', fill_value=0)\n",
    "\n",
    "# Créez une heatmap en utilisant une couleur schéma\n",
    "plt.figure(figsize=(10, 6))\n",
    "sns.heatmap(pivot_table, annot=True, cmap='YlGnBu', fmt='d')\n",
    "plt.title(\"Nombre total de demandes spéciales par statut de réservation\")\n",
    "plt.xlabel(\"Total des demandes spéciales\")\n",
    "plt.ylabel(\"Statut de la réservation\")\n",
    "plt.show()"
   ]
  },
  {
   "cell_type": "markdown",
   "metadata": {},
   "source": [
    "En analysant si les demandes spéciales ont un impact sur les annulations, il apparaît que les clients qui font des demandes spéciales ont tendance à terminer leur séjour (« Check-Out »). Il est intéressant de noter que le taux d'annulation le plus élevé est observé parmi les réservations sans demandes particulières, similaires aux réservations « Check-Out ». Cela indique que le fait d'avoir des demandes spéciales n'affecte pas de manière significative le comportement d'annulation."
   ]
  },
  {
   "cell_type": "markdown",
   "metadata": {},
   "source": [
    "# Le client qui a besoin d'un parking est plus susceptible d'annuler "
   ]
  },
  {
   "cell_type": "code",
   "execution_count": 19,
   "metadata": {},
   "outputs": [
    {
     "data": {
      "image/png": "[encoded data removed]",
      "text/plain": [
       "<Figure size 432x288 with 1 Axes>"
      ]
     },
     "metadata": {
      "needs_background": "light"
     },
     "output_type": "display_data"
    }
   ],
   "source": [
    "# Assuming 'hotel_data' is your DataFrame\n",
    "pivot_table = hotel_data.pivot_table(index='required_car_parking_spaces', columns='reservation_status', values='adr', aggfunc='count', fill_value=0)\n",
    "\n",
    "# Create a heatmap with a color scheme\n",
    "sns.heatmap(pivot_table, annot=True, fmt='d', cmap='YlGnBu', cbar=False)\n",
    "\n",
    "plt.title(\"Nombre total de statuts de réservation par places de stationnement\")\n",
    "plt.xlabel(\"Statut de réservation\")\n",
    "plt.ylabel('Places de stationnement requises')\n",
    "\n",
    "plt.show()\n"
   ]
  },
  {
   "cell_type": "markdown",
   "metadata": {},
   "source": [
    "Le besoin de places de stationnement semble avoir un impact minime sur les annulations, car les clients qui ne demandent pas de place de parking affichent toujours des taux d'annulation variés. Cela suggère que la disponibilité du parking n'influence pas considérablement les annulations de réservation."
   ]
  },
  {
   "cell_type": "markdown",
   "metadata": {},
   "source": [
    "# Analyser si certains types de clients sont plus sujets aux annulations."
   ]
  },
  {
   "cell_type": "code",
   "execution_count": 20,
   "metadata": {},
   "outputs": [
    {
     "data": {
      "image/png": "[encoded data removed]",
      "text/plain": [
       "<Figure size 576x432 with 1 Axes>"
      ]
     },
     "metadata": {
      "needs_background": "light"
     },
     "output_type": "display_data"
    }
   ],
   "source": [
    "import matplotlib.pyplot as plt\n",
    "\n",
    "# Regroupez les données par type de client et calculez les taux d'annulation\n",
    "customer_type_cancellation = hotel_data.groupby('customer_type')['is_canceled'].mean().reset_index()\n",
    "\n",
    "# Créez un graphique à barres avec la palette de couleurs 'YlGnBu' et les étiquettes de données\n",
    "plt.figure(figsize=(8, 6))\n",
    "bars = plt.bar(customer_type_cancellation['customer_type'], customer_type_cancellation['is_canceled'], color=sns.color_palette('YlGnBu'))\n",
    "\n",
    "# Ajouter des étiquettes de données aux barres \n",
    "for bar in bars:\n",
    "    yval = bar.get_height()\n",
    "    plt.text(bar.get_x() + bar.get_width()/2, yval, f'{yval:.2%}', ha='center', va='bottom', fontsize=10, fontweight='bold')\n",
    "\n",
    "\n",
    "# Afficher le tracé\n",
    "plt.show()\n"
   ]
  },
  {
   "cell_type": "markdown",
   "metadata": {},
   "source": [
    "Une étude menée auprès de différents groupes de consommateurs montre que les réservations pour les voyageurs de passage [Transient] avaient un taux d'annulation de 28 %, tandis que les réservations pour les voyageurs de passage [Transient Party] avaient un taux d'annulation de 40 %. Ces résultats impliquent que certaines catégories de consommateurs, comme les visiteurs de courte durée, peuvent être plus sensibles aux causes d'annulation.\n",
    "\n"
   ]
  },
  {
   "cell_type": "markdown",
   "metadata": {},
   "source": [
    "# Vérifier si les clients sont plus susceptibles d'annuler s'ils n'obtiennent pas le type de chambre qu'ils ont réservé :"
   ]
  },
  {
   "cell_type": "code",
   "execution_count": 21,
   "metadata": {},
   "outputs": [
    {
     "data": {
      "image/png": "[encoded data removed]",
      "text/plain": [
       "<Figure size 576x432 with 1 Axes>"
      ]
     },
     "metadata": {},
     "output_type": "display_data"
    }
   ],
   "source": [
    "import matplotlib.pyplot as plt\n",
    "\n",
    "# Filtrer les lignes où 'reserved_room_type' et 'assigned_room_type' ne sont pas similaires\n",
    "room_type_changes = hotel_data[hotel_data['reserved_room_type'] != hotel_data['assigned_room_type']]\n",
    "\n",
    "# Compter les occurrences de chaque 'reservation_status' lorsque 'reserved_room_type' et 'assigned_room_type' sont pas similaire\n",
    "reservation_status_counts = room_type_changes['reservation_status'].value_counts(normalize=True)\n",
    "\n",
    "# Définir la palette de couleurs 'YlGnBu'\n",
    "colors = plt.cm.YlGnBu(np.linspace(0, 1, len(reservation_status_counts)))\n",
    "\n",
    "# Créer un diagramme circulaire avec palette de couleurs 'YlGnBu'\n",
    "plt.figure(figsize=(8, 6))\n",
    "plt.pie(reservation_status_counts, labels=reservation_status_counts.index, autopct=lambda p: f'{p:.1f}%', colors=colors)\n",
    "plt.title(\"Distribution du statut de réservation\\n(Changements de type de chambre)\")\n",
    "plt.show()\n"
   ]
  },
  {
   "cell_type": "markdown",
   "metadata": {},
   "source": [
    "Lorsqu'on cherche à savoir si les clients sont plus susceptibles d'annuler s'ils n'obtiennent pas le type de chambre qu'ils ont réservé, une tendance remarquable se dégage. Les clients qui n'ont pas reçu le type de chambre qu'ils avaient initialement réservé sont tout de même très susceptibles de terminer leur séjour (environ 95 % de « départ »). Cela implique que les écarts dans le type de chambre ont un impact limité sur les annulations.\n",
    "\n"
   ]
  },
  {
   "cell_type": "markdown",
   "metadata": {},
   "source": [
    "# Vérifier si les modifications de réservation ont un impact sur l'annulation :"
   ]
  },
  {
   "cell_type": "code",
   "execution_count": 22,
   "metadata": {},
   "outputs": [
    {
     "data": {
      "image/png": "[encoded data removed]",
      "text/plain": [
       "<Figure size 864x432 with 2 Axes>"
      ]
     },
     "metadata": {},
     "output_type": "display_data"
    }
   ],
   "source": [
    "import matplotlib.pyplot as plt\n",
    "\n",
    "# Filtrer les lignes où 'booking_changes' est 1 ou 0\n",
    "booking_changes_1 = hotel_data[hotel_data['booking_changes'] == 1]\n",
    "booking_changes_0 = hotel_data[hotel_data['booking_changes'] == 0]\n",
    "\n",
    "# Calculer le pourcentage total pour chaque 'reservation_status' dans chaque groupe\n",
    "total_1 = len(booking_changes_1)\n",
    "total_0 = len(booking_changes_0)\n",
    "\n",
    "reservation_status_counts_1 = booking_changes_1['reservation_status'].value_counts() / total_1 * 100\n",
    "reservation_status_counts_0 = booking_changes_0['reservation_status'].value_counts() / total_0 * 100\n",
    "\n",
    "# Créer deux diagrammes circulaires\n",
    "fig, (ax1, ax2) = plt.subplots(1, 2, figsize=(12, 6))\n",
    "\n",
    "# Diagramme circulaire pour 'booking_changes = 1'\n",
    "ax1.pie(reservation_status_counts_1, labels=reservation_status_counts_1.index, autopct='%1.1f%%', startangle=90, colors=sns.color_palette('YlGnBu'))\n",
    "ax1.set_title('Statut de la réservation avec modifications de la réservation = 1')\n",
    "\n",
    "# Diagramme circulaire pour 'booking_changes = 0'\n",
    "ax2.pie(reservation_status_counts_0, labels=reservation_status_counts_0.index, autopct='%1.1f%%', startangle=90, colors=sns.color_palette('YlGnBu'))\n",
    "ax2.set_title('Statut de la réservation avec modifications de la réservation = 0')\n",
    "\n",
    "plt.tight_layout()\n",
    "plt.show()\n"
   ]
  },
  {
   "cell_type": "markdown",
   "metadata": {},
   "source": [
    "L'analyse des modifications de réservation indique qu'il y a un pourcentage réduit d'annulations (13,2%) lorsque les clients modifient leurs réservations. A l’inverse, lorsqu’aucun changement n’est effectué, les annulations surviennent à un taux plus élevé (39,8 %). Cela implique que la flexibilité de modifier les réservations peut réduire les annulations, car les clients peuvent adapter leurs plans selon leurs besoins."
   ]
  },
  {
   "cell_type": "markdown",
   "metadata": {},
   "source": [
    "# Les clients accompagnés de bébés et d’enfants sont-ils plus susceptibles d’être annulés :"
   ]
  },
  {
   "cell_type": "code",
   "execution_count": 23,
   "metadata": {},
   "outputs": [
    {
     "data": {
      "image/png": "[encoded data removed]",
      "text/plain": [
       "<Figure size 720x432 with 1 Axes>"
      ]
     },
     "metadata": {
      "needs_background": "light"
     },
     "output_type": "display_data"
    },
    {
     "data": {
      "image/png": "[encoded data removed]",
      "text/plain": [
       "<Figure size 720x432 with 1 Axes>"
      ]
     },
     "metadata": {
      "needs_background": "light"
     },
     "output_type": "display_data"
    }
   ],
   "source": [
    "import matplotlib.pyplot as plt\n",
    "import seaborn as sns\n",
    "\n",
    "# Calculez le taux d'annulation pour chaque valeur dans 'babies'\n",
    "cancellation_rate_babies = hotel_data.groupby('babies')['is_canceled'].mean() * 100\n",
    "\n",
    "# Créez un graphique à barres avec la palette de couleurs 'YlGnBu' et les étiquettes de données\n",
    "plt.figure(figsize=(10, 6))\n",
    "ax = sns.barplot(x=cancellation_rate_babies.index, y=cancellation_rate_babies, palette='YlGnBu')\n",
    "\n",
    "plt.ylabel(\"Taux d'annulation (%)\")\n",
    "plt.xlabel('Numbre de bébés')\n",
    "plt.title(\"Taux d'annulation par nombre de bébés\")\n",
    "plt.xticks(rotation=0)\n",
    "\n",
    "# Ajoutez des étiquettes de données aux barres \n",
    "for p in ax.patches:\n",
    "    ax.annotate(f'{p.get_height():.2f}', (p.get_x() + p.get_width() / 2., p.get_height()),\n",
    "                ha='center', va='center', fontsize=10, color='black', xytext=(0, 10),\n",
    "                textcoords='offset points')\n",
    "\n",
    "plt.show()\n",
    "\n",
    "# Calculez le taux d'annulation pour chaque valeur dans 'children'\n",
    "cancellation_rate_children = hotel_data.groupby('children')['is_canceled'].mean() * 100\n",
    "\n",
    "# Créez un graphique à barres avec la palette de couleurs 'YlGnBu' et les étiquettes de données\n",
    "plt.figure(figsize=(10, 6))\n",
    "ax = sns.barplot(x=cancellation_rate_children.index, y=cancellation_rate_children, palette='YlGnBu')\n",
    "\n",
    "plt.ylabel(\"Taux d'annulation (%)\")\n",
    "plt.xlabel(\"Numbre d'enfants\")\n",
    "plt.title(\"Taux d'annulation par nombre d'enfants\")\n",
    "plt.xticks(rotation=0)\n",
    "\n",
    "# Ajoutez des étiquettes de données aux barres \n",
    "for p in ax.patches:\n",
    "    ax.annotate(f'{p.get_height():.2f}', (p.get_x() + p.get_width() / 2., p.get_height()),\n",
    "                ha='center', va='center', fontsize=10, color='black', xytext=(0, 10),\n",
    "                textcoords='offset points')\n",
    "\n",
    "plt.show()"
   ]
  },
  {
   "cell_type": "markdown",
   "metadata": {},
   "source": [
    "La présence de bébés dans les réservations n'influence pas de manière significative les annulations, le taux d'annulation le plus élevé étant observé pour les réservations sans bébé. Cependant, une tendance notable se dessine pour les réservations avec deux enfants, où le taux d'annulation est d'environ 40 %. Il est essentiel de reconnaître que même s'il existe un taux d'annulation de 100 % pour les réservations avec dix enfants, ce point de données est peu fréquent et ne mérite pas une attention particulière."
   ]
  },
  {
   "cell_type": "markdown",
   "metadata": {},
   "source": [
    "# Taux d'annulation par type de chambre"
   ]
  },
  {
   "cell_type": "code",
   "execution_count": 24,
   "metadata": {},
   "outputs": [
    {
     "data": {
      "image/png": "[encoded data removed]",
      "text/plain": [
       "<Figure size 720x432 with 1 Axes>"
      ]
     },
     "metadata": {
      "needs_background": "light"
     },
     "output_type": "display_data"
    }
   ],
   "source": [
    "# Calculez le taux d'annulation pour chaque type de chambre\n",
    "cancellation_rate_by_room_type = hotel_data.groupby('reserved_room_type')['is_canceled'].mean() * 100\n",
    "\n",
    "# Créez un graphique à barres avec la palette de couleurs\n",
    "plt.figure(figsize=(10, 6))\n",
    "sns.barplot(x=cancellation_rate_by_room_type.index, y=cancellation_rate_by_room_type.values, palette='flare')\n",
    "plt.ylabel(\"Taux d'annulation (%\")\n",
    "plt.xlabel('Type de chambre réservée')\n",
    "plt.title(\"Taux d'annulation par type de chambre réservée\")\n",
    "plt.xticks(rotation=0)\n",
    "plt.show()\n"
   ]
  },
  {
   "cell_type": "markdown",
   "metadata": {},
   "source": [
    "Nous observons que les chambres du type A, G & H ont un taux d'annulation environnant les 40%. Il est essentiel de reconnaître que même s'il existe un taux d'annulation de 100 % pour les chambres du type P, ce point de données est peu fréquent sûrement une erreur et ne mérite pas une attention particulière."
   ]
  },
  {
   "cell_type": "markdown",
   "metadata": {},
   "source": [
    "# Taux d'annulation par type d'hôtels"
   ]
  },
  {
   "cell_type": "code",
   "execution_count": 25,
   "metadata": {},
   "outputs": [
    {
     "data": {
      "image/png": "[encoded data removed]",
      "text/plain": [
       "<Figure size 1080x720 with 1 Axes>"
      ]
     },
     "metadata": {
      "needs_background": "light"
     },
     "output_type": "display_data"
    }
   ],
   "source": [
    "# Calculez le taux d'annulation pour chaque type d'hôtels\n",
    "Hotel = hotel_data.groupby('hotel')['is_canceled'].mean() * 100\n",
    "\n",
    "# Créez un graphique à barres avec la palette de couleurs\n",
    "plt.figure(figsize=(15, 10))\n",
    "sns.barplot(x=Hotel.index, y=Hotel.values, palette='flare')\n",
    "plt.ylabel(\"Taux d'annulation (%\")\n",
    "plt.xlabel(\"Type d'hôtel réservée\")\n",
    "plt.title(\"Taux d'annulation par type d'hôtel\")\n",
    "plt.xticks(rotation=0)\n",
    "plt.show()"
   ]
  },
  {
   "cell_type": "markdown",
   "metadata": {},
   "source": [
    "# La Durée de séjour"
   ]
  },
  {
   "cell_type": "code",
   "execution_count": 26,
   "metadata": {},
   "outputs": [
    {
     "name": "stdout",
     "output_type": "stream",
     "text": [
      "La durée moyenne d'un séjour est de : 3.426700664655982\n"
     ]
    },
    {
     "data": {
      "image/png": "[encoded data removed]",
      "text/plain": [
       "<Figure size 1080x576 with 1 Axes>"
      ]
     },
     "metadata": {
      "needs_background": "light"
     },
     "output_type": "display_data"
    }
   ],
   "source": [
    "hotel_data['total_stay'] = hotel_data['stays_in_weekend_nights'] + hotel_data['stays_in_week_nights']\n",
    "plt.figure(figsize=(15, 8))\n",
    "hotel_data['total_stay'].hist(bins=50)\n",
    "plt.title('Répartition de la durée du séjour')\n",
    "plt.xlabel('Numbre de nuit')\n",
    "plt.ylabel('Frequence')\n",
    "\n",
    "print(\"La durée moyenne d'un séjour est de : {}\".format(hotel_data['total_stay'].mean()))"
   ]
  },
  {
   "cell_type": "markdown",
   "metadata": {},
   "source": [
    "La durée de séjour ce situe généralement en 0 & 10 jours. \n",
    "La durée moyenne d'un séjour est de : 3.4 jours"
   ]
  },
  {
   "cell_type": "markdown",
   "metadata": {},
   "source": [
    "# Taux d'annulation par Semaine"
   ]
  },
  {
   "cell_type": "code",
   "execution_count": 29,
   "metadata": {},
   "outputs": [
    {
     "data": {
      "image/png": "[encoded data removed]",
      "text/plain": [
       "<Figure size 1080x720 with 1 Axes>"
      ]
     },
     "metadata": {
      "needs_background": "light"
     },
     "output_type": "display_data"
    }
   ],
   "source": [
    "# Calculate the cancellation rate\n",
    "cancellation_rate = hotel_data['is_canceled'].mean()\n",
    "\n",
    "# Group the data by week\n",
    "donnees = hotel_data.groupby('arrival_date_week_number')['is_canceled'].mean()\n",
    "\n",
    "# Plot the data\n",
    "plt.figure(figsize=(15, 10))\n",
    "plt.plot(donnees)\n",
    "plt.xlabel('Semaine')\n",
    "plt.title(\"Taux d'annulation par Semaine\")\n",
    "plt.ylabel('Taux d\\'annulation')\n",
    "plt.show()"
   ]
  },
  {
   "cell_type": "markdown",
   "metadata": {},
   "source": [
    "Nous observos que entre la semaine du 20 & 30 le taux d'annulation est le plus élevé."
   ]
  },
  {
   "cell_type": "markdown",
   "metadata": {},
   "source": [
    "# Taux d'annulation par type de repas"
   ]
  },
  {
   "cell_type": "code",
   "execution_count": 30,
   "metadata": {},
   "outputs": [
    {
     "data": {
      "text/plain": [
       "meal\n",
       "BB           109508\n",
       "HB            18402\n",
       "SC            11067\n",
       "Undefined      1372\n",
       "FB             1228\n",
       "Name: count, dtype: int64"
      ]
     },
     "execution_count": 30,
     "metadata": {},
     "output_type": "execute_result"
    }
   ],
   "source": [
    "hotel_data['meal'].value_counts()"
   ]
  },
  {
   "cell_type": "markdown",
   "metadata": {},
   "source": [
    "BB = BB (Bed and Breakfast) [le petit-déjeuner est inclus dans le prix de l'hôtel]"
   ]
  },
  {
   "cell_type": "markdown",
   "metadata": {},
   "source": [
    "HB = HB (Half Board) [Le prix comprend le petit-déjeuner et la demi-pension]"
   ]
  },
  {
   "cell_type": "markdown",
   "metadata": {},
   "source": [
    "SC = SC (Self Catering) [Self-restauration. Les repas ne sont pas inclus dans le prix, mais les clients ont généralement accès à la cuisine ou à la kitchenette où ils peuvent préparer leurs propres repas.]"
   ]
  },
  {
   "cell_type": "markdown",
   "metadata": {},
   "source": [
    "FB = FB (Full Board) [Petit déjeuner, déjeuner et dîner inclus.]"
   ]
  },
  {
   "cell_type": "code",
   "execution_count": 31,
   "metadata": {},
   "outputs": [
    {
     "data": {
      "text/plain": [
       "array([<AxesSubplot:ylabel='count'>], dtype=object)"
      ]
     },
     "execution_count": 31,
     "metadata": {},
     "output_type": "execute_result"
    },
    {
     "data": {
      "image/png": "[encoded data removed]",
      "text/plain": [
       "<Figure size 648x648 with 1 Axes>"
      ]
     },
     "metadata": {},
     "output_type": "display_data"
    }
   ],
   "source": [
    "hotel_data.groupby('meal')['is_canceled'].agg(['count']).sort_values(by='count',ascending=False).plot(kind='pie',autopct='%1.2f%%',subplots=True,title='Répartitions des repas',figsize=(9,9))"
   ]
  },
  {
   "cell_type": "markdown",
   "metadata": {},
   "source": [
    "Nous observons que la repartions des repas est inégale dans le jeu de données. Plus de la moitié des visiteurs choisissent la formule Bed and Breakfast (BB) dont le petit-déjeuner est inclus dans le prix de l'hôtel. Par conséquent, nous ne pouvons déterminer si cela impact le taux d'annulation. "
   ]
  },
  {
   "cell_type": "markdown",
   "metadata": {},
   "source": [
    "# Taux d'annulation par Pays"
   ]
  },
  {
   "cell_type": "code",
   "execution_count": 32,
   "metadata": {},
   "outputs": [],
   "source": [
    "hotel_data['country'] = hotel_data['country'].replace('CN', 'CAN')"
   ]
  },
  {
   "cell_type": "code",
   "execution_count": 33,
   "metadata": {},
   "outputs": [
    {
     "data": {
      "image/png": "[encoded data removed]",
      "text/plain": [
       "<Figure size 1080x720 with 1 Axes>"
      ]
     },
     "metadata": {
      "needs_background": "light"
     },
     "output_type": "display_data"
    }
   ],
   "source": [
    "import pycountry\n",
    "# Calculez le taux d'annulation par pays\n",
    "Country = hotel_data.groupby(\"country\")[\"is_canceled\"].mean() * 100\n",
    "#Triez par ordre croissant les pays\n",
    "Country = Country.sort_values(ascending=False)\n",
    "\n",
    "#Filtrer le pourcentage du taux d'annulation\n",
    "Country = Country[:50]\n",
    "\n",
    "#Récuperer le nom du pays entier \n",
    "abbreviation_to_name = {country.alpha_3: country.name for country in pycountry.countries}\n",
    "Country.index = Country.index.map(abbreviation_to_name)\n",
    "\n",
    "# Créez un graphique à barres avec la palette de couleurs\n",
    "plt.figure(figsize=(15, 10))\n",
    "sns.barplot(x=Country.index, y=Country.values, palette='light:#5A9')\n",
    "plt.ylabel(\"Taux d'annulation (%\")\n",
    "plt.xlabel('Pays')\n",
    "plt.title(\"Taux d'annulation par pays\")\n",
    "plt.xticks(rotation=90)\n",
    "plt.show()"
   ]
  },
  {
   "cell_type": "code",
   "execution_count": 34,
   "metadata": {},
   "outputs": [
    {
     "name": "stdout",
     "output_type": "stream",
     "text": [
      "Les pays avec le plus gros taux d'annulation : country\n",
      "Virgin Islands, British              100.000000\n",
      "Macao                                 93.750000\n",
      "Hong Kong                             89.655172\n",
      "Tajikistan                            88.888889\n",
      "United Arab Emirates                  84.313725\n",
      "Faroe Islands                         80.000000\n",
      "Bahrain                               80.000000\n",
      "Maldives                              75.000000\n",
      "Bangladesh                            75.000000\n",
      "Qatar                                 73.333333\n",
      "Andorra                               71.428571\n",
      "Senegal                               66.666667\n",
      "Georgia                               65.217391\n",
      "Saudi Arabia                          64.705882\n",
      "Pakistan                              64.285714\n",
      "Indonesia                             63.157895\n",
      "Philippines                           60.975610\n",
      "Tanzania, United Republic of          60.000000\n",
      "Nigeria                               58.333333\n",
      "Portugal                              56.349878\n",
      "Angola                                50.728155\n",
      "Uzbekistan                            50.000000\n",
      "Dominican Republic                    50.000000\n",
      "Seychelles                            50.000000\n",
      "Gibraltar                             50.000000\n",
      "Ghana                                 50.000000\n",
      "Gabon                                 50.000000\n",
      "Azerbaijan                            47.368421\n",
      "Cabo Verde                            46.153846\n",
      "China                                 44.508671\n",
      "Tunisia                               42.222222\n",
      "Montenegro                            40.000000\n",
      "Zimbabwe                              40.000000\n",
      "Morocco                               39.068100\n",
      "Korea, Republic of                    38.620690\n",
      "Turkey                                37.591241\n",
      "South Africa                          37.349398\n",
      "Singapore                             36.363636\n",
      "Venezuela, Bolivarian Republic of     36.363636\n",
      "Name: is_canceled, dtype: float64\n"
     ]
    }
   ],
   "source": [
    "print(\"Les pays avec le plus gros taux d'annulation :\", Country[11:50])"
   ]
  },
  {
   "cell_type": "markdown",
   "metadata": {},
   "source": [
    "# Le mois d'arriver avec le plus gros taux d'annulation"
   ]
  },
  {
   "cell_type": "code",
   "execution_count": 35,
   "metadata": {},
   "outputs": [
    {
     "data": {
      "text/plain": [
       "<AxesSubplot:xlabel='arrival_date_month'>"
      ]
     },
     "execution_count": 35,
     "metadata": {},
     "output_type": "execute_result"
    },
    {
     "data": {
      "image/png": "[encoded data removed]",
      "text/plain": [
       "<Figure size 1080x432 with 1 Axes>"
      ]
     },
     "metadata": {
      "needs_background": "light"
     },
     "output_type": "display_data"
    }
   ],
   "source": [
    "Arriver_Date = hotel_data.groupby(\"arrival_date_month\")[\"is_canceled\"].mean() * 100\n",
    "Arriver_Date.sort_values(ascending=False).plot(kind='bar', figsize=(15, 6))"
   ]
  },
  {
   "cell_type": "markdown",
   "metadata": {},
   "source": [
    "Les hôtels doivent s'attendre à avoir un gros taux d'annulation au mois de Juin, a contraint le mois de Novembre et mois le moix avec le plus faible taux d'annulation"
   ]
  },
  {
   "cell_type": "markdown",
   "metadata": {},
   "source": [
    "# Modélisation prédictive"
   ]
  },
  {
   "cell_type": "code",
   "execution_count": 36,
   "metadata": {},
   "outputs": [],
   "source": [
    "from sklearn.ensemble import RandomForestClassifier\n",
    "from sklearn.metrics import classification_report, accuracy_score\n",
    "from sklearn.model_selection import train_test_split\n",
    "from sklearn.preprocessing import LabelEncoder"
   ]
  },
  {
   "cell_type": "code",
   "execution_count": 37,
   "metadata": {},
   "outputs": [],
   "source": [
    "#Modele\n",
    "from sklearn.tree import DecisionTreeClassifier\n",
    "from sklearn.neighbors import KNeighborsClassifier\n",
    "from sklearn.ensemble import RandomForestClassifier\n",
    "from sklearn.svm import SVC\n",
    "from sklearn.ensemble import GradientBoostingClassifier\n",
    "from xgboost import XGBClassifier\n",
    "#from lightgbm import LGBMClassifier\n",
    "from sklearn.linear_model import LogisticRegression\n",
    "from sklearn.metrics import accuracy_score\n",
    "from sklearn.model_selection import train_test_split\n",
    "from sklearn.metrics import accuracy_score, f1_score, classification_report\n",
    "from sklearn.ensemble import VotingClassifier\n",
    "\n",
    "#GridSearch\n",
    "import itertools\n",
    "from matplotlib import rc,rcParams\n",
    "\n",
    "#Métric\n",
    "from sklearn.metrics import accuracy_score, confusion_matrix, roc_auc_score, roc_curve\n",
    "from sklearn.metrics import roc_auc_score\n",
    "from sklearn.metrics import plot_roc_curve\n",
    "from sklearn import datasets, metrics, model_selection, svm\n",
    "import scikitplot as skplt"
   ]
  },
  {
   "cell_type": "code",
   "execution_count": 38,
   "metadata": {},
   "outputs": [
    {
     "data": {
      "text/html": [
       "<div>\n",
       "<style scoped>\n",
       "    .dataframe tbody tr th:only-of-type {\n",
       "        vertical-align: middle;\n",
       "    }\n",
       "\n",
       "    .dataframe tbody tr th {\n",
       "        vertical-align: top;\n",
       "    }\n",
       "\n",
       "    .dataframe thead th {\n",
       "        text-align: right;\n",
       "    }\n",
       "</style>\n",
       "<table border=\"1\" class=\"dataframe\">\n",
       "  <thead>\n",
       "    <tr style=\"text-align: right;\">\n",
       "      <th></th>\n",
       "      <th>lead_time</th>\n",
       "      <th>arrival_date_month</th>\n",
       "      <th>country</th>\n",
       "      <th>market_segment</th>\n",
       "      <th>distribution_channel</th>\n",
       "      <th>reserved_room_type</th>\n",
       "      <th>deposit_type</th>\n",
       "      <th>customer_type</th>\n",
       "      <th>is_canceled</th>\n",
       "    </tr>\n",
       "  </thead>\n",
       "  <tbody>\n",
       "    <tr>\n",
       "      <th>0</th>\n",
       "      <td>85</td>\n",
       "      <td>July</td>\n",
       "      <td>PRT</td>\n",
       "      <td>Online TA</td>\n",
       "      <td>TA/TO</td>\n",
       "      <td>A</td>\n",
       "      <td>No Deposit</td>\n",
       "      <td>Transient</td>\n",
       "      <td>1</td>\n",
       "    </tr>\n",
       "    <tr>\n",
       "      <th>1</th>\n",
       "      <td>75</td>\n",
       "      <td>July</td>\n",
       "      <td>PRT</td>\n",
       "      <td>Offline TA/TO</td>\n",
       "      <td>TA/TO</td>\n",
       "      <td>D</td>\n",
       "      <td>No Deposit</td>\n",
       "      <td>Transient</td>\n",
       "      <td>1</td>\n",
       "    </tr>\n",
       "    <tr>\n",
       "      <th>2</th>\n",
       "      <td>23</td>\n",
       "      <td>July</td>\n",
       "      <td>PRT</td>\n",
       "      <td>Online TA</td>\n",
       "      <td>TA/TO</td>\n",
       "      <td>E</td>\n",
       "      <td>No Deposit</td>\n",
       "      <td>Transient</td>\n",
       "      <td>1</td>\n",
       "    </tr>\n",
       "    <tr>\n",
       "      <th>3</th>\n",
       "      <td>60</td>\n",
       "      <td>July</td>\n",
       "      <td>PRT</td>\n",
       "      <td>Online TA</td>\n",
       "      <td>TA/TO</td>\n",
       "      <td>E</td>\n",
       "      <td>No Deposit</td>\n",
       "      <td>Transient</td>\n",
       "      <td>1</td>\n",
       "    </tr>\n",
       "    <tr>\n",
       "      <th>4</th>\n",
       "      <td>96</td>\n",
       "      <td>July</td>\n",
       "      <td>PRT</td>\n",
       "      <td>Direct</td>\n",
       "      <td>Direct</td>\n",
       "      <td>E</td>\n",
       "      <td>No Deposit</td>\n",
       "      <td>Transient</td>\n",
       "      <td>1</td>\n",
       "    </tr>\n",
       "    <tr>\n",
       "      <th>...</th>\n",
       "      <td>...</td>\n",
       "      <td>...</td>\n",
       "      <td>...</td>\n",
       "      <td>...</td>\n",
       "      <td>...</td>\n",
       "      <td>...</td>\n",
       "      <td>...</td>\n",
       "      <td>...</td>\n",
       "      <td>...</td>\n",
       "    </tr>\n",
       "    <tr>\n",
       "      <th>141942</th>\n",
       "      <td>1</td>\n",
       "      <td>February</td>\n",
       "      <td>AUT</td>\n",
       "      <td>Aviation</td>\n",
       "      <td>Corporate</td>\n",
       "      <td>A</td>\n",
       "      <td>No Deposit</td>\n",
       "      <td>Transient</td>\n",
       "      <td>1</td>\n",
       "    </tr>\n",
       "    <tr>\n",
       "      <th>141943</th>\n",
       "      <td>31</td>\n",
       "      <td>July</td>\n",
       "      <td>USA</td>\n",
       "      <td>Direct</td>\n",
       "      <td>Direct</td>\n",
       "      <td>A</td>\n",
       "      <td>No Deposit</td>\n",
       "      <td>Transient</td>\n",
       "      <td>1</td>\n",
       "    </tr>\n",
       "    <tr>\n",
       "      <th>141944</th>\n",
       "      <td>25</td>\n",
       "      <td>May</td>\n",
       "      <td>FRA</td>\n",
       "      <td>Corporate</td>\n",
       "      <td>Corporate</td>\n",
       "      <td>E</td>\n",
       "      <td>No Deposit</td>\n",
       "      <td>Transient</td>\n",
       "      <td>1</td>\n",
       "    </tr>\n",
       "    <tr>\n",
       "      <th>141945</th>\n",
       "      <td>6</td>\n",
       "      <td>July</td>\n",
       "      <td>PRT</td>\n",
       "      <td>Corporate</td>\n",
       "      <td>Corporate</td>\n",
       "      <td>A</td>\n",
       "      <td>No Deposit</td>\n",
       "      <td>Transient</td>\n",
       "      <td>1</td>\n",
       "    </tr>\n",
       "    <tr>\n",
       "      <th>141946</th>\n",
       "      <td>0</td>\n",
       "      <td>August</td>\n",
       "      <td>PRT</td>\n",
       "      <td>Corporate</td>\n",
       "      <td>Corporate</td>\n",
       "      <td>A</td>\n",
       "      <td>No Deposit</td>\n",
       "      <td>Transient</td>\n",
       "      <td>1</td>\n",
       "    </tr>\n",
       "  </tbody>\n",
       "</table>\n",
       "<p>141577 rows × 9 columns</p>\n",
       "</div>"
      ],
      "text/plain": [
       "        lead_time arrival_date_month country market_segment  \\\n",
       "0              85               July     PRT      Online TA   \n",
       "1              75               July     PRT  Offline TA/TO   \n",
       "2              23               July     PRT      Online TA   \n",
       "3              60               July     PRT      Online TA   \n",
       "4              96               July     PRT         Direct   \n",
       "...           ...                ...     ...            ...   \n",
       "141942          1           February     AUT       Aviation   \n",
       "141943         31               July     USA         Direct   \n",
       "141944         25                May     FRA      Corporate   \n",
       "141945          6               July     PRT      Corporate   \n",
       "141946          0             August     PRT      Corporate   \n",
       "\n",
       "       distribution_channel reserved_room_type deposit_type customer_type  \\\n",
       "0                     TA/TO                  A   No Deposit     Transient   \n",
       "1                     TA/TO                  D   No Deposit     Transient   \n",
       "2                     TA/TO                  E   No Deposit     Transient   \n",
       "3                     TA/TO                  E   No Deposit     Transient   \n",
       "4                    Direct                  E   No Deposit     Transient   \n",
       "...                     ...                ...          ...           ...   \n",
       "141942            Corporate                  A   No Deposit     Transient   \n",
       "141943               Direct                  A   No Deposit     Transient   \n",
       "141944            Corporate                  E   No Deposit     Transient   \n",
       "141945            Corporate                  A   No Deposit     Transient   \n",
       "141946            Corporate                  A   No Deposit     Transient   \n",
       "\n",
       "        is_canceled  \n",
       "0                 1  \n",
       "1                 1  \n",
       "2                 1  \n",
       "3                 1  \n",
       "4                 1  \n",
       "...             ...  \n",
       "141942            1  \n",
       "141943            1  \n",
       "141944            1  \n",
       "141945            1  \n",
       "141946            1  \n",
       "\n",
       "[141577 rows x 9 columns]"
      ]
     },
     "execution_count": 38,
     "metadata": {},
     "output_type": "execute_result"
    }
   ],
   "source": [
    "# Sélectionnez les colonnes d'intérêt\n",
    "selected_columns = ['lead_time', 'arrival_date_month', 'country', 'market_segment', 'distribution_channel', 'reserved_room_type', 'deposit_type', 'customer_type', 'is_canceled']\n",
    "\n",
    "# Créer un sous-ensemble de données avec les colonnes sélectionnées\n",
    "subset_data = hotel_data[selected_columns]\n",
    "subset_data"
   ]
  },
  {
   "cell_type": "code",
   "execution_count": 39,
   "metadata": {},
   "outputs": [
    {
     "name": "stderr",
     "output_type": "stream",
     "text": [
      "<ipython-input-39-4b91e37af93d>:5: SettingWithCopyWarning: \n",
      "A value is trying to be set on a copy of a slice from a DataFrame.\n",
      "Try using .loc[row_indexer,col_indexer] = value instead\n",
      "\n",
      "See the caveats in the documentation: https://pandas.pydata.org/pandas-docs/stable/user_guide/indexing.html#returning-a-view-versus-a-copy\n",
      "  subset_data[col] = label_encoder.fit_transform(subset_data[col])\n"
     ]
    }
   ],
   "source": [
    "# Encoder les variables catégorielles\n",
    "label_encoder = LabelEncoder()\n",
    "categorical_columns = ['arrival_date_month', 'country', 'market_segment', 'distribution_channel', 'reserved_room_type', 'deposit_type', 'customer_type']\n",
    "for col in categorical_columns:\n",
    "    subset_data[col] = label_encoder.fit_transform(subset_data[col])\n",
    "    "
   ]
  },
  {
   "cell_type": "code",
   "execution_count": 40,
   "metadata": {},
   "outputs": [],
   "source": [
    "# Diviser le données en fonctionnalités (X) et la variable cible (y)\n",
    "X = subset_data.drop(columns='is_canceled')\n",
    "y = subset_data['is_canceled']\n",
    "\n",
    "# Divisez les données en ensembles d'entraînement et de test\n",
    "X_train, X_test, y_train, y_test = train_test_split(X, y, test_size=0.2, random_state=42)"
   ]
  },
  {
   "cell_type": "code",
   "execution_count": 41,
   "metadata": {},
   "outputs": [
    {
     "name": "stdout",
     "output_type": "stream",
     "text": [
      "Classification Report:\n",
      "              precision    recall  f1-score   support\n",
      "\n",
      "           0       0.86      0.89      0.88     17704\n",
      "           1       0.81      0.76      0.78     10612\n",
      "\n",
      "    accuracy                           0.84     28316\n",
      "   macro avg       0.83      0.83      0.83     28316\n",
      "weighted avg       0.84      0.84      0.84     28316\n",
      "\n",
      "Accuracy: 0.8423506144935725\n"
     ]
    }
   ],
   "source": [
    "# Initialize and fit the Random Forest model\n",
    "Rd = RandomForestClassifier(n_estimators=100, random_state=42)\n",
    "Rd.fit(X_train, y_train)\n",
    "\n",
    "# Make predictions\n",
    "Rd_pred = Rd.predict(X_test)\n",
    "\n",
    "# Evaluate the model\n",
    "print(\"Classification Report:\")\n",
    "print(classification_report(y_test, Rd_pred))\n",
    "print(\"Accuracy:\", accuracy_score(y_test, Rd_pred))\n",
    "RF = accuracy_score(y_test, Rd_pred)"
   ]
  },
  {
   "cell_type": "code",
   "execution_count": 42,
   "metadata": {},
   "outputs": [
    {
     "name": "stderr",
     "output_type": "stream",
     "text": [
      "C:\\Users\\PC\\anaconda3\\lib\\site-packages\\sklearn\\neighbors\\_classification.py:189: FutureWarning: Unlike other reduction functions (e.g. `skew`, `kurtosis`), the default behavior of `mode` typically preserves the axis it acts along. In SciPy 1.11.0, this behavior will change: the default value of `keepdims` will become False, the `axis` over which the statistic is taken will be eliminated, and the value None will no longer be accepted. Set `keepdims` to True or False to avoid this warning.\n",
      "  mode, _ = stats.mode(_y[neigh_ind, k], axis=1)\n"
     ]
    },
    {
     "name": "stdout",
     "output_type": "stream",
     "text": [
      "Classification Report:\n",
      "              precision    recall  f1-score   support\n",
      "\n",
      "           0       0.83      0.88      0.85     17704\n",
      "           1       0.77      0.70      0.74     10612\n",
      "\n",
      "    accuracy                           0.81     28316\n",
      "   macro avg       0.80      0.79      0.80     28316\n",
      "weighted avg       0.81      0.81      0.81     28316\n",
      "\n",
      "Accuracy: 0.8119790930922447\n"
     ]
    }
   ],
   "source": [
    "knn = KNeighborsClassifier()\n",
    "knn_model = knn.fit(X_train,y_train)\n",
    "\n",
    "knn_model_pred = knn_model.predict(X_test)\n",
    "\n",
    "# Evaluate the model\n",
    "print(\"Classification Report:\")\n",
    "print(classification_report(y_test, knn_model_pred))\n",
    "print(\"Accuracy:\", accuracy_score(y_test, knn_model_pred))\n",
    "KNC = accuracy_score(y_test, knn_model_pred)"
   ]
  },
  {
   "cell_type": "code",
   "execution_count": 43,
   "metadata": {},
   "outputs": [
    {
     "name": "stdout",
     "output_type": "stream",
     "text": [
      "Classification Report:\n",
      "              precision    recall  f1-score   support\n",
      "\n",
      "           0       0.86      0.89      0.87     17704\n",
      "           1       0.80      0.75      0.77     10612\n",
      "\n",
      "    accuracy                           0.83     28316\n",
      "   macro avg       0.83      0.82      0.82     28316\n",
      "weighted avg       0.83      0.83      0.83     28316\n",
      "\n",
      "Accuracy: 0.8348636813109196\n"
     ]
    }
   ],
   "source": [
    "LR = DecisionTreeClassifier()\n",
    "LR_model = LR.fit(X_train,y_train)\n",
    "\n",
    "LR_model_pred = LR_model.predict(X_test)\n",
    "# Evaluate the model\n",
    "print(\"Classification Report:\")\n",
    "print(classification_report(y_test, LR_model_pred))\n",
    "print(\"Accuracy:\", accuracy_score(y_test, LR_model_pred))\n",
    "DC = accuracy_score(y_test, LR_model_pred)"
   ]
  },
  {
   "cell_type": "code",
   "execution_count": 44,
   "metadata": {},
   "outputs": [
    {
     "name": "stdout",
     "output_type": "stream",
     "text": [
      "Classification Report:\n",
      "              precision    recall  f1-score   support\n",
      "\n",
      "           0       0.78      0.93      0.85     17704\n",
      "           1       0.83      0.57      0.68     10612\n",
      "\n",
      "    accuracy                           0.80     28316\n",
      "   macro avg       0.81      0.75      0.76     28316\n",
      "weighted avg       0.80      0.80      0.79     28316\n",
      "\n",
      "Accuracy: 0.7952394405989547\n"
     ]
    }
   ],
   "source": [
    "GBR = GradientBoostingClassifier()\n",
    "GBR_model = GBR.fit(X_train,y_train)\n",
    "GBR_pred = GBR_model.predict(X_test)\n",
    "# Evaluate the model\n",
    "print(\"Classification Report:\")\n",
    "print(classification_report(y_test, GBR_pred))\n",
    "print(\"Accuracy:\", accuracy_score(y_test, GBR_pred))\n",
    "GBC = accuracy_score(y_test, GBR_pred)"
   ]
  },
  {
   "cell_type": "code",
   "execution_count": 45,
   "metadata": {},
   "outputs": [
    {
     "name": "stdout",
     "output_type": "stream",
     "text": [
      "Classification Report:\n",
      "              precision    recall  f1-score   support\n",
      "\n",
      "           0       0.82      0.92      0.87     17704\n",
      "           1       0.83      0.67      0.74     10612\n",
      "\n",
      "    accuracy                           0.82     28316\n",
      "   macro avg       0.82      0.79      0.80     28316\n",
      "weighted avg       0.82      0.82      0.82     28316\n",
      "\n",
      "Accuracy: 0.8235626500918208\n"
     ]
    }
   ],
   "source": [
    "XGB = XGBClassifier()\n",
    "XGB_model = XGB.fit(X_train,y_train)\n",
    "XGB_pred = XGB_model.predict(X_test)\n",
    "# Evaluate the model\n",
    "print(\"Classification Report:\")\n",
    "print(classification_report(y_test, XGB_pred))\n",
    "print(\"Accuracy:\", accuracy_score(y_test, XGB_pred))\n",
    "XGBC = accuracy_score(y_test, XGB_pred)"
   ]
  },
  {
   "cell_type": "code",
   "execution_count": 46,
   "metadata": {},
   "outputs": [
    {
     "name": "stderr",
     "output_type": "stream",
     "text": [
      "C:\\Users\\PC\\anaconda3\\lib\\site-packages\\sklearn\\neighbors\\_classification.py:189: FutureWarning: Unlike other reduction functions (e.g. `skew`, `kurtosis`), the default behavior of `mode` typically preserves the axis it acts along. In SciPy 1.11.0, this behavior will change: the default value of `keepdims` will become False, the `axis` over which the statistic is taken will be eliminated, and the value None will no longer be accepted. Set `keepdims` to True or False to avoid this warning.\n",
      "  mode, _ = stats.mode(_y[neigh_ind, k], axis=1)\n"
     ]
    },
    {
     "data": {
      "text/plain": [
       "0.8422093516033338"
      ]
     },
     "execution_count": 46,
     "metadata": {},
     "output_type": "execute_result"
    }
   ],
   "source": [
    "model = VotingClassifier(estimators=[('RandomForestClassifier', Rd), ('KNeighborsClassifier', knn), ('DecisionTreeClassifier', LR), ('GradientBoostingClassifier', GBR),('XGBClassifier',XGB)], voting='hard')\n",
    "model.fit(X_train,y_train)\n",
    "model.score(X_test,y_test)"
   ]
  },
  {
   "cell_type": "code",
   "execution_count": 47,
   "metadata": {},
   "outputs": [
    {
     "name": "stdout",
     "output_type": "stream",
     "text": [
      "                        MODEL  Accuracy\n",
      "1      RandomForestClassifier  0.842351\n",
      "2        KNeighborsClassifier  0.811979\n",
      "3      DecisionTreeClassifier  0.834864\n",
      "4  GradientBoostingClassifier  0.795239\n",
      "5               XGBClassifier  0.823563\n"
     ]
    }
   ],
   "source": [
    "model_data =[['RandomForestClassifier', RF],\n",
    "             ['KNeighborsClassifier', KNC],\n",
    "             ['DecisionTreeClassifier', DC],\n",
    "             ['GradientBoostingClassifier', GBC],\n",
    "             ['XGBClassifier',XGBC]]\n",
    "\n",
    "indexes = [1,2,3,4,5]\n",
    "columns_name = ['MODEL', 'Accuracy']\n",
    "ife = pd.DataFrame(data = model_data,index = indexes, columns = columns_name )\n",
    "print(ife)"
   ]
  },
  {
   "cell_type": "markdown",
   "metadata": {},
   "source": [
    "Random Forest Classifier a atteint une précision d'environ 84,29 %, ce que je considère comme une bonne chose dans le contexte de l'analyse.\n",
    "\n"
   ]
  },
  {
   "cell_type": "code",
   "execution_count": 48,
   "metadata": {},
   "outputs": [],
   "source": [
    "# On récupère les importances pour chaque variable\n",
    "feature_importance = Rd.feature_importances_\n",
    "feature_names = X.columns"
   ]
  },
  {
   "cell_type": "code",
   "execution_count": 49,
   "metadata": {},
   "outputs": [
    {
     "data": {
      "text/html": [
       "<div>\n",
       "<style scoped>\n",
       "    .dataframe tbody tr th:only-of-type {\n",
       "        vertical-align: middle;\n",
       "    }\n",
       "\n",
       "    .dataframe tbody tr th {\n",
       "        vertical-align: top;\n",
       "    }\n",
       "\n",
       "    .dataframe thead th {\n",
       "        text-align: right;\n",
       "    }\n",
       "</style>\n",
       "<table border=\"1\" class=\"dataframe\">\n",
       "  <thead>\n",
       "    <tr style=\"text-align: right;\">\n",
       "      <th></th>\n",
       "      <th>Variable</th>\n",
       "      <th>Importance</th>\n",
       "    </tr>\n",
       "  </thead>\n",
       "  <tbody>\n",
       "    <tr>\n",
       "      <th>0</th>\n",
       "      <td>lead_time</td>\n",
       "      <td>0.40308</td>\n",
       "    </tr>\n",
       "    <tr>\n",
       "      <th>2</th>\n",
       "      <td>country</td>\n",
       "      <td>0.19669</td>\n",
       "    </tr>\n",
       "    <tr>\n",
       "      <th>6</th>\n",
       "      <td>deposit_type</td>\n",
       "      <td>0.167233</td>\n",
       "    </tr>\n",
       "    <tr>\n",
       "      <th>1</th>\n",
       "      <td>arrival_date_month</td>\n",
       "      <td>0.078208</td>\n",
       "    </tr>\n",
       "    <tr>\n",
       "      <th>3</th>\n",
       "      <td>market_segment</td>\n",
       "      <td>0.075396</td>\n",
       "    </tr>\n",
       "    <tr>\n",
       "      <th>7</th>\n",
       "      <td>customer_type</td>\n",
       "      <td>0.031847</td>\n",
       "    </tr>\n",
       "    <tr>\n",
       "      <th>5</th>\n",
       "      <td>reserved_room_type</td>\n",
       "      <td>0.031723</td>\n",
       "    </tr>\n",
       "    <tr>\n",
       "      <th>4</th>\n",
       "      <td>distribution_channel</td>\n",
       "      <td>0.015823</td>\n",
       "    </tr>\n",
       "  </tbody>\n",
       "</table>\n",
       "</div>"
      ],
      "text/plain": [
       "               Variable Importance\n",
       "0             lead_time    0.40308\n",
       "2               country    0.19669\n",
       "6          deposit_type   0.167233\n",
       "1    arrival_date_month   0.078208\n",
       "3        market_segment   0.075396\n",
       "7         customer_type   0.031847\n",
       "5    reserved_room_type   0.031723\n",
       "4  distribution_channel   0.015823"
      ]
     },
     "execution_count": 49,
     "metadata": {},
     "output_type": "execute_result"
    }
   ],
   "source": [
    "# On récupère les importances dans un DataFrame\n",
    "features_imp = pd.DataFrame(\n",
    "    data=np.asarray([X.columns, Rd.feature_importances_]).transpose(),\n",
    "    columns=['Variable', 'Importance']\n",
    ")\n",
    "# On tri les importances dans l'ordre décroissant\n",
    "features_imp = features_imp.sort_values('Importance', ascending=False)\n",
    "features_imp"
   ]
  },
  {
   "cell_type": "code",
   "execution_count": 50,
   "metadata": {},
   "outputs": [
    {
     "name": "stderr",
     "output_type": "stream",
     "text": [
      "<ipython-input-50-92fd9508f22b>:13: UserWarning: FixedFormatter should only be used together with FixedLocator\n",
      "  plt.gca().set_xticklabels(['{:,.0%}'.format(x) for x in np.linspace(0, 0.36, 10)], fontsize=18)\n"
     ]
    },
    {
     "data": {
      "image/png": "[encoded data removed]",
      "text/plain": [
       "<Figure size 1080x720 with 1 Axes>"
      ]
     },
     "metadata": {
      "needs_background": "light"
     },
     "output_type": "display_data"
    }
   ],
   "source": [
    "plt.figure(figsize=(15, 10))\n",
    "\n",
    "graph = sns.barplot(x='Importance', y='Variable', data=features_imp.iloc[:10])\n",
    "for p in graph.patches:\n",
    "    graph.annotate(\n",
    "        '{:2.1f}%'.format(p.get_width() * 100), (p.get_width() + 0.005, p.get_y() + p.get_height() / 2),\n",
    "        ha='left', va='center',\n",
    "        color= 'black',\n",
    "        fontsize=14\n",
    "    )\n",
    "\n",
    "plt.gca().set_xlim(0, 0.36)\n",
    "plt.gca().set_xticklabels(['{:,.0%}'.format(x) for x in np.linspace(0, 0.36, 10)], fontsize=18)\n",
    "plt.title(\"Importance de chaque variable (en %)\", fontsize=16)\n",
    "plt.show()"
   ]
  },
  {
   "cell_type": "markdown",
   "metadata": {},
   "source": [
    "# Convertir en %"
   ]
  },
  {
   "cell_type": "code",
   "execution_count": 51,
   "metadata": {},
   "outputs": [
    {
     "data": {
      "text/html": [
       "<div>\n",
       "<style scoped>\n",
       "    .dataframe tbody tr th:only-of-type {\n",
       "        vertical-align: middle;\n",
       "    }\n",
       "\n",
       "    .dataframe tbody tr th {\n",
       "        vertical-align: top;\n",
       "    }\n",
       "\n",
       "    .dataframe thead th {\n",
       "        text-align: right;\n",
       "    }\n",
       "</style>\n",
       "<table border=\"1\" class=\"dataframe\">\n",
       "  <thead>\n",
       "    <tr style=\"text-align: right;\">\n",
       "      <th></th>\n",
       "      <th>Variable</th>\n",
       "      <th>Importance</th>\n",
       "    </tr>\n",
       "  </thead>\n",
       "  <tbody>\n",
       "    <tr>\n",
       "      <th>0</th>\n",
       "      <td>lead_time</td>\n",
       "      <td>40.31</td>\n",
       "    </tr>\n",
       "    <tr>\n",
       "      <th>1</th>\n",
       "      <td>country</td>\n",
       "      <td>19.67</td>\n",
       "    </tr>\n",
       "    <tr>\n",
       "      <th>2</th>\n",
       "      <td>deposit_type</td>\n",
       "      <td>16.72</td>\n",
       "    </tr>\n",
       "    <tr>\n",
       "      <th>3</th>\n",
       "      <td>arrival_date_month</td>\n",
       "      <td>7.82</td>\n",
       "    </tr>\n",
       "    <tr>\n",
       "      <th>4</th>\n",
       "      <td>market_segment</td>\n",
       "      <td>7.54</td>\n",
       "    </tr>\n",
       "    <tr>\n",
       "      <th>5</th>\n",
       "      <td>customer_type</td>\n",
       "      <td>3.18</td>\n",
       "    </tr>\n",
       "    <tr>\n",
       "      <th>6</th>\n",
       "      <td>reserved_room_type</td>\n",
       "      <td>3.17</td>\n",
       "    </tr>\n",
       "    <tr>\n",
       "      <th>7</th>\n",
       "      <td>distribution_channel</td>\n",
       "      <td>1.58</td>\n",
       "    </tr>\n",
       "  </tbody>\n",
       "</table>\n",
       "</div>"
      ],
      "text/plain": [
       "               Variable  Importance\n",
       "0             lead_time       40.31\n",
       "1               country       19.67\n",
       "2          deposit_type       16.72\n",
       "3    arrival_date_month        7.82\n",
       "4        market_segment        7.54\n",
       "5         customer_type        3.18\n",
       "6    reserved_room_type        3.17\n",
       "7  distribution_channel        1.58"
      ]
     },
     "execution_count": 51,
     "metadata": {},
     "output_type": "execute_result"
    }
   ],
   "source": [
    "Imp = features_imp\n",
    "#Convertir la colonne importance en pourcentage\n",
    "Imp['Importance'] = Imp['Importance']*100\n",
    "#Convertir la colonne Importance en Float\n",
    "Imp['Importance'] = Imp['Importance'].astype(float, errors=\"raise\")\n",
    "#Arrondir la colonne Importance a 2 chiffres après la virgule\n",
    "Imp['Importance'] = round(Imp['Importance'],2)\n",
    "#Réindexer le dataframe\n",
    "Imp = Imp.reset_index()\n",
    "#Supprimer la colonne Index\n",
    "Imp = Imp.drop('index', axis=1)\n",
    "Imp"
   ]
  },
  {
   "cell_type": "markdown",
   "metadata": {},
   "source": [
    "# Analyse d'importances pour chaque variable"
   ]
  },
  {
   "cell_type": "markdown",
   "metadata": {},
   "source": [
    "lead_time (Délai) 40.3 % : cette fonctionnalité revêt la plus haute importance dans la prévision des annulations. Cela suggère que le temps écoulé entre la réservation et la date réelle du séjour joue un rôle important. Les clients qui réservent longtemps à l’avance peuvent avoir des comportements d’annulation différents de ceux qui réservent à la dernière minute."
   ]
  },
  {
   "cell_type": "markdown",
   "metadata": {},
   "source": [
    "Country (Pays) 19.7% : L'origine des invités, représentée par la variable pays, est le deuxième facteur le plus influent. Différents pays peuvent présenter des modèles de réservation et d’annulation distincts."
   ]
  },
  {
   "cell_type": "markdown",
   "metadata": {},
   "source": [
    "deposit_type (Type de dépôt) 16.7 % : Le type de dépôt effectué lors de la réservation est également un indicateur important."
   ]
  },
  {
   "cell_type": "markdown",
   "metadata": {},
   "source": [
    "arrival_date_month (Mois de la date d'arrivée) 7.8 % : Le mois de l'année où les invités arrivent est également une caractéristique essentielle. Les variations saisonnières et les événements peuvent avoir un impact sur les taux d'annulation."
   ]
  },
  {
   "cell_type": "markdown",
   "metadata": {},
   "source": [
    "market_segment (Segment de marché) 7.5 % : Le segment de marché d'où provient la réservation revêt une importance considérable. Différents segments (par exemple, les voyageurs d'affaires, les groupes et les voyageurs individuels) peuvent avoir des tendances d'annulation différentes."
   ]
  },
  {
   "cell_type": "markdown",
   "metadata": {},
   "source": [
    "customer_type (Type de client) 3.2% : Le type de client (par exemple, passager, groupe, etc.) est une fonctionnalité précieuse. Différents segments de clientèle peuvent présenter des comportements d'annulation différents."
   ]
  },
  {
   "cell_type": "markdown",
   "metadata": {},
   "source": [
    "reserved_room_type (Type de chambre réservée) 3.2% : Le type de chambre réservée est un facteur clé. Les clients réservant des types de chambres spécifiques peuvent être plus ou moins susceptibles d’annuler."
   ]
  },
  {
   "cell_type": "markdown",
   "metadata": {},
   "source": [
    "distribution_channel (Type de dépôt) 1.6% : Le type de dépôt effectué lors de la réservation est également un indicateur important."
   ]
  },
  {
   "cell_type": "code",
   "execution_count": 52,
   "metadata": {},
   "outputs": [
    {
     "name": "stdout",
     "output_type": "stream",
     "text": [
      "La variable lead_time a une importance de 40.31%\n",
      "La variable country a une importance de 19.67%\n",
      "La variable deposit_type a une importance de 16.72%\n",
      "La variable arrival_date_month a une importance de 7.82%\n",
      "La variable market_segment a une importance de 7.54%\n",
      "La variable customer_type a une importance de 3.18%\n",
      "La variable reserved_room_type a une importance de 3.17%\n",
      "La variable distribution_channel a une importance de 1.58%\n"
     ]
    }
   ],
   "source": [
    "for i, row in Imp.iterrows():\n",
    "    print(f\"La variable {row['Variable']} a une importance de {row['Importance']}%\")\n"
   ]
  },
  {
   "cell_type": "markdown",
   "metadata": {},
   "source": [
    "print(f\"La variable {Imp.loc[0, 'Variable']}. est de {Imp.loc[0, 'Importance']} %, cette fonctionnalité revêt la plus haute importance dans la prévision des annulations. Cela suggère que le temps écoulé entre la réservation et la date réelle du séjour joue un rôle important. Les clients qui réservent longtemps à l’avance peuvent avoir des comportements d’annulation différents de ceux qui réservent à la dernière minute. \")"
   ]
  },
  {
   "cell_type": "code",
   "execution_count": null,
   "metadata": {},
   "outputs": [],
   "source": []
  }
 ],
 "metadata": {
  "kernelspec": {
   "display_name": "Python 3",
   "language": "python",
   "name": "python3"
  },
  "language_info": {
   "codemirror_mode": {
    "name": "ipython",
    "version": 3
   },
   "file_extension": ".py",
   "mimetype": "text/x-python",
   "name": "python",
   "nbconvert_exporter": "python",
   "pygments_lexer": "ipython3",
   "version": "3.8.5"
  }
 },
 "nbformat": 4,
 "nbformat_minor": 4
}
